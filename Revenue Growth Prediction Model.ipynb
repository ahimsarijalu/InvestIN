{
  "cells": [
    {
      "cell_type": "markdown",
      "metadata": {
        "id": "ayth3YCiVsNZ"
      },
      "source": [
        "###Import Dataset"
      ]
    },
    {
      "cell_type": "code",
      "execution_count": 1,
      "metadata": {
        "colab": {
          "base_uri": "https://localhost:8080/",
          "height": 90,
          "resources": {
            "http://localhost:8080/nbextensions/google.colab/files.js": {
              "data": "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",
              "headers": [
                [
                  "content-type",
                  "application/javascript"
                ]
              ],
              "ok": true,
              "status": 200,
              "status_text": ""
            }
          }
        },
        "id": "6HNBGlw8hlve",
        "outputId": "9047360d-a5f4-4fa4-85b3-b29a68d9512f"
      },
      "outputs": [
        {
          "output_type": "display_data",
          "data": {
            "text/plain": [
              "<IPython.core.display.HTML object>"
            ],
            "text/html": [
              "\n",
              "     <input type=\"file\" id=\"files-b9b9e614-406e-4a1d-8da5-88ec1c2ab827\" name=\"files[]\" multiple disabled\n",
              "        style=\"border:none\" />\n",
              "     <output id=\"result-b9b9e614-406e-4a1d-8da5-88ec1c2ab827\">\n",
              "      Upload widget is only available when the cell has been executed in the\n",
              "      current browser session. Please rerun this cell to enable.\n",
              "      </output>\n",
              "      <script src=\"/nbextensions/google.colab/files.js\"></script> "
            ]
          },
          "metadata": {}
        },
        {
          "output_type": "stream",
          "name": "stdout",
          "text": [
            "Saving kaggle.json to kaggle.json\n"
          ]
        },
        {
          "output_type": "execute_result",
          "data": {
            "text/plain": [
              "{'kaggle.json': b'{\"username\":\"wintersbae\",\"key\":\"55045f5bfb861c2c41d471223daa8279\"}'}"
            ]
          },
          "metadata": {},
          "execution_count": 1
        }
      ],
      "source": [
        "from google.colab import files\n",
        "\n",
        "files.upload()"
      ]
    },
    {
      "cell_type": "code",
      "execution_count": 2,
      "metadata": {
        "colab": {
          "base_uri": "https://localhost:8080/"
        },
        "id": "S7LnZMOJivpG",
        "outputId": "1bb26441-bb4e-4099-cbe5-1cbcef4b18b6"
      },
      "outputs": [
        {
          "output_type": "stream",
          "name": "stdout",
          "text": [
            "Looking in indexes: https://pypi.org/simple, https://us-python.pkg.dev/colab-wheels/public/simple/\n",
            "Requirement already satisfied: kaggle in /usr/local/lib/python3.7/dist-packages (1.5.12)\n",
            "Requirement already satisfied: urllib3 in /usr/local/lib/python3.7/dist-packages (from kaggle) (1.24.3)\n",
            "Requirement already satisfied: tqdm in /usr/local/lib/python3.7/dist-packages (from kaggle) (4.64.0)\n",
            "Requirement already satisfied: requests in /usr/local/lib/python3.7/dist-packages (from kaggle) (2.23.0)\n",
            "Requirement already satisfied: certifi in /usr/local/lib/python3.7/dist-packages (from kaggle) (2022.5.18.1)\n",
            "Requirement already satisfied: python-dateutil in /usr/local/lib/python3.7/dist-packages (from kaggle) (2.8.2)\n",
            "Requirement already satisfied: six>=1.10 in /usr/local/lib/python3.7/dist-packages (from kaggle) (1.15.0)\n",
            "Requirement already satisfied: python-slugify in /usr/local/lib/python3.7/dist-packages (from kaggle) (6.1.2)\n",
            "Requirement already satisfied: text-unidecode>=1.3 in /usr/local/lib/python3.7/dist-packages (from python-slugify->kaggle) (1.3)\n",
            "Requirement already satisfied: idna<3,>=2.5 in /usr/local/lib/python3.7/dist-packages (from requests->kaggle) (2.10)\n",
            "Requirement already satisfied: chardet<4,>=3.0.2 in /usr/local/lib/python3.7/dist-packages (from requests->kaggle) (3.0.4)\n",
            "rm: cannot remove '/root/.kaggle': No such file or directory\n"
          ]
        }
      ],
      "source": [
        "!pip install kaggle\n",
        "!rm -r ~/.kaggle\n",
        "!mkdir ~/.kaggle\n",
        "!cp /content/kaggle.json ~/.kaggle/kaggle.json\n",
        "!chmod 600 ~/.kaggle/kaggle.json"
      ]
    },
    {
      "cell_type": "code",
      "execution_count": 3,
      "metadata": {
        "colab": {
          "base_uri": "https://localhost:8080/"
        },
        "id": "6RVwJFZWhbig",
        "outputId": "15af6b11-cb86-493f-ead5-bfa430a1993c"
      },
      "outputs": [
        {
          "output_type": "stream",
          "name": "stdout",
          "text": [
            "Downloading 200-financial-indicators-of-us-stocks-20142018.zip to /content\n",
            " 67% 10.0M/14.8M [00:00<00:00, 39.6MB/s]\n",
            "100% 14.8M/14.8M [00:00<00:00, 42.7MB/s]\n"
          ]
        }
      ],
      "source": [
        "!kaggle datasets download -d cnic92/200-financial-indicators-of-us-stocks-20142018"
      ]
    },
    {
      "cell_type": "code",
      "execution_count": 4,
      "metadata": {
        "colab": {
          "base_uri": "https://localhost:8080/"
        },
        "id": "NxYZtN6Wh3eu",
        "outputId": "fb54f154-4b7b-404e-c9ef-3e8161124e8a"
      },
      "outputs": [
        {
          "output_type": "stream",
          "name": "stdout",
          "text": [
            "200-financial-indicators-of-us-stocks-20142018.zip  kaggle.json  \u001b[0m\u001b[01;34msample_data\u001b[0m/\n"
          ]
        }
      ],
      "source": [
        "ls"
      ]
    },
    {
      "cell_type": "code",
      "execution_count": 5,
      "metadata": {
        "colab": {
          "base_uri": "https://localhost:8080/"
        },
        "id": "ymkYbg21i_En",
        "outputId": "88b2aa86-ddb6-4259-e7ee-7f075c847d41"
      },
      "outputs": [
        {
          "output_type": "stream",
          "name": "stdout",
          "text": [
            "Archive:  200-financial-indicators-of-us-stocks-20142018.zip\n",
            "  inflating: 2014_Financial_Data.csv  \n",
            "  inflating: 2015_Financial_Data.csv  \n",
            "  inflating: 2016_Financial_Data.csv  \n",
            "  inflating: 2017_Financial_Data.csv  \n",
            "  inflating: 2018_Financial_Data.csv  \n"
          ]
        }
      ],
      "source": [
        "!unzip \\*.zip  && rm *.zip"
      ]
    },
    {
      "cell_type": "code",
      "execution_count": 199,
      "metadata": {
        "colab": {
          "base_uri": "https://localhost:8080/",
          "height": 386
        },
        "id": "k1tXtNxug1x_",
        "outputId": "3a13a640-659e-4568-b34f-418cf76d9d3e"
      },
      "outputs": [
        {
          "output_type": "execute_result",
          "data": {
            "text/plain": [
              "        Revenue  Revenue Growth  Cost of Revenue  Gross Profit  R&D Expenses  \\\n",
              "0  9.450700e+10          0.1115     0.000000e+00  9.450700e+10  0.000000e+00   \n",
              "1  1.414400e+10          0.0320     7.288000e+09  6.856000e+09  0.000000e+00   \n",
              "2  7.084800e+10          0.1289     2.711100e+10  4.373700e+10  1.354300e+10   \n",
              "3  3.039100e+10          0.4955     1.250000e+10  1.789100e+10  2.141000e+09   \n",
              "4  1.216150e+11          0.0285     9.546100e+10  2.615400e+10  0.000000e+00   \n",
              "\n",
              "   SG&A Expense  Operating Expenses  Operating Income  Interest Expense  \\\n",
              "0  6.482200e+10        7.549800e+10      1.900900e+10      3.542000e+09   \n",
              "1  6.010000e+08        3.062000e+09      3.794000e+09      1.917000e+09   \n",
              "2  6.750000e+09        2.042100e+10      2.331600e+10     -1.260000e+08   \n",
              "3  8.130000e+08        2.897000e+09      1.499400e+10      3.420000e+08   \n",
              "4  1.811100e+10        4.071100e+10     -1.455700e+10      5.059000e+09   \n",
              "\n",
              "   Earnings before Tax  ...  Receivables growth  Inventory Growth  \\\n",
              "0         1.511100e+10  ...              0.2570            0.0000   \n",
              "1         2.196000e+09  ...              0.0345           -0.0920   \n",
              "2         2.331700e+10  ...              0.1989            0.0387   \n",
              "3         1.430300e+10  ...              0.4573            0.1511   \n",
              "4        -2.177200e+10  ...             -0.2781           -0.2892   \n",
              "\n",
              "   Asset Growth  Book Value per Share Growth  Debt Growth  R&D Expense Growth  \\\n",
              "0        0.3426                       0.0722       0.7309              0.0000   \n",
              "1       -0.0024                       0.0076      -0.0137              0.0000   \n",
              "2        0.0382                       0.1014      -0.0169              0.0390   \n",
              "3        0.2275                       0.6395      -0.5841              0.1738   \n",
              "4       -0.1575                      -0.4487      -0.2297              0.0000   \n",
              "\n",
              "   SG&A Expenses Growth             Sector  2019 PRICE VAR [%]  Class  \n",
              "0                0.1308  Consumer Cyclical           32.794573      1  \n",
              "1               -0.1265             Energy           40.588068      1  \n",
              "2               -0.0942         Technology           30.295514      1  \n",
              "3                0.0942         Technology           64.213737      1  \n",
              "4                0.0308        Industrials           44.757840      1  \n",
              "\n",
              "[5 rows x 224 columns]"
            ],
            "text/html": [
              "\n",
              "  <div id=\"df-b16190fb-89fa-4e88-810d-a81377e9d1e1\">\n",
              "    <div class=\"colab-df-container\">\n",
              "      <div>\n",
              "<style scoped>\n",
              "    .dataframe tbody tr th:only-of-type {\n",
              "        vertical-align: middle;\n",
              "    }\n",
              "\n",
              "    .dataframe tbody tr th {\n",
              "        vertical-align: top;\n",
              "    }\n",
              "\n",
              "    .dataframe thead th {\n",
              "        text-align: right;\n",
              "    }\n",
              "</style>\n",
              "<table border=\"1\" class=\"dataframe\">\n",
              "  <thead>\n",
              "    <tr style=\"text-align: right;\">\n",
              "      <th></th>\n",
              "      <th>Revenue</th>\n",
              "      <th>Revenue Growth</th>\n",
              "      <th>Cost of Revenue</th>\n",
              "      <th>Gross Profit</th>\n",
              "      <th>R&amp;D Expenses</th>\n",
              "      <th>SG&amp;A Expense</th>\n",
              "      <th>Operating Expenses</th>\n",
              "      <th>Operating Income</th>\n",
              "      <th>Interest Expense</th>\n",
              "      <th>Earnings before Tax</th>\n",
              "      <th>...</th>\n",
              "      <th>Receivables growth</th>\n",
              "      <th>Inventory Growth</th>\n",
              "      <th>Asset Growth</th>\n",
              "      <th>Book Value per Share Growth</th>\n",
              "      <th>Debt Growth</th>\n",
              "      <th>R&amp;D Expense Growth</th>\n",
              "      <th>SG&amp;A Expenses Growth</th>\n",
              "      <th>Sector</th>\n",
              "      <th>2019 PRICE VAR [%]</th>\n",
              "      <th>Class</th>\n",
              "    </tr>\n",
              "  </thead>\n",
              "  <tbody>\n",
              "    <tr>\n",
              "      <th>0</th>\n",
              "      <td>9.450700e+10</td>\n",
              "      <td>0.1115</td>\n",
              "      <td>0.000000e+00</td>\n",
              "      <td>9.450700e+10</td>\n",
              "      <td>0.000000e+00</td>\n",
              "      <td>6.482200e+10</td>\n",
              "      <td>7.549800e+10</td>\n",
              "      <td>1.900900e+10</td>\n",
              "      <td>3.542000e+09</td>\n",
              "      <td>1.511100e+10</td>\n",
              "      <td>...</td>\n",
              "      <td>0.2570</td>\n",
              "      <td>0.0000</td>\n",
              "      <td>0.3426</td>\n",
              "      <td>0.0722</td>\n",
              "      <td>0.7309</td>\n",
              "      <td>0.0000</td>\n",
              "      <td>0.1308</td>\n",
              "      <td>Consumer Cyclical</td>\n",
              "      <td>32.794573</td>\n",
              "      <td>1</td>\n",
              "    </tr>\n",
              "    <tr>\n",
              "      <th>1</th>\n",
              "      <td>1.414400e+10</td>\n",
              "      <td>0.0320</td>\n",
              "      <td>7.288000e+09</td>\n",
              "      <td>6.856000e+09</td>\n",
              "      <td>0.000000e+00</td>\n",
              "      <td>6.010000e+08</td>\n",
              "      <td>3.062000e+09</td>\n",
              "      <td>3.794000e+09</td>\n",
              "      <td>1.917000e+09</td>\n",
              "      <td>2.196000e+09</td>\n",
              "      <td>...</td>\n",
              "      <td>0.0345</td>\n",
              "      <td>-0.0920</td>\n",
              "      <td>-0.0024</td>\n",
              "      <td>0.0076</td>\n",
              "      <td>-0.0137</td>\n",
              "      <td>0.0000</td>\n",
              "      <td>-0.1265</td>\n",
              "      <td>Energy</td>\n",
              "      <td>40.588068</td>\n",
              "      <td>1</td>\n",
              "    </tr>\n",
              "    <tr>\n",
              "      <th>2</th>\n",
              "      <td>7.084800e+10</td>\n",
              "      <td>0.1289</td>\n",
              "      <td>2.711100e+10</td>\n",
              "      <td>4.373700e+10</td>\n",
              "      <td>1.354300e+10</td>\n",
              "      <td>6.750000e+09</td>\n",
              "      <td>2.042100e+10</td>\n",
              "      <td>2.331600e+10</td>\n",
              "      <td>-1.260000e+08</td>\n",
              "      <td>2.331700e+10</td>\n",
              "      <td>...</td>\n",
              "      <td>0.1989</td>\n",
              "      <td>0.0387</td>\n",
              "      <td>0.0382</td>\n",
              "      <td>0.1014</td>\n",
              "      <td>-0.0169</td>\n",
              "      <td>0.0390</td>\n",
              "      <td>-0.0942</td>\n",
              "      <td>Technology</td>\n",
              "      <td>30.295514</td>\n",
              "      <td>1</td>\n",
              "    </tr>\n",
              "    <tr>\n",
              "      <th>3</th>\n",
              "      <td>3.039100e+10</td>\n",
              "      <td>0.4955</td>\n",
              "      <td>1.250000e+10</td>\n",
              "      <td>1.789100e+10</td>\n",
              "      <td>2.141000e+09</td>\n",
              "      <td>8.130000e+08</td>\n",
              "      <td>2.897000e+09</td>\n",
              "      <td>1.499400e+10</td>\n",
              "      <td>3.420000e+08</td>\n",
              "      <td>1.430300e+10</td>\n",
              "      <td>...</td>\n",
              "      <td>0.4573</td>\n",
              "      <td>0.1511</td>\n",
              "      <td>0.2275</td>\n",
              "      <td>0.6395</td>\n",
              "      <td>-0.5841</td>\n",
              "      <td>0.1738</td>\n",
              "      <td>0.0942</td>\n",
              "      <td>Technology</td>\n",
              "      <td>64.213737</td>\n",
              "      <td>1</td>\n",
              "    </tr>\n",
              "    <tr>\n",
              "      <th>4</th>\n",
              "      <td>1.216150e+11</td>\n",
              "      <td>0.0285</td>\n",
              "      <td>9.546100e+10</td>\n",
              "      <td>2.615400e+10</td>\n",
              "      <td>0.000000e+00</td>\n",
              "      <td>1.811100e+10</td>\n",
              "      <td>4.071100e+10</td>\n",
              "      <td>-1.455700e+10</td>\n",
              "      <td>5.059000e+09</td>\n",
              "      <td>-2.177200e+10</td>\n",
              "      <td>...</td>\n",
              "      <td>-0.2781</td>\n",
              "      <td>-0.2892</td>\n",
              "      <td>-0.1575</td>\n",
              "      <td>-0.4487</td>\n",
              "      <td>-0.2297</td>\n",
              "      <td>0.0000</td>\n",
              "      <td>0.0308</td>\n",
              "      <td>Industrials</td>\n",
              "      <td>44.757840</td>\n",
              "      <td>1</td>\n",
              "    </tr>\n",
              "  </tbody>\n",
              "</table>\n",
              "<p>5 rows × 224 columns</p>\n",
              "</div>\n",
              "      <button class=\"colab-df-convert\" onclick=\"convertToInteractive('df-b16190fb-89fa-4e88-810d-a81377e9d1e1')\"\n",
              "              title=\"Convert this dataframe to an interactive table.\"\n",
              "              style=\"display:none;\">\n",
              "        \n",
              "  <svg xmlns=\"http://www.w3.org/2000/svg\" height=\"24px\"viewBox=\"0 0 24 24\"\n",
              "       width=\"24px\">\n",
              "    <path d=\"M0 0h24v24H0V0z\" fill=\"none\"/>\n",
              "    <path d=\"M18.56 5.44l.94 2.06.94-2.06 2.06-.94-2.06-.94-.94-2.06-.94 2.06-2.06.94zm-11 1L8.5 8.5l.94-2.06 2.06-.94-2.06-.94L8.5 2.5l-.94 2.06-2.06.94zm10 10l.94 2.06.94-2.06 2.06-.94-2.06-.94-.94-2.06-.94 2.06-2.06.94z\"/><path d=\"M17.41 7.96l-1.37-1.37c-.4-.4-.92-.59-1.43-.59-.52 0-1.04.2-1.43.59L10.3 9.45l-7.72 7.72c-.78.78-.78 2.05 0 2.83L4 21.41c.39.39.9.59 1.41.59.51 0 1.02-.2 1.41-.59l7.78-7.78 2.81-2.81c.8-.78.8-2.07 0-2.86zM5.41 20L4 18.59l7.72-7.72 1.47 1.35L5.41 20z\"/>\n",
              "  </svg>\n",
              "      </button>\n",
              "      \n",
              "  <style>\n",
              "    .colab-df-container {\n",
              "      display:flex;\n",
              "      flex-wrap:wrap;\n",
              "      gap: 12px;\n",
              "    }\n",
              "\n",
              "    .colab-df-convert {\n",
              "      background-color: #E8F0FE;\n",
              "      border: none;\n",
              "      border-radius: 50%;\n",
              "      cursor: pointer;\n",
              "      display: none;\n",
              "      fill: #1967D2;\n",
              "      height: 32px;\n",
              "      padding: 0 0 0 0;\n",
              "      width: 32px;\n",
              "    }\n",
              "\n",
              "    .colab-df-convert:hover {\n",
              "      background-color: #E2EBFA;\n",
              "      box-shadow: 0px 1px 2px rgba(60, 64, 67, 0.3), 0px 1px 3px 1px rgba(60, 64, 67, 0.15);\n",
              "      fill: #174EA6;\n",
              "    }\n",
              "\n",
              "    [theme=dark] .colab-df-convert {\n",
              "      background-color: #3B4455;\n",
              "      fill: #D2E3FC;\n",
              "    }\n",
              "\n",
              "    [theme=dark] .colab-df-convert:hover {\n",
              "      background-color: #434B5C;\n",
              "      box-shadow: 0px 1px 3px 1px rgba(0, 0, 0, 0.15);\n",
              "      filter: drop-shadow(0px 1px 2px rgba(0, 0, 0, 0.3));\n",
              "      fill: #FFFFFF;\n",
              "    }\n",
              "  </style>\n",
              "\n",
              "      <script>\n",
              "        const buttonEl =\n",
              "          document.querySelector('#df-b16190fb-89fa-4e88-810d-a81377e9d1e1 button.colab-df-convert');\n",
              "        buttonEl.style.display =\n",
              "          google.colab.kernel.accessAllowed ? 'block' : 'none';\n",
              "\n",
              "        async function convertToInteractive(key) {\n",
              "          const element = document.querySelector('#df-b16190fb-89fa-4e88-810d-a81377e9d1e1');\n",
              "          const dataTable =\n",
              "            await google.colab.kernel.invokeFunction('convertToInteractive',\n",
              "                                                     [key], {});\n",
              "          if (!dataTable) return;\n",
              "\n",
              "          const docLinkHtml = 'Like what you see? Visit the ' +\n",
              "            '<a target=\"_blank\" href=https://colab.research.google.com/notebooks/data_table.ipynb>data table notebook</a>'\n",
              "            + ' to learn more about interactive tables.';\n",
              "          element.innerHTML = '';\n",
              "          dataTable['output_type'] = 'display_data';\n",
              "          await google.colab.output.renderOutput(dataTable, element);\n",
              "          const docLink = document.createElement('div');\n",
              "          docLink.innerHTML = docLinkHtml;\n",
              "          element.appendChild(docLink);\n",
              "        }\n",
              "      </script>\n",
              "    </div>\n",
              "  </div>\n",
              "  "
            ]
          },
          "metadata": {},
          "execution_count": 199
        }
      ],
      "source": [
        "import pandas as pd\n",
        "df = pd.read_csv('2018_Financial_Data.csv')\n",
        "df.drop(df.columns[0], axis=1, inplace=True)\n",
        "df.head()"
      ]
    },
    {
      "cell_type": "code",
      "execution_count": 200,
      "metadata": {
        "id": "4d-bEULtsWkX"
      },
      "outputs": [],
      "source": [
        "class_col = df.pop('Class')"
      ]
    },
    {
      "cell_type": "code",
      "execution_count": 201,
      "metadata": {
        "id": "5ecPsMIANCr9"
      },
      "outputs": [],
      "source": [
        "sec_col = df.pop('Sector')"
      ]
    },
    {
      "cell_type": "markdown",
      "metadata": {
        "id": "CNHuvWR-WIvl"
      },
      "source": [
        "###Check Missing Values"
      ]
    },
    {
      "cell_type": "code",
      "execution_count": 202,
      "metadata": {
        "colab": {
          "base_uri": "https://localhost:8080/"
        },
        "id": "s-VHRk7vN5F2",
        "outputId": "5d2b2d50-ddad-491d-a534-4863c133bed3"
      },
      "outputs": [
        {
          "output_type": "execute_result",
          "data": {
            "text/plain": [
              "Revenue                         46\n",
              "Revenue Growth                 139\n",
              "Cost of Revenue                185\n",
              "Gross Profit                    64\n",
              "R&D Expenses                   237\n",
              "                              ... \n",
              "Book Value per Share Growth    271\n",
              "Debt Growth                    264\n",
              "R&D Expense Growth             259\n",
              "SG&A Expenses Growth           248\n",
              "2019 PRICE VAR [%]               0\n",
              "Length: 222, dtype: int64"
            ]
          },
          "metadata": {},
          "execution_count": 202
        }
      ],
      "source": [
        "df.isna().sum()"
      ]
    },
    {
      "cell_type": "code",
      "execution_count": 203,
      "metadata": {
        "id": "CHPN3H3bPhcc"
      },
      "outputs": [],
      "source": [
        "df = df.drop(df[df['Revenue Growth'].isna()].index)"
      ]
    },
    {
      "cell_type": "code",
      "execution_count": 204,
      "metadata": {
        "colab": {
          "base_uri": "https://localhost:8080/"
        },
        "id": "Y2tYn-JMPwEF",
        "outputId": "da57b72a-c0a9-461a-dd7e-3ecb66f7a25a"
      },
      "outputs": [
        {
          "output_type": "execute_result",
          "data": {
            "text/plain": [
              "cashConversionCycle                           4247\n",
              "operatingCycle                                4247\n",
              "shortTermCoverageRatios                       1791\n",
              "10Y Shareholders Equity Growth (per Share)    1557\n",
              "priceEarningsToGrowthRatio                    1526\n",
              "                                              ... \n",
              "Gross Margin                                     0\n",
              "Earnings before Tax                              0\n",
              "Operating Income                                 0\n",
              "Gross Profit                                     0\n",
              "2019 PRICE VAR [%]                               0\n",
              "Length: 222, dtype: int64"
            ]
          },
          "metadata": {},
          "execution_count": 204
        }
      ],
      "source": [
        "df.isna().sum().sort_values(ascending=False)"
      ]
    },
    {
      "cell_type": "code",
      "execution_count": 205,
      "metadata": {
        "colab": {
          "base_uri": "https://localhost:8080/"
        },
        "id": "DPrzdmKaaXta",
        "outputId": "e42dbf60-4a6c-4761-940d-87bc306c1e8e"
      },
      "outputs": [
        {
          "output_type": "stream",
          "name": "stdout",
          "text": [
            "[ 1. nan]\n"
          ]
        }
      ],
      "source": [
        "import numpy as np\n",
        "\n",
        "print(np.unique(df['operatingProfitMargin'].values))"
      ]
    },
    {
      "cell_type": "code",
      "execution_count": 206,
      "metadata": {
        "id": "c5rsU93gS0qz"
      },
      "outputs": [],
      "source": [
        "df = df.drop(['cashConversionCycle', 'operatingCycle', 'operatingProfitMargin'], axis=1)"
      ]
    },
    {
      "cell_type": "code",
      "execution_count": 207,
      "metadata": {
        "colab": {
          "base_uri": "https://localhost:8080/"
        },
        "id": "gz2zDZKeTEjK",
        "outputId": "48dccb3f-c52a-47d5-cac1-704c1cda9259"
      },
      "outputs": [
        {
          "output_type": "execute_result",
          "data": {
            "text/plain": [
              "shortTermCoverageRatios                       1791\n",
              "10Y Shareholders Equity Growth (per Share)    1557\n",
              "priceEarningsToGrowthRatio                    1526\n",
              "dividendPayoutRatio                           1526\n",
              "10Y Net Income Growth (per Share)             1514\n",
              "                                              ... \n",
              "Gross Margin                                     0\n",
              "Earnings before Tax                              0\n",
              "Operating Income                                 0\n",
              "Gross Profit                                     0\n",
              "2019 PRICE VAR [%]                               0\n",
              "Length: 219, dtype: int64"
            ]
          },
          "metadata": {},
          "execution_count": 207
        }
      ],
      "source": [
        "df.isna().sum().sort_values(ascending=False)"
      ]
    },
    {
      "cell_type": "code",
      "execution_count": 208,
      "metadata": {
        "colab": {
          "base_uri": "https://localhost:8080/"
        },
        "id": "OzKRAWTVYcbn",
        "outputId": "c368d4fb-3f56-44d0-a8c2-cc30c1ac5044"
      },
      "outputs": [
        {
          "output_type": "stream",
          "name": "stdout",
          "text": [
            "0.1885\n"
          ]
        }
      ],
      "source": [
        "Q1 = df['Revenue Growth'].quantile(0.25)\n",
        "Q3 = df['Revenue Growth'].quantile(0.75)\n",
        "\n",
        "IQR = Q3 - Q1\n",
        "print(IQR)"
      ]
    },
    {
      "cell_type": "code",
      "execution_count": 209,
      "metadata": {
        "id": "Wyi12T5TYliZ"
      },
      "outputs": [],
      "source": [
        "df_clean = df.copy()\n",
        "df_clean = df_clean[df_clean['Revenue Growth'] > (Q1 - 1.5 * IQR)]\n",
        "df_clean = df_clean[df_clean['Revenue Growth'] < (Q3 + 1.5 * IQR)]"
      ]
    },
    {
      "cell_type": "code",
      "execution_count": 210,
      "metadata": {
        "colab": {
          "base_uri": "https://localhost:8080/"
        },
        "id": "Mq2CNez1YsTx",
        "outputId": "878dcc46-4a40-403a-f32d-3443c3e97ed4"
      },
      "outputs": [
        {
          "output_type": "execute_result",
          "data": {
            "text/plain": [
              "(4253, 219)"
            ]
          },
          "metadata": {},
          "execution_count": 210
        }
      ],
      "source": [
        "df.shape"
      ]
    },
    {
      "cell_type": "code",
      "execution_count": 211,
      "metadata": {
        "colab": {
          "base_uri": "https://localhost:8080/"
        },
        "id": "fgce1aahYuSW",
        "outputId": "0ca71690-2785-4c2c-f58c-eea131d4ae5a"
      },
      "outputs": [
        {
          "output_type": "execute_result",
          "data": {
            "text/plain": [
              "(3674, 219)"
            ]
          },
          "metadata": {},
          "execution_count": 211
        }
      ],
      "source": [
        "df_clean.shape"
      ]
    },
    {
      "cell_type": "code",
      "execution_count": 212,
      "metadata": {
        "id": "1e8iN_EUZn7m"
      },
      "outputs": [],
      "source": [
        "df = df_clean"
      ]
    },
    {
      "cell_type": "code",
      "execution_count": 213,
      "metadata": {
        "id": "2OBM0Er49HXs"
      },
      "outputs": [],
      "source": [
        "labels = df['Revenue Growth']"
      ]
    },
    {
      "cell_type": "markdown",
      "metadata": {
        "id": "-g3jvPP-WXHe"
      },
      "source": [
        "###Fill Missing Values"
      ]
    },
    {
      "cell_type": "code",
      "execution_count": 214,
      "metadata": {
        "id": "D2Jz9lenO9Xu"
      },
      "outputs": [],
      "source": [
        "from sklearn.impute import KNNImputer\n",
        "imputer = KNNImputer()\n",
        "df = pd.DataFrame(imputer.fit_transform(df), columns = df.columns)"
      ]
    },
    {
      "cell_type": "code",
      "execution_count": 215,
      "metadata": {
        "colab": {
          "base_uri": "https://localhost:8080/"
        },
        "id": "DpGmkfXjT7XC",
        "outputId": "6eeca102-04b8-4688-ac6d-112e409ac744"
      },
      "outputs": [
        {
          "output_type": "execute_result",
          "data": {
            "text/plain": [
              "Revenue                      0\n",
              "Free Cash Flow Yield         0\n",
              "PE ratio                     0\n",
              "Price to Sales Ratio         0\n",
              "POCF ratio                   0\n",
              "                            ..\n",
              "priceToBookRatio             0\n",
              "priceToSalesRatio            0\n",
              "priceEarningsRatio           0\n",
              "priceToFreeCashFlowsRatio    0\n",
              "2019 PRICE VAR [%]           0\n",
              "Length: 219, dtype: int64"
            ]
          },
          "metadata": {},
          "execution_count": 215
        }
      ],
      "source": [
        "df.isna().sum().sort_values(ascending=False)"
      ]
    },
    {
      "cell_type": "markdown",
      "metadata": {
        "id": "vTfQ20CuWbOs"
      },
      "source": [
        "###Split Dataset for Initial Model"
      ]
    },
    {
      "cell_type": "code",
      "execution_count": 216,
      "metadata": {
        "id": "lG4wBh_DNRVV"
      },
      "outputs": [],
      "source": [
        "train_df = df.sample(frac=0.8, random_state=0)\n",
        "test_df = df.drop(train_df.index)"
      ]
    },
    {
      "cell_type": "code",
      "execution_count": 217,
      "metadata": {
        "id": "4quUH_HcNZuu"
      },
      "outputs": [],
      "source": [
        "train_features = train_df.copy()\n",
        "test_features = test_df.copy()\n",
        "\n",
        "train_labels = train_features.pop('Revenue Growth')\n",
        "test_labels = test_features.pop('Revenue Growth')"
      ]
    },
    {
      "cell_type": "markdown",
      "metadata": {
        "id": "BE-DwmnjWgkE"
      },
      "source": [
        "###Build and Train Initial Model"
      ]
    },
    {
      "cell_type": "code",
      "execution_count": 219,
      "metadata": {
        "colab": {
          "base_uri": "https://localhost:8080/"
        },
        "id": "z8FIczhdNkCP",
        "outputId": "422eb36e-6b8b-400c-fafd-ea20b15b6906"
      },
      "outputs": [
        {
          "output_type": "stream",
          "name": "stdout",
          "text": [
            "Epoch 1/100\n",
            "74/74 [==============================] - 2s 13ms/step - loss: 0.1368 - mae: 0.1368 - val_loss: 0.1293 - val_mae: 0.1293\n",
            "Epoch 2/100\n",
            "74/74 [==============================] - 1s 7ms/step - loss: 0.1188 - mae: 0.1188 - val_loss: 0.1150 - val_mae: 0.1150\n",
            "Epoch 3/100\n",
            "74/74 [==============================] - 1s 8ms/step - loss: 0.1016 - mae: 0.1016 - val_loss: 0.1079 - val_mae: 0.1079\n",
            "Epoch 4/100\n",
            "74/74 [==============================] - 1s 8ms/step - loss: 0.0879 - mae: 0.0879 - val_loss: 0.1040 - val_mae: 0.1040\n",
            "Epoch 5/100\n",
            "74/74 [==============================] - 1s 7ms/step - loss: 0.0834 - mae: 0.0834 - val_loss: 0.0997 - val_mae: 0.0997\n",
            "Epoch 6/100\n",
            "74/74 [==============================] - 0s 3ms/step - loss: 0.0742 - mae: 0.0742 - val_loss: 0.0911 - val_mae: 0.0911\n",
            "Epoch 7/100\n",
            "74/74 [==============================] - 0s 3ms/step - loss: 0.0678 - mae: 0.0678 - val_loss: 0.0879 - val_mae: 0.0879\n",
            "Epoch 8/100\n",
            "74/74 [==============================] - 0s 4ms/step - loss: 0.0651 - mae: 0.0651 - val_loss: 0.0861 - val_mae: 0.0861\n",
            "Epoch 9/100\n",
            "74/74 [==============================] - 0s 3ms/step - loss: 0.0605 - mae: 0.0605 - val_loss: 0.0833 - val_mae: 0.0833\n",
            "Epoch 10/100\n",
            "74/74 [==============================] - 0s 4ms/step - loss: 0.0570 - mae: 0.0570 - val_loss: 0.0814 - val_mae: 0.0814\n",
            "Epoch 11/100\n",
            "74/74 [==============================] - 0s 4ms/step - loss: 0.0547 - mae: 0.0547 - val_loss: 0.0797 - val_mae: 0.0797\n",
            "Epoch 12/100\n",
            "74/74 [==============================] - 0s 3ms/step - loss: 0.0513 - mae: 0.0513 - val_loss: 0.0798 - val_mae: 0.0798\n",
            "Epoch 13/100\n",
            "74/74 [==============================] - 0s 3ms/step - loss: 0.0498 - mae: 0.0498 - val_loss: 0.0827 - val_mae: 0.0827\n",
            "Epoch 14/100\n",
            "74/74 [==============================] - 0s 3ms/step - loss: 0.0468 - mae: 0.0468 - val_loss: 0.0836 - val_mae: 0.0836\n",
            "Epoch 15/100\n",
            "74/74 [==============================] - 0s 3ms/step - loss: 0.0454 - mae: 0.0454 - val_loss: 0.0760 - val_mae: 0.0760\n",
            "Epoch 16/100\n",
            "74/74 [==============================] - 0s 3ms/step - loss: 0.0450 - mae: 0.0450 - val_loss: 0.0827 - val_mae: 0.0827\n",
            "Epoch 17/100\n",
            "74/74 [==============================] - 0s 3ms/step - loss: 0.0439 - mae: 0.0439 - val_loss: 0.0803 - val_mae: 0.0803\n",
            "Epoch 18/100\n",
            "74/74 [==============================] - 0s 3ms/step - loss: 0.0414 - mae: 0.0414 - val_loss: 0.0811 - val_mae: 0.0811\n",
            "Epoch 19/100\n",
            "74/74 [==============================] - 0s 3ms/step - loss: 0.0403 - mae: 0.0403 - val_loss: 0.0748 - val_mae: 0.0748\n",
            "Epoch 20/100\n",
            "74/74 [==============================] - 0s 3ms/step - loss: 0.0383 - mae: 0.0383 - val_loss: 0.0772 - val_mae: 0.0772\n",
            "Epoch 21/100\n",
            "74/74 [==============================] - 0s 3ms/step - loss: 0.0367 - mae: 0.0367 - val_loss: 0.0797 - val_mae: 0.0797\n",
            "Epoch 22/100\n",
            "74/74 [==============================] - 0s 4ms/step - loss: 0.0368 - mae: 0.0368 - val_loss: 0.0737 - val_mae: 0.0737\n",
            "Epoch 23/100\n",
            "74/74 [==============================] - 0s 3ms/step - loss: 0.0360 - mae: 0.0360 - val_loss: 0.0780 - val_mae: 0.0780\n",
            "Epoch 24/100\n",
            "74/74 [==============================] - 0s 3ms/step - loss: 0.0341 - mae: 0.0341 - val_loss: 0.0741 - val_mae: 0.0741\n",
            "Epoch 25/100\n",
            "74/74 [==============================] - 0s 3ms/step - loss: 0.0353 - mae: 0.0353 - val_loss: 0.0716 - val_mae: 0.0716\n",
            "Epoch 26/100\n",
            "74/74 [==============================] - 0s 3ms/step - loss: 0.0330 - mae: 0.0330 - val_loss: 0.0751 - val_mae: 0.0751\n",
            "Epoch 27/100\n",
            "74/74 [==============================] - 0s 3ms/step - loss: 0.0332 - mae: 0.0332 - val_loss: 0.0722 - val_mae: 0.0722\n",
            "Epoch 28/100\n",
            "74/74 [==============================] - 0s 3ms/step - loss: 0.0319 - mae: 0.0319 - val_loss: 0.0755 - val_mae: 0.0755\n",
            "Epoch 29/100\n",
            "74/74 [==============================] - 0s 3ms/step - loss: 0.0304 - mae: 0.0304 - val_loss: 0.0734 - val_mae: 0.0734\n",
            "Epoch 30/100\n",
            "74/74 [==============================] - 0s 3ms/step - loss: 0.0302 - mae: 0.0302 - val_loss: 0.0721 - val_mae: 0.0721\n",
            "Epoch 31/100\n",
            "74/74 [==============================] - 0s 4ms/step - loss: 0.0290 - mae: 0.0290 - val_loss: 0.0711 - val_mae: 0.0711\n",
            "Epoch 32/100\n",
            "74/74 [==============================] - 0s 4ms/step - loss: 0.0284 - mae: 0.0284 - val_loss: 0.0728 - val_mae: 0.0728\n",
            "Epoch 33/100\n",
            "74/74 [==============================] - 0s 3ms/step - loss: 0.0279 - mae: 0.0279 - val_loss: 0.0729 - val_mae: 0.0729\n",
            "Epoch 34/100\n",
            "74/74 [==============================] - 0s 3ms/step - loss: 0.0282 - mae: 0.0282 - val_loss: 0.0726 - val_mae: 0.0726\n",
            "Epoch 35/100\n",
            "74/74 [==============================] - 0s 3ms/step - loss: 0.0284 - mae: 0.0284 - val_loss: 0.0742 - val_mae: 0.0742\n",
            "Epoch 36/100\n",
            "74/74 [==============================] - 0s 3ms/step - loss: 0.0275 - mae: 0.0275 - val_loss: 0.0726 - val_mae: 0.0726\n",
            "Epoch 37/100\n",
            "74/74 [==============================] - 0s 4ms/step - loss: 0.0270 - mae: 0.0270 - val_loss: 0.0702 - val_mae: 0.0702\n",
            "Epoch 38/100\n",
            "74/74 [==============================] - 0s 4ms/step - loss: 0.0259 - mae: 0.0259 - val_loss: 0.0718 - val_mae: 0.0718\n",
            "Epoch 39/100\n",
            "74/74 [==============================] - 0s 3ms/step - loss: 0.0258 - mae: 0.0258 - val_loss: 0.0766 - val_mae: 0.0766\n",
            "Epoch 40/100\n",
            "74/74 [==============================] - 0s 3ms/step - loss: 0.0250 - mae: 0.0250 - val_loss: 0.0723 - val_mae: 0.0723\n",
            "Epoch 41/100\n",
            "74/74 [==============================] - 0s 3ms/step - loss: 0.0249 - mae: 0.0249 - val_loss: 0.0729 - val_mae: 0.0729\n",
            "Epoch 42/100\n",
            "74/74 [==============================] - 0s 3ms/step - loss: 0.0247 - mae: 0.0247 - val_loss: 0.0727 - val_mae: 0.0727\n",
            "Epoch 43/100\n",
            "74/74 [==============================] - 0s 4ms/step - loss: 0.0244 - mae: 0.0244 - val_loss: 0.0712 - val_mae: 0.0712\n",
            "Epoch 44/100\n",
            "74/74 [==============================] - 0s 3ms/step - loss: 0.0235 - mae: 0.0235 - val_loss: 0.0712 - val_mae: 0.0712\n",
            "Epoch 45/100\n",
            "74/74 [==============================] - 0s 3ms/step - loss: 0.0237 - mae: 0.0237 - val_loss: 0.0761 - val_mae: 0.0761\n",
            "Epoch 46/100\n",
            "74/74 [==============================] - 0s 3ms/step - loss: 0.0226 - mae: 0.0226 - val_loss: 0.0730 - val_mae: 0.0730\n",
            "Epoch 47/100\n",
            "74/74 [==============================] - 0s 3ms/step - loss: 0.0227 - mae: 0.0227 - val_loss: 0.0740 - val_mae: 0.0740\n",
            "Epoch 48/100\n",
            "74/74 [==============================] - 0s 3ms/step - loss: 0.0227 - mae: 0.0227 - val_loss: 0.0729 - val_mae: 0.0729\n",
            "Epoch 49/100\n",
            "74/74 [==============================] - 0s 3ms/step - loss: 0.0236 - mae: 0.0236 - val_loss: 0.0723 - val_mae: 0.0723\n",
            "Epoch 50/100\n",
            "74/74 [==============================] - 0s 3ms/step - loss: 0.0223 - mae: 0.0223 - val_loss: 0.0709 - val_mae: 0.0709\n",
            "Epoch 51/100\n",
            "74/74 [==============================] - 0s 3ms/step - loss: 0.0216 - mae: 0.0216 - val_loss: 0.0730 - val_mae: 0.0730\n",
            "Epoch 52/100\n",
            "74/74 [==============================] - 0s 3ms/step - loss: 0.0210 - mae: 0.0210 - val_loss: 0.0744 - val_mae: 0.0744\n",
            "Epoch 53/100\n",
            "74/74 [==============================] - 0s 3ms/step - loss: 0.0202 - mae: 0.0202 - val_loss: 0.0716 - val_mae: 0.0716\n",
            "Epoch 54/100\n",
            "74/74 [==============================] - 0s 3ms/step - loss: 0.0212 - mae: 0.0212 - val_loss: 0.0700 - val_mae: 0.0700\n",
            "Epoch 55/100\n",
            "74/74 [==============================] - 0s 3ms/step - loss: 0.0204 - mae: 0.0204 - val_loss: 0.0701 - val_mae: 0.0701\n",
            "Epoch 56/100\n",
            "74/74 [==============================] - 0s 3ms/step - loss: 0.0205 - mae: 0.0205 - val_loss: 0.0729 - val_mae: 0.0729\n",
            "Epoch 57/100\n",
            "74/74 [==============================] - 0s 3ms/step - loss: 0.0207 - mae: 0.0207 - val_loss: 0.0682 - val_mae: 0.0682\n",
            "Epoch 58/100\n",
            "74/74 [==============================] - 0s 3ms/step - loss: 0.0209 - mae: 0.0209 - val_loss: 0.0712 - val_mae: 0.0712\n",
            "Epoch 59/100\n",
            "74/74 [==============================] - 0s 4ms/step - loss: 0.0199 - mae: 0.0199 - val_loss: 0.0697 - val_mae: 0.0697\n",
            "Epoch 60/100\n",
            "74/74 [==============================] - 0s 4ms/step - loss: 0.0195 - mae: 0.0195 - val_loss: 0.0713 - val_mae: 0.0713\n",
            "Epoch 61/100\n",
            "74/74 [==============================] - 0s 3ms/step - loss: 0.0186 - mae: 0.0186 - val_loss: 0.0712 - val_mae: 0.0712\n",
            "Epoch 62/100\n",
            "74/74 [==============================] - 0s 3ms/step - loss: 0.0196 - mae: 0.0196 - val_loss: 0.0711 - val_mae: 0.0711\n",
            "Epoch 63/100\n",
            "74/74 [==============================] - 0s 3ms/step - loss: 0.0190 - mae: 0.0190 - val_loss: 0.0685 - val_mae: 0.0685\n",
            "Epoch 64/100\n",
            "74/74 [==============================] - 0s 4ms/step - loss: 0.0185 - mae: 0.0185 - val_loss: 0.0706 - val_mae: 0.0706\n",
            "Epoch 65/100\n",
            "74/74 [==============================] - 0s 4ms/step - loss: 0.0181 - mae: 0.0181 - val_loss: 0.0703 - val_mae: 0.0703\n",
            "Epoch 66/100\n",
            "74/74 [==============================] - 0s 3ms/step - loss: 0.0187 - mae: 0.0187 - val_loss: 0.0683 - val_mae: 0.0683\n",
            "Epoch 67/100\n",
            "74/74 [==============================] - 0s 4ms/step - loss: 0.0188 - mae: 0.0188 - val_loss: 0.0671 - val_mae: 0.0671\n",
            "Epoch 68/100\n",
            "74/74 [==============================] - 0s 3ms/step - loss: 0.0177 - mae: 0.0177 - val_loss: 0.0697 - val_mae: 0.0697\n",
            "Epoch 69/100\n",
            "74/74 [==============================] - 0s 4ms/step - loss: 0.0187 - mae: 0.0187 - val_loss: 0.0680 - val_mae: 0.0680\n",
            "Epoch 70/100\n",
            "74/74 [==============================] - 0s 3ms/step - loss: 0.0173 - mae: 0.0173 - val_loss: 0.0706 - val_mae: 0.0706\n",
            "Epoch 71/100\n",
            "74/74 [==============================] - 0s 3ms/step - loss: 0.0167 - mae: 0.0167 - val_loss: 0.0690 - val_mae: 0.0690\n",
            "Epoch 72/100\n",
            "74/74 [==============================] - 0s 3ms/step - loss: 0.0167 - mae: 0.0167 - val_loss: 0.0687 - val_mae: 0.0687\n",
            "Epoch 73/100\n",
            "74/74 [==============================] - 0s 3ms/step - loss: 0.0171 - mae: 0.0171 - val_loss: 0.0687 - val_mae: 0.0687\n",
            "Epoch 74/100\n",
            "74/74 [==============================] - 0s 3ms/step - loss: 0.0162 - mae: 0.0162 - val_loss: 0.0690 - val_mae: 0.0690\n",
            "Epoch 75/100\n",
            "74/74 [==============================] - 0s 3ms/step - loss: 0.0167 - mae: 0.0167 - val_loss: 0.0672 - val_mae: 0.0672\n",
            "Epoch 76/100\n",
            "74/74 [==============================] - 0s 3ms/step - loss: 0.0166 - mae: 0.0166 - val_loss: 0.0687 - val_mae: 0.0687\n",
            "Epoch 77/100\n",
            "74/74 [==============================] - 0s 3ms/step - loss: 0.0174 - mae: 0.0174 - val_loss: 0.0688 - val_mae: 0.0688\n",
            "Epoch 78/100\n",
            "74/74 [==============================] - 0s 3ms/step - loss: 0.0164 - mae: 0.0164 - val_loss: 0.0679 - val_mae: 0.0679\n",
            "Epoch 79/100\n",
            "74/74 [==============================] - 0s 3ms/step - loss: 0.0168 - mae: 0.0168 - val_loss: 0.0685 - val_mae: 0.0685\n",
            "Epoch 80/100\n",
            "74/74 [==============================] - 0s 4ms/step - loss: 0.0171 - mae: 0.0171 - val_loss: 0.0668 - val_mae: 0.0668\n",
            "Epoch 81/100\n",
            "74/74 [==============================] - 0s 3ms/step - loss: 0.0169 - mae: 0.0169 - val_loss: 0.0677 - val_mae: 0.0677\n",
            "Epoch 82/100\n",
            "74/74 [==============================] - 0s 3ms/step - loss: 0.0163 - mae: 0.0163 - val_loss: 0.0687 - val_mae: 0.0687\n",
            "Epoch 83/100\n",
            "74/74 [==============================] - 0s 3ms/step - loss: 0.0163 - mae: 0.0163 - val_loss: 0.0687 - val_mae: 0.0687\n",
            "Epoch 84/100\n",
            "74/74 [==============================] - 0s 3ms/step - loss: 0.0163 - mae: 0.0163 - val_loss: 0.0701 - val_mae: 0.0701\n",
            "Epoch 85/100\n",
            "74/74 [==============================] - 0s 3ms/step - loss: 0.0150 - mae: 0.0150 - val_loss: 0.0670 - val_mae: 0.0670\n",
            "Epoch 86/100\n",
            "74/74 [==============================] - 0s 3ms/step - loss: 0.0153 - mae: 0.0153 - val_loss: 0.0684 - val_mae: 0.0684\n",
            "Epoch 87/100\n",
            "74/74 [==============================] - 0s 3ms/step - loss: 0.0159 - mae: 0.0159 - val_loss: 0.0683 - val_mae: 0.0683\n",
            "Epoch 88/100\n",
            "74/74 [==============================] - 0s 3ms/step - loss: 0.0155 - mae: 0.0155 - val_loss: 0.0689 - val_mae: 0.0689\n",
            "Epoch 89/100\n",
            "74/74 [==============================] - 0s 3ms/step - loss: 0.0158 - mae: 0.0158 - val_loss: 0.0684 - val_mae: 0.0684\n",
            "Epoch 90/100\n",
            "74/74 [==============================] - 0s 3ms/step - loss: 0.0153 - mae: 0.0153 - val_loss: 0.0698 - val_mae: 0.0698\n",
            "Epoch 91/100\n",
            "74/74 [==============================] - 0s 3ms/step - loss: 0.0150 - mae: 0.0150 - val_loss: 0.0660 - val_mae: 0.0660\n",
            "Epoch 92/100\n",
            "74/74 [==============================] - 0s 3ms/step - loss: 0.0166 - mae: 0.0166 - val_loss: 0.0697 - val_mae: 0.0697\n",
            "Epoch 93/100\n",
            "74/74 [==============================] - 0s 3ms/step - loss: 0.0153 - mae: 0.0153 - val_loss: 0.0682 - val_mae: 0.0682\n",
            "Epoch 94/100\n",
            "74/74 [==============================] - 0s 3ms/step - loss: 0.0142 - mae: 0.0142 - val_loss: 0.0679 - val_mae: 0.0679\n",
            "Epoch 95/100\n",
            "74/74 [==============================] - 0s 3ms/step - loss: 0.0156 - mae: 0.0156 - val_loss: 0.0684 - val_mae: 0.0684\n",
            "Epoch 96/100\n",
            "74/74 [==============================] - 0s 3ms/step - loss: 0.0150 - mae: 0.0150 - val_loss: 0.0689 - val_mae: 0.0689\n",
            "Epoch 97/100\n",
            "74/74 [==============================] - 0s 3ms/step - loss: 0.0156 - mae: 0.0156 - val_loss: 0.0654 - val_mae: 0.0654\n",
            "Epoch 98/100\n",
            "74/74 [==============================] - 0s 3ms/step - loss: 0.0149 - mae: 0.0149 - val_loss: 0.0678 - val_mae: 0.0678\n",
            "Epoch 99/100\n",
            "74/74 [==============================] - 0s 3ms/step - loss: 0.0150 - mae: 0.0150 - val_loss: 0.0691 - val_mae: 0.0691\n",
            "Epoch 100/100\n",
            "74/74 [==============================] - 0s 4ms/step - loss: 0.0143 - mae: 0.0143 - val_loss: 0.0679 - val_mae: 0.0679\n"
          ]
        }
      ],
      "source": [
        "import tensorflow as tf\n",
        "\n",
        "normalizer = tf.keras.layers.Normalization(axis=-1)\n",
        "normalizer.adapt(np.array(train_features))\n",
        "\n",
        "model = tf.keras.Sequential([\n",
        "    normalizer,\n",
        "    tf.keras.layers.Dense(64, activation='relu'),\n",
        "    tf.keras.layers.Dense(128, activation='relu'),\n",
        "    tf.keras.layers.Dense(256, activation='relu'),\n",
        "    tf.keras.layers.Dense(1)                        \n",
        "])\n",
        "\n",
        "model.compile(\n",
        "    loss = tf.keras.losses.mae,\n",
        "    optimizer = tf.optimizers.Adam(),\n",
        "    metrics = ['mae']\n",
        ")\n",
        "\n",
        "history = model.fit(\n",
        "    train_features, \n",
        "    train_labels, \n",
        "    validation_split=0.2,\n",
        "    epochs=100)"
      ]
    },
    {
      "cell_type": "markdown",
      "metadata": {
        "id": "HCJCenIoWlEu"
      },
      "source": [
        "###Test Initial Model"
      ]
    },
    {
      "cell_type": "code",
      "execution_count": 220,
      "metadata": {
        "colab": {
          "base_uri": "https://localhost:8080/",
          "height": 610
        },
        "id": "hns3z0WXUZjR",
        "outputId": "a68260af-4a57-4db7-d174-a30ed62bac0b"
      },
      "outputs": [
        {
          "output_type": "display_data",
          "data": {
            "text/plain": [
              "<Figure size 720x720 with 1 Axes>"
            ],
            "image/png": "[encoded data removed]"
          },
          "metadata": {
            "needs_background": "light"
          }
        }
      ],
      "source": [
        "import matplotlib.pyplot as plt\n",
        "\n",
        "test_pred = model.predict(test_features).flatten()\n",
        "\n",
        "plt.figure(figsize=(10, 10))\n",
        "\n",
        "plt.scatter(test_labels, test_pred)\n",
        "plt.xlabel('True Values')\n",
        "plt.ylabel('Predictions')\n",
        "\n",
        "lims = [-0.5, 0.8]\n",
        "plt.xlim(lims)\n",
        "plt.ylim(lims)\n",
        "_ = plt.plot(lims, lims)"
      ]
    },
    {
      "cell_type": "markdown",
      "metadata": {
        "id": "dxTk1_VPWn-H"
      },
      "source": [
        "###Feature Importance"
      ]
    },
    {
      "cell_type": "code",
      "execution_count": 222,
      "metadata": {
        "colab": {
          "base_uri": "https://localhost:8080/"
        },
        "id": "L52WRT0ib021",
        "outputId": "7c6225f8-4777-4247-c39b-89b45f9a11da"
      },
      "outputs": [
        {
          "output_type": "stream",
          "name": "stdout",
          "text": [
            "Looking in indexes: https://pypi.org/simple, https://us-python.pkg.dev/colab-wheels/public/simple/\n",
            "Collecting eli5\n",
            "  Downloading eli5-0.13.0.tar.gz (216 kB)\n",
            "\u001b[K     |████████████████████████████████| 216 kB 20.5 MB/s \n",
            "\u001b[?25hRequirement already satisfied: attrs>17.1.0 in /usr/local/lib/python3.7/dist-packages (from eli5) (21.4.0)\n",
            "Collecting jinja2>=3.0.0\n",
            "  Downloading Jinja2-3.1.2-py3-none-any.whl (133 kB)\n",
            "\u001b[K     |████████████████████████████████| 133 kB 52.3 MB/s \n",
            "\u001b[?25hRequirement already satisfied: numpy>=1.9.0 in /usr/local/lib/python3.7/dist-packages (from eli5) (1.21.6)\n",
            "Requirement already satisfied: scipy in /usr/local/lib/python3.7/dist-packages (from eli5) (1.4.1)\n",
            "Requirement already satisfied: six in /usr/local/lib/python3.7/dist-packages (from eli5) (1.15.0)\n",
            "Requirement already satisfied: scikit-learn>=0.20 in /usr/local/lib/python3.7/dist-packages (from eli5) (1.0.2)\n",
            "Requirement already satisfied: graphviz in /usr/local/lib/python3.7/dist-packages (from eli5) (0.10.1)\n",
            "Requirement already satisfied: tabulate>=0.7.7 in /usr/local/lib/python3.7/dist-packages (from eli5) (0.8.9)\n",
            "Requirement already satisfied: MarkupSafe>=2.0 in /usr/local/lib/python3.7/dist-packages (from jinja2>=3.0.0->eli5) (2.0.1)\n",
            "Requirement already satisfied: threadpoolctl>=2.0.0 in /usr/local/lib/python3.7/dist-packages (from scikit-learn>=0.20->eli5) (3.1.0)\n",
            "Requirement already satisfied: joblib>=0.11 in /usr/local/lib/python3.7/dist-packages (from scikit-learn>=0.20->eli5) (1.1.0)\n",
            "Building wheels for collected packages: eli5\n",
            "  Building wheel for eli5 (setup.py) ... \u001b[?25l\u001b[?25hdone\n",
            "  Created wheel for eli5: filename=eli5-0.13.0-py2.py3-none-any.whl size=107748 sha256=0b8c3ca20c42a56d860b4c63bbf57effcf9c24aafd95f9205cdcaebf6533509f\n",
            "  Stored in directory: /root/.cache/pip/wheels/cc/3c/96/3ead31a8e6c20fc0f1a707fde2e05d49a80b1b4b30096573be\n",
            "Successfully built eli5\n",
            "Installing collected packages: jinja2, eli5\n",
            "  Attempting uninstall: jinja2\n",
            "    Found existing installation: Jinja2 2.11.3\n",
            "    Uninstalling Jinja2-2.11.3:\n",
            "      Successfully uninstalled Jinja2-2.11.3\n",
            "\u001b[31mERROR: pip's dependency resolver does not currently take into account all the packages that are installed. This behaviour is the source of the following dependency conflicts.\n",
            "flask 1.1.4 requires Jinja2<3.0,>=2.10.1, but you have jinja2 3.1.2 which is incompatible.\n",
            "datascience 0.10.6 requires folium==0.2.1, but you have folium 0.8.3 which is incompatible.\u001b[0m\n",
            "Successfully installed eli5-0.13.0 jinja2-3.1.2\n"
          ]
        }
      ],
      "source": [
        "pip install eli5"
      ]
    },
    {
      "cell_type": "code",
      "execution_count": 223,
      "metadata": {
        "id": "72xO-EFWbkxe"
      },
      "outputs": [],
      "source": [
        "import eli5\n",
        "from eli5.sklearn import PermutationImportance\n",
        "\n",
        "perm = PermutationImportance(model, scoring='neg_mean_absolute_error', random_state=1).fit(train_features, train_labels)"
      ]
    },
    {
      "cell_type": "code",
      "execution_count": 281,
      "metadata": {
        "colab": {
          "base_uri": "https://localhost:8080/",
          "height": 920
        },
        "id": "Gu2U-8o7gssD",
        "outputId": "b84ed4c1-efbe-4376-ded2-7c285268ceae"
      },
      "outputs": [
        {
          "output_type": "execute_result",
          "data": {
            "text/plain": [
              "<IPython.core.display.HTML object>"
            ],
            "text/html": [
              "\n",
              "    <style>\n",
              "    table.eli5-weights tr:hover {\n",
              "        filter: brightness(85%);\n",
              "    }\n",
              "</style>\n",
              "\n",
              "\n",
              "\n",
              "    \n",
              "\n",
              "    \n",
              "\n",
              "    \n",
              "\n",
              "    \n",
              "\n",
              "    \n",
              "\n",
              "    \n",
              "\n",
              "\n",
              "    \n",
              "\n",
              "    \n",
              "\n",
              "    \n",
              "\n",
              "    \n",
              "\n",
              "    \n",
              "\n",
              "    \n",
              "\n",
              "\n",
              "    \n",
              "\n",
              "    \n",
              "\n",
              "    \n",
              "\n",
              "    \n",
              "\n",
              "    \n",
              "        <table class=\"eli5-weights eli5-feature-importances\" style=\"border-collapse: collapse; border: none; margin-top: 0em; table-layout: auto;\">\n",
              "    <thead>\n",
              "    <tr style=\"border: none;\">\n",
              "        <th style=\"padding: 0 1em 0 0.5em; text-align: right; border: none;\">Weight</th>\n",
              "        <th style=\"padding: 0 0.5em 0 0.5em; text-align: left; border: none;\">Feature</th>\n",
              "    </tr>\n",
              "    </thead>\n",
              "    <tbody>\n",
              "    \n",
              "        <tr style=\"background-color: hsl(120, 100.00%, 80.00%); border: none;\">\n",
              "            <td style=\"padding: 0 1em 0 0.5em; text-align: right; border: none;\">\n",
              "                0.0610\n",
              "                \n",
              "                    &plusmn; 0.0028\n",
              "                \n",
              "            </td>\n",
              "            <td style=\"padding: 0 0.5em 0 0.5em; text-align: left; border: none;\">\n",
              "                Gross Profit Growth\n",
              "            </td>\n",
              "        </tr>\n",
              "    \n",
              "        <tr style=\"background-color: hsl(120, 100.00%, 92.95%); border: none;\">\n",
              "            <td style=\"padding: 0 1em 0 0.5em; text-align: right; border: none;\">\n",
              "                0.0137\n",
              "                \n",
              "                    &plusmn; 0.0005\n",
              "                \n",
              "            </td>\n",
              "            <td style=\"padding: 0 0.5em 0 0.5em; text-align: left; border: none;\">\n",
              "                Gross Margin\n",
              "            </td>\n",
              "        </tr>\n",
              "    \n",
              "        <tr style=\"background-color: hsl(120, 100.00%, 94.89%); border: none;\">\n",
              "            <td style=\"padding: 0 1em 0 0.5em; text-align: right; border: none;\">\n",
              "                0.0087\n",
              "                \n",
              "                    &plusmn; 0.0009\n",
              "                \n",
              "            </td>\n",
              "            <td style=\"padding: 0 0.5em 0 0.5em; text-align: left; border: none;\">\n",
              "                grossProfitMargin\n",
              "            </td>\n",
              "        </tr>\n",
              "    \n",
              "        <tr style=\"background-color: hsl(120, 100.00%, 95.87%); border: none;\">\n",
              "            <td style=\"padding: 0 1em 0 0.5em; text-align: right; border: none;\">\n",
              "                0.0064\n",
              "                \n",
              "                    &plusmn; 0.0004\n",
              "                \n",
              "            </td>\n",
              "            <td style=\"padding: 0 0.5em 0 0.5em; text-align: left; border: none;\">\n",
              "                Intangibles to Total Assets\n",
              "            </td>\n",
              "        </tr>\n",
              "    \n",
              "        <tr style=\"background-color: hsl(120, 100.00%, 95.93%); border: none;\">\n",
              "            <td style=\"padding: 0 1em 0 0.5em; text-align: right; border: none;\">\n",
              "                0.0063\n",
              "                \n",
              "                    &plusmn; 0.0005\n",
              "                \n",
              "            </td>\n",
              "            <td style=\"padding: 0 0.5em 0 0.5em; text-align: left; border: none;\">\n",
              "                3Y Revenue Growth (per Share)\n",
              "            </td>\n",
              "        </tr>\n",
              "    \n",
              "        <tr style=\"background-color: hsl(120, 100.00%, 96.19%); border: none;\">\n",
              "            <td style=\"padding: 0 1em 0 0.5em; text-align: right; border: none;\">\n",
              "                0.0057\n",
              "                \n",
              "                    &plusmn; 0.0005\n",
              "                \n",
              "            </td>\n",
              "            <td style=\"padding: 0 0.5em 0 0.5em; text-align: left; border: none;\">\n",
              "                SG&amp;A Expenses Growth\n",
              "            </td>\n",
              "        </tr>\n",
              "    \n",
              "        <tr style=\"background-color: hsl(120, 100.00%, 96.24%); border: none;\">\n",
              "            <td style=\"padding: 0 1em 0 0.5em; text-align: right; border: none;\">\n",
              "                0.0056\n",
              "                \n",
              "                    &plusmn; 0.0003\n",
              "                \n",
              "            </td>\n",
              "            <td style=\"padding: 0 0.5em 0 0.5em; text-align: left; border: none;\">\n",
              "                5Y Operating CF Growth (per Share)\n",
              "            </td>\n",
              "        </tr>\n",
              "    \n",
              "        <tr style=\"background-color: hsl(120, 100.00%, 96.33%); border: none;\">\n",
              "            <td style=\"padding: 0 1em 0 0.5em; text-align: right; border: none;\">\n",
              "                0.0054\n",
              "                \n",
              "                    &plusmn; 0.0003\n",
              "                \n",
              "            </td>\n",
              "            <td style=\"padding: 0 0.5em 0 0.5em; text-align: left; border: none;\">\n",
              "                assetTurnover\n",
              "            </td>\n",
              "        </tr>\n",
              "    \n",
              "        <tr style=\"background-color: hsl(120, 100.00%, 96.57%); border: none;\">\n",
              "            <td style=\"padding: 0 1em 0 0.5em; text-align: right; border: none;\">\n",
              "                0.0049\n",
              "                \n",
              "                    &plusmn; 0.0005\n",
              "                \n",
              "            </td>\n",
              "            <td style=\"padding: 0 0.5em 0 0.5em; text-align: left; border: none;\">\n",
              "                10Y Net Income Growth (per Share)\n",
              "            </td>\n",
              "        </tr>\n",
              "    \n",
              "        <tr style=\"background-color: hsl(120, 100.00%, 96.60%); border: none;\">\n",
              "            <td style=\"padding: 0 1em 0 0.5em; text-align: right; border: none;\">\n",
              "                0.0049\n",
              "                \n",
              "                    &plusmn; 0.0002\n",
              "                \n",
              "            </td>\n",
              "            <td style=\"padding: 0 0.5em 0 0.5em; text-align: left; border: none;\">\n",
              "                10Y Shareholders Equity Growth (per Share)\n",
              "            </td>\n",
              "        </tr>\n",
              "    \n",
              "        <tr style=\"background-color: hsl(120, 100.00%, 96.63%); border: none;\">\n",
              "            <td style=\"padding: 0 1em 0 0.5em; text-align: right; border: none;\">\n",
              "                0.0048\n",
              "                \n",
              "                    &plusmn; 0.0004\n",
              "                \n",
              "            </td>\n",
              "            <td style=\"padding: 0 0.5em 0 0.5em; text-align: left; border: none;\">\n",
              "                5Y Net Income Growth (per Share)\n",
              "            </td>\n",
              "        </tr>\n",
              "    \n",
              "        <tr style=\"background-color: hsl(120, 100.00%, 96.73%); border: none;\">\n",
              "            <td style=\"padding: 0 1em 0 0.5em; text-align: right; border: none;\">\n",
              "                0.0046\n",
              "                \n",
              "                    &plusmn; 0.0002\n",
              "                \n",
              "            </td>\n",
              "            <td style=\"padding: 0 0.5em 0 0.5em; text-align: left; border: none;\">\n",
              "                debtRatio\n",
              "            </td>\n",
              "        </tr>\n",
              "    \n",
              "        <tr style=\"background-color: hsl(120, 100.00%, 96.74%); border: none;\">\n",
              "            <td style=\"padding: 0 1em 0 0.5em; text-align: right; border: none;\">\n",
              "                0.0046\n",
              "                \n",
              "                    &plusmn; 0.0003\n",
              "                \n",
              "            </td>\n",
              "            <td style=\"padding: 0 0.5em 0 0.5em; text-align: left; border: none;\">\n",
              "                Inventory Growth\n",
              "            </td>\n",
              "        </tr>\n",
              "    \n",
              "        <tr style=\"background-color: hsl(120, 100.00%, 96.79%); border: none;\">\n",
              "            <td style=\"padding: 0 1em 0 0.5em; text-align: right; border: none;\">\n",
              "                0.0045\n",
              "                \n",
              "                    &plusmn; 0.0002\n",
              "                \n",
              "            </td>\n",
              "            <td style=\"padding: 0 0.5em 0 0.5em; text-align: left; border: none;\">\n",
              "                5Y Shareholders Equity Growth (per Share)\n",
              "            </td>\n",
              "        </tr>\n",
              "    \n",
              "        <tr style=\"background-color: hsl(120, 100.00%, 96.82%); border: none;\">\n",
              "            <td style=\"padding: 0 1em 0 0.5em; text-align: right; border: none;\">\n",
              "                0.0044\n",
              "                \n",
              "                    &plusmn; 0.0004\n",
              "                \n",
              "            </td>\n",
              "            <td style=\"padding: 0 0.5em 0 0.5em; text-align: left; border: none;\">\n",
              "                10Y Operating CF Growth (per Share)\n",
              "            </td>\n",
              "        </tr>\n",
              "    \n",
              "        <tr style=\"background-color: hsl(120, 100.00%, 96.86%); border: none;\">\n",
              "            <td style=\"padding: 0 1em 0 0.5em; text-align: right; border: none;\">\n",
              "                0.0043\n",
              "                \n",
              "                    &plusmn; 0.0003\n",
              "                \n",
              "            </td>\n",
              "            <td style=\"padding: 0 0.5em 0 0.5em; text-align: left; border: none;\">\n",
              "                10Y Revenue Growth (per Share)\n",
              "            </td>\n",
              "        </tr>\n",
              "    \n",
              "        <tr style=\"background-color: hsl(120, 100.00%, 96.88%); border: none;\">\n",
              "            <td style=\"padding: 0 1em 0 0.5em; text-align: right; border: none;\">\n",
              "                0.0043\n",
              "                \n",
              "                    &plusmn; 0.0001\n",
              "                \n",
              "            </td>\n",
              "            <td style=\"padding: 0 0.5em 0 0.5em; text-align: left; border: none;\">\n",
              "                Debt to Assets\n",
              "            </td>\n",
              "        </tr>\n",
              "    \n",
              "        <tr style=\"background-color: hsl(120, 100.00%, 97.02%); border: none;\">\n",
              "            <td style=\"padding: 0 1em 0 0.5em; text-align: right; border: none;\">\n",
              "                0.0040\n",
              "                \n",
              "                    &plusmn; 0.0003\n",
              "                \n",
              "            </td>\n",
              "            <td style=\"padding: 0 0.5em 0 0.5em; text-align: left; border: none;\">\n",
              "                3Y Operating CF Growth (per Share)\n",
              "            </td>\n",
              "        </tr>\n",
              "    \n",
              "        <tr style=\"background-color: hsl(120, 100.00%, 97.20%); border: none;\">\n",
              "            <td style=\"padding: 0 1em 0 0.5em; text-align: right; border: none;\">\n",
              "                0.0037\n",
              "                \n",
              "                    &plusmn; 0.0003\n",
              "                \n",
              "            </td>\n",
              "            <td style=\"padding: 0 0.5em 0 0.5em; text-align: left; border: none;\">\n",
              "                Interest Expense\n",
              "            </td>\n",
              "        </tr>\n",
              "    \n",
              "        <tr style=\"background-color: hsl(120, 100.00%, 97.24%); border: none;\">\n",
              "            <td style=\"padding: 0 1em 0 0.5em; text-align: right; border: none;\">\n",
              "                0.0036\n",
              "                \n",
              "                    &plusmn; 0.0001\n",
              "                \n",
              "            </td>\n",
              "            <td style=\"padding: 0 0.5em 0 0.5em; text-align: left; border: none;\">\n",
              "                3Y Shareholders Equity Growth (per Share)\n",
              "            </td>\n",
              "        </tr>\n",
              "    \n",
              "        <tr style=\"background-color: hsl(120, 100.00%, 97.36%); border: none;\">\n",
              "            <td style=\"padding: 0 1em 0 0.5em; text-align: right; border: none;\">\n",
              "                0.0034\n",
              "                \n",
              "                    &plusmn; 0.0003\n",
              "                \n",
              "            </td>\n",
              "            <td style=\"padding: 0 0.5em 0 0.5em; text-align: left; border: none;\">\n",
              "                Current ratio\n",
              "            </td>\n",
              "        </tr>\n",
              "    \n",
              "        <tr style=\"background-color: hsl(120, 100.00%, 97.39%); border: none;\">\n",
              "            <td style=\"padding: 0 1em 0 0.5em; text-align: right; border: none;\">\n",
              "                0.0033\n",
              "                \n",
              "                    &plusmn; 0.0001\n",
              "                \n",
              "            </td>\n",
              "            <td style=\"padding: 0 0.5em 0 0.5em; text-align: left; border: none;\">\n",
              "                5Y Revenue Growth (per Share)\n",
              "            </td>\n",
              "        </tr>\n",
              "    \n",
              "        <tr style=\"background-color: hsl(120, 100.00%, 97.45%); border: none;\">\n",
              "            <td style=\"padding: 0 1em 0 0.5em; text-align: right; border: none;\">\n",
              "                0.0032\n",
              "                \n",
              "                    &plusmn; 0.0003\n",
              "                \n",
              "            </td>\n",
              "            <td style=\"padding: 0 0.5em 0 0.5em; text-align: left; border: none;\">\n",
              "                10Y Dividend per Share Growth (per Share)\n",
              "            </td>\n",
              "        </tr>\n",
              "    \n",
              "        <tr style=\"background-color: hsl(120, 100.00%, 97.56%); border: none;\">\n",
              "            <td style=\"padding: 0 1em 0 0.5em; text-align: right; border: none;\">\n",
              "                0.0030\n",
              "                \n",
              "                    &plusmn; 0.0005\n",
              "                \n",
              "            </td>\n",
              "            <td style=\"padding: 0 0.5em 0 0.5em; text-align: left; border: none;\">\n",
              "                5Y Dividend per Share Growth (per Share)\n",
              "            </td>\n",
              "        </tr>\n",
              "    \n",
              "        <tr style=\"background-color: hsl(120, 100.00%, 97.59%); border: none;\">\n",
              "            <td style=\"padding: 0 1em 0 0.5em; text-align: right; border: none;\">\n",
              "                0.0030\n",
              "                \n",
              "                    &plusmn; 0.0003\n",
              "                \n",
              "            </td>\n",
              "            <td style=\"padding: 0 0.5em 0 0.5em; text-align: left; border: none;\">\n",
              "                totalDebtToCapitalization\n",
              "            </td>\n",
              "        </tr>\n",
              "    \n",
              "        <tr style=\"background-color: hsl(120, 100.00%, 97.61%); border: none;\">\n",
              "            <td style=\"padding: 0 1em 0 0.5em; text-align: right; border: none;\">\n",
              "                0.0029\n",
              "                \n",
              "                    &plusmn; 0.0002\n",
              "                \n",
              "            </td>\n",
              "            <td style=\"padding: 0 0.5em 0 0.5em; text-align: left; border: none;\">\n",
              "                Consolidated Income\n",
              "            </td>\n",
              "        </tr>\n",
              "    \n",
              "        <tr style=\"background-color: hsl(120, 100.00%, 97.63%); border: none;\">\n",
              "            <td style=\"padding: 0 1em 0 0.5em; text-align: right; border: none;\">\n",
              "                0.0029\n",
              "                \n",
              "                    &plusmn; 0.0002\n",
              "                \n",
              "            </td>\n",
              "            <td style=\"padding: 0 0.5em 0 0.5em; text-align: left; border: none;\">\n",
              "                3Y Net Income Growth (per Share)\n",
              "            </td>\n",
              "        </tr>\n",
              "    \n",
              "        <tr style=\"background-color: hsl(120, 100.00%, 97.64%); border: none;\">\n",
              "            <td style=\"padding: 0 1em 0 0.5em; text-align: right; border: none;\">\n",
              "                0.0029\n",
              "                \n",
              "                    &plusmn; 0.0003\n",
              "                \n",
              "            </td>\n",
              "            <td style=\"padding: 0 0.5em 0 0.5em; text-align: left; border: none;\">\n",
              "                EBITDA\n",
              "            </td>\n",
              "        </tr>\n",
              "    \n",
              "        <tr style=\"background-color: hsl(120, 100.00%, 97.66%); border: none;\">\n",
              "            <td style=\"padding: 0 1em 0 0.5em; text-align: right; border: none;\">\n",
              "                0.0028\n",
              "                \n",
              "                    &plusmn; 0.0002\n",
              "                \n",
              "            </td>\n",
              "            <td style=\"padding: 0 0.5em 0 0.5em; text-align: left; border: none;\">\n",
              "                Dividend per Share\n",
              "            </td>\n",
              "        </tr>\n",
              "    \n",
              "        <tr style=\"background-color: hsl(120, 100.00%, 97.70%); border: none;\">\n",
              "            <td style=\"padding: 0 1em 0 0.5em; text-align: right; border: none;\">\n",
              "                0.0028\n",
              "                \n",
              "                    &plusmn; 0.0003\n",
              "                \n",
              "            </td>\n",
              "            <td style=\"padding: 0 0.5em 0 0.5em; text-align: left; border: none;\">\n",
              "                2019 PRICE VAR [%]\n",
              "            </td>\n",
              "        </tr>\n",
              "    \n",
              "        <tr style=\"background-color: hsl(120, 100.00%, 97.70%); border: none;\">\n",
              "            <td style=\"padding: 0 1em 0 0.5em; text-align: right; border: none;\">\n",
              "                0.0028\n",
              "                \n",
              "                    &plusmn; 0.0005\n",
              "                \n",
              "            </td>\n",
              "            <td style=\"padding: 0 0.5em 0 0.5em; text-align: left; border: none;\">\n",
              "                3Y Dividend per Share Growth (per Share)\n",
              "            </td>\n",
              "        </tr>\n",
              "    \n",
              "        <tr style=\"background-color: hsl(120, 100.00%, 97.73%); border: none;\">\n",
              "            <td style=\"padding: 0 1em 0 0.5em; text-align: right; border: none;\">\n",
              "                0.0027\n",
              "                \n",
              "                    &plusmn; 0.0003\n",
              "                \n",
              "            </td>\n",
              "            <td style=\"padding: 0 0.5em 0 0.5em; text-align: left; border: none;\">\n",
              "                Property, Plant &amp; Equipment Net\n",
              "            </td>\n",
              "        </tr>\n",
              "    \n",
              "        <tr style=\"background-color: hsl(120, 100.00%, 97.77%); border: none;\">\n",
              "            <td style=\"padding: 0 1em 0 0.5em; text-align: right; border: none;\">\n",
              "                0.0027\n",
              "                \n",
              "                    &plusmn; 0.0004\n",
              "                \n",
              "            </td>\n",
              "            <td style=\"padding: 0 0.5em 0 0.5em; text-align: left; border: none;\">\n",
              "                Stock-based compensation\n",
              "            </td>\n",
              "        </tr>\n",
              "    \n",
              "        <tr style=\"background-color: hsl(120, 100.00%, 97.81%); border: none;\">\n",
              "            <td style=\"padding: 0 1em 0 0.5em; text-align: right; border: none;\">\n",
              "                0.0026\n",
              "                \n",
              "                    &plusmn; 0.0004\n",
              "                \n",
              "            </td>\n",
              "            <td style=\"padding: 0 0.5em 0 0.5em; text-align: left; border: none;\">\n",
              "                quickRatio\n",
              "            </td>\n",
              "        </tr>\n",
              "    \n",
              "        <tr style=\"background-color: hsl(120, 100.00%, 97.84%); border: none;\">\n",
              "            <td style=\"padding: 0 1em 0 0.5em; text-align: right; border: none;\">\n",
              "                0.0025\n",
              "                \n",
              "                    &plusmn; 0.0003\n",
              "                \n",
              "            </td>\n",
              "            <td style=\"padding: 0 0.5em 0 0.5em; text-align: left; border: none;\">\n",
              "                Dividend Yield\n",
              "            </td>\n",
              "        </tr>\n",
              "    \n",
              "        <tr style=\"background-color: hsl(120, 100.00%, 97.94%); border: none;\">\n",
              "            <td style=\"padding: 0 1em 0 0.5em; text-align: right; border: none;\">\n",
              "                0.0024\n",
              "                \n",
              "                    &plusmn; 0.0002\n",
              "                \n",
              "            </td>\n",
              "            <td style=\"padding: 0 0.5em 0 0.5em; text-align: left; border: none;\">\n",
              "                R&amp;D Expense Growth\n",
              "            </td>\n",
              "        </tr>\n",
              "    \n",
              "        <tr style=\"background-color: hsl(120, 100.00%, 98.00%); border: none;\">\n",
              "            <td style=\"padding: 0 1em 0 0.5em; text-align: right; border: none;\">\n",
              "                0.0023\n",
              "                \n",
              "                    &plusmn; 0.0002\n",
              "                \n",
              "            </td>\n",
              "            <td style=\"padding: 0 0.5em 0 0.5em; text-align: left; border: none;\">\n",
              "                currentRatio\n",
              "            </td>\n",
              "        </tr>\n",
              "    \n",
              "        <tr style=\"background-color: hsl(120, 100.00%, 98.08%); border: none;\">\n",
              "            <td style=\"padding: 0 1em 0 0.5em; text-align: right; border: none;\">\n",
              "                0.0021\n",
              "                \n",
              "                    &plusmn; 0.0003\n",
              "                \n",
              "            </td>\n",
              "            <td style=\"padding: 0 0.5em 0 0.5em; text-align: left; border: none;\">\n",
              "                Book Value per Share Growth\n",
              "            </td>\n",
              "        </tr>\n",
              "    \n",
              "        <tr style=\"background-color: hsl(120, 100.00%, 98.10%); border: none;\">\n",
              "            <td style=\"padding: 0 1em 0 0.5em; text-align: right; border: none;\">\n",
              "                0.0021\n",
              "                \n",
              "                    &plusmn; 0.0004\n",
              "                \n",
              "            </td>\n",
              "            <td style=\"padding: 0 0.5em 0 0.5em; text-align: left; border: none;\">\n",
              "                Total non-current assets\n",
              "            </td>\n",
              "        </tr>\n",
              "    \n",
              "        <tr style=\"background-color: hsl(120, 100.00%, 98.10%); border: none;\">\n",
              "            <td style=\"padding: 0 1em 0 0.5em; text-align: right; border: none;\">\n",
              "                0.0021\n",
              "                \n",
              "                    &plusmn; 0.0003\n",
              "                \n",
              "            </td>\n",
              "            <td style=\"padding: 0 0.5em 0 0.5em; text-align: left; border: none;\">\n",
              "                Acquisitions and disposals\n",
              "            </td>\n",
              "        </tr>\n",
              "    \n",
              "        <tr style=\"background-color: hsl(120, 100.00%, 98.12%); border: none;\">\n",
              "            <td style=\"padding: 0 1em 0 0.5em; text-align: right; border: none;\">\n",
              "                0.0021\n",
              "                \n",
              "                    &plusmn; 0.0002\n",
              "                \n",
              "            </td>\n",
              "            <td style=\"padding: 0 0.5em 0 0.5em; text-align: left; border: none;\">\n",
              "                cashRatio\n",
              "            </td>\n",
              "        </tr>\n",
              "    \n",
              "        <tr style=\"background-color: hsl(120, 100.00%, 98.27%); border: none;\">\n",
              "            <td style=\"padding: 0 1em 0 0.5em; text-align: right; border: none;\">\n",
              "                0.0018\n",
              "                \n",
              "                    &plusmn; 0.0002\n",
              "                \n",
              "            </td>\n",
              "            <td style=\"padding: 0 0.5em 0 0.5em; text-align: left; border: none;\">\n",
              "                Gross Profit\n",
              "            </td>\n",
              "        </tr>\n",
              "    \n",
              "        <tr style=\"background-color: hsl(120, 100.00%, 98.27%); border: none;\">\n",
              "            <td style=\"padding: 0 1em 0 0.5em; text-align: right; border: none;\">\n",
              "                0.0018\n",
              "                \n",
              "                    &plusmn; 0.0003\n",
              "                \n",
              "            </td>\n",
              "            <td style=\"padding: 0 0.5em 0 0.5em; text-align: left; border: none;\">\n",
              "                Issuance (repayment) of debt\n",
              "            </td>\n",
              "        </tr>\n",
              "    \n",
              "        <tr style=\"background-color: hsl(120, 100.00%, 98.27%); border: none;\">\n",
              "            <td style=\"padding: 0 1em 0 0.5em; text-align: right; border: none;\">\n",
              "                0.0018\n",
              "                \n",
              "                    &plusmn; 0.0003\n",
              "                \n",
              "            </td>\n",
              "            <td style=\"padding: 0 0.5em 0 0.5em; text-align: left; border: none;\">\n",
              "                daysOfSalesOutstanding\n",
              "            </td>\n",
              "        </tr>\n",
              "    \n",
              "        <tr style=\"background-color: hsl(120, 100.00%, 98.37%); border: none;\">\n",
              "            <td style=\"padding: 0 1em 0 0.5em; text-align: right; border: none;\">\n",
              "                0.0017\n",
              "                \n",
              "                    &plusmn; 0.0002\n",
              "                \n",
              "            </td>\n",
              "            <td style=\"padding: 0 0.5em 0 0.5em; text-align: left; border: none;\">\n",
              "                eBTperEBIT\n",
              "            </td>\n",
              "        </tr>\n",
              "    \n",
              "        <tr style=\"background-color: hsl(120, 100.00%, 98.37%); border: none;\">\n",
              "            <td style=\"padding: 0 1em 0 0.5em; text-align: right; border: none;\">\n",
              "                0.0017\n",
              "                \n",
              "                    &plusmn; 0.0002\n",
              "                \n",
              "            </td>\n",
              "            <td style=\"padding: 0 0.5em 0 0.5em; text-align: left; border: none;\">\n",
              "                ebtperEBIT\n",
              "            </td>\n",
              "        </tr>\n",
              "    \n",
              "        <tr style=\"background-color: hsl(120, 100.00%, 98.38%); border: none;\">\n",
              "            <td style=\"padding: 0 1em 0 0.5em; text-align: right; border: none;\">\n",
              "                0.0017\n",
              "                \n",
              "                    &plusmn; 0.0003\n",
              "                \n",
              "            </td>\n",
              "            <td style=\"padding: 0 0.5em 0 0.5em; text-align: left; border: none;\">\n",
              "                Total shareholders equity\n",
              "            </td>\n",
              "        </tr>\n",
              "    \n",
              "        <tr style=\"background-color: hsl(120, 100.00%, 98.40%); border: none;\">\n",
              "            <td style=\"padding: 0 1em 0 0.5em; text-align: right; border: none;\">\n",
              "                0.0016\n",
              "                \n",
              "                    &plusmn; 0.0003\n",
              "                \n",
              "            </td>\n",
              "            <td style=\"padding: 0 0.5em 0 0.5em; text-align: left; border: none;\">\n",
              "                longtermDebtToCapitalization\n",
              "            </td>\n",
              "        </tr>\n",
              "    \n",
              "        <tr style=\"background-color: hsl(120, 100.00%, 98.42%); border: none;\">\n",
              "            <td style=\"padding: 0 1em 0 0.5em; text-align: right; border: none;\">\n",
              "                0.0016\n",
              "                \n",
              "                    &plusmn; 0.0003\n",
              "                \n",
              "            </td>\n",
              "            <td style=\"padding: 0 0.5em 0 0.5em; text-align: left; border: none;\">\n",
              "                Free Cash Flow\n",
              "            </td>\n",
              "        </tr>\n",
              "    \n",
              "        <tr style=\"background-color: hsl(120, 100.00%, 98.44%); border: none;\">\n",
              "            <td style=\"padding: 0 1em 0 0.5em; text-align: right; border: none;\">\n",
              "                0.0016\n",
              "                \n",
              "                    &plusmn; 0.0004\n",
              "                \n",
              "            </td>\n",
              "            <td style=\"padding: 0 0.5em 0 0.5em; text-align: left; border: none;\">\n",
              "                Net Income Com\n",
              "            </td>\n",
              "        </tr>\n",
              "    \n",
              "    \n",
              "        \n",
              "            <tr style=\"background-color: hsl(120, 100.00%, 98.44%); border: none;\">\n",
              "                <td colspan=\"2\" style=\"padding: 0 0.5em 0 0.5em; text-align: center; border: none; white-space: nowrap;\">\n",
              "                    <i>&hellip; 168 more &hellip;</i>\n",
              "                </td>\n",
              "            </tr>\n",
              "        \n",
              "    \n",
              "    </tbody>\n",
              "</table>\n",
              "    \n",
              "\n",
              "    \n",
              "\n",
              "\n",
              "    \n",
              "\n",
              "    \n",
              "\n",
              "    \n",
              "\n",
              "    \n",
              "\n",
              "    \n",
              "\n",
              "    \n",
              "\n",
              "\n",
              "\n"
            ]
          },
          "metadata": {},
          "execution_count": 281
        }
      ],
      "source": [
        "# from IPython.display import display\n",
        "# display(eli5.show_weights(perm, top=20, feature_names = train_features.columns.tolist()))\n",
        "eli5.show_weights(perm, top=50, feature_names = train_features.columns.tolist())"
      ]
    },
    {
      "cell_type": "markdown",
      "metadata": {
        "id": "jzUjh133treC"
      },
      "source": [
        "###Create New Dataset"
      ]
    },
    {
      "cell_type": "code",
      "source": [
        "df_new = pd.read_csv('2018_Financial_Data.csv')\n",
        "df_new.drop(df_new.columns[0], axis=1, inplace=True)\n",
        "df_new.head()"
      ],
      "metadata": {
        "colab": {
          "base_uri": "https://localhost:8080/",
          "height": 386
        },
        "id": "BwoeF09R7pQf",
        "outputId": "f55453bd-db18-4570-e325-b40a69124c47"
      },
      "execution_count": 229,
      "outputs": [
        {
          "output_type": "execute_result",
          "data": {
            "text/plain": [
              "        Revenue  Revenue Growth  Cost of Revenue  Gross Profit  R&D Expenses  \\\n",
              "0  9.450700e+10          0.1115     0.000000e+00  9.450700e+10  0.000000e+00   \n",
              "1  1.414400e+10          0.0320     7.288000e+09  6.856000e+09  0.000000e+00   \n",
              "2  7.084800e+10          0.1289     2.711100e+10  4.373700e+10  1.354300e+10   \n",
              "3  3.039100e+10          0.4955     1.250000e+10  1.789100e+10  2.141000e+09   \n",
              "4  1.216150e+11          0.0285     9.546100e+10  2.615400e+10  0.000000e+00   \n",
              "\n",
              "   SG&A Expense  Operating Expenses  Operating Income  Interest Expense  \\\n",
              "0  6.482200e+10        7.549800e+10      1.900900e+10      3.542000e+09   \n",
              "1  6.010000e+08        3.062000e+09      3.794000e+09      1.917000e+09   \n",
              "2  6.750000e+09        2.042100e+10      2.331600e+10     -1.260000e+08   \n",
              "3  8.130000e+08        2.897000e+09      1.499400e+10      3.420000e+08   \n",
              "4  1.811100e+10        4.071100e+10     -1.455700e+10      5.059000e+09   \n",
              "\n",
              "   Earnings before Tax  ...  Receivables growth  Inventory Growth  \\\n",
              "0         1.511100e+10  ...              0.2570            0.0000   \n",
              "1         2.196000e+09  ...              0.0345           -0.0920   \n",
              "2         2.331700e+10  ...              0.1989            0.0387   \n",
              "3         1.430300e+10  ...              0.4573            0.1511   \n",
              "4        -2.177200e+10  ...             -0.2781           -0.2892   \n",
              "\n",
              "   Asset Growth  Book Value per Share Growth  Debt Growth  R&D Expense Growth  \\\n",
              "0        0.3426                       0.0722       0.7309              0.0000   \n",
              "1       -0.0024                       0.0076      -0.0137              0.0000   \n",
              "2        0.0382                       0.1014      -0.0169              0.0390   \n",
              "3        0.2275                       0.6395      -0.5841              0.1738   \n",
              "4       -0.1575                      -0.4487      -0.2297              0.0000   \n",
              "\n",
              "   SG&A Expenses Growth             Sector  2019 PRICE VAR [%]  Class  \n",
              "0                0.1308  Consumer Cyclical           32.794573      1  \n",
              "1               -0.1265             Energy           40.588068      1  \n",
              "2               -0.0942         Technology           30.295514      1  \n",
              "3                0.0942         Technology           64.213737      1  \n",
              "4                0.0308        Industrials           44.757840      1  \n",
              "\n",
              "[5 rows x 224 columns]"
            ],
            "text/html": [
              "\n",
              "  <div id=\"df-a640815f-3ff9-4c90-8785-c15e9b346ed4\">\n",
              "    <div class=\"colab-df-container\">\n",
              "      <div>\n",
              "<style scoped>\n",
              "    .dataframe tbody tr th:only-of-type {\n",
              "        vertical-align: middle;\n",
              "    }\n",
              "\n",
              "    .dataframe tbody tr th {\n",
              "        vertical-align: top;\n",
              "    }\n",
              "\n",
              "    .dataframe thead th {\n",
              "        text-align: right;\n",
              "    }\n",
              "</style>\n",
              "<table border=\"1\" class=\"dataframe\">\n",
              "  <thead>\n",
              "    <tr style=\"text-align: right;\">\n",
              "      <th></th>\n",
              "      <th>Revenue</th>\n",
              "      <th>Revenue Growth</th>\n",
              "      <th>Cost of Revenue</th>\n",
              "      <th>Gross Profit</th>\n",
              "      <th>R&amp;D Expenses</th>\n",
              "      <th>SG&amp;A Expense</th>\n",
              "      <th>Operating Expenses</th>\n",
              "      <th>Operating Income</th>\n",
              "      <th>Interest Expense</th>\n",
              "      <th>Earnings before Tax</th>\n",
              "      <th>...</th>\n",
              "      <th>Receivables growth</th>\n",
              "      <th>Inventory Growth</th>\n",
              "      <th>Asset Growth</th>\n",
              "      <th>Book Value per Share Growth</th>\n",
              "      <th>Debt Growth</th>\n",
              "      <th>R&amp;D Expense Growth</th>\n",
              "      <th>SG&amp;A Expenses Growth</th>\n",
              "      <th>Sector</th>\n",
              "      <th>2019 PRICE VAR [%]</th>\n",
              "      <th>Class</th>\n",
              "    </tr>\n",
              "  </thead>\n",
              "  <tbody>\n",
              "    <tr>\n",
              "      <th>0</th>\n",
              "      <td>9.450700e+10</td>\n",
              "      <td>0.1115</td>\n",
              "      <td>0.000000e+00</td>\n",
              "      <td>9.450700e+10</td>\n",
              "      <td>0.000000e+00</td>\n",
              "      <td>6.482200e+10</td>\n",
              "      <td>7.549800e+10</td>\n",
              "      <td>1.900900e+10</td>\n",
              "      <td>3.542000e+09</td>\n",
              "      <td>1.511100e+10</td>\n",
              "      <td>...</td>\n",
              "      <td>0.2570</td>\n",
              "      <td>0.0000</td>\n",
              "      <td>0.3426</td>\n",
              "      <td>0.0722</td>\n",
              "      <td>0.7309</td>\n",
              "      <td>0.0000</td>\n",
              "      <td>0.1308</td>\n",
              "      <td>Consumer Cyclical</td>\n",
              "      <td>32.794573</td>\n",
              "      <td>1</td>\n",
              "    </tr>\n",
              "    <tr>\n",
              "      <th>1</th>\n",
              "      <td>1.414400e+10</td>\n",
              "      <td>0.0320</td>\n",
              "      <td>7.288000e+09</td>\n",
              "      <td>6.856000e+09</td>\n",
              "      <td>0.000000e+00</td>\n",
              "      <td>6.010000e+08</td>\n",
              "      <td>3.062000e+09</td>\n",
              "      <td>3.794000e+09</td>\n",
              "      <td>1.917000e+09</td>\n",
              "      <td>2.196000e+09</td>\n",
              "      <td>...</td>\n",
              "      <td>0.0345</td>\n",
              "      <td>-0.0920</td>\n",
              "      <td>-0.0024</td>\n",
              "      <td>0.0076</td>\n",
              "      <td>-0.0137</td>\n",
              "      <td>0.0000</td>\n",
              "      <td>-0.1265</td>\n",
              "      <td>Energy</td>\n",
              "      <td>40.588068</td>\n",
              "      <td>1</td>\n",
              "    </tr>\n",
              "    <tr>\n",
              "      <th>2</th>\n",
              "      <td>7.084800e+10</td>\n",
              "      <td>0.1289</td>\n",
              "      <td>2.711100e+10</td>\n",
              "      <td>4.373700e+10</td>\n",
              "      <td>1.354300e+10</td>\n",
              "      <td>6.750000e+09</td>\n",
              "      <td>2.042100e+10</td>\n",
              "      <td>2.331600e+10</td>\n",
              "      <td>-1.260000e+08</td>\n",
              "      <td>2.331700e+10</td>\n",
              "      <td>...</td>\n",
              "      <td>0.1989</td>\n",
              "      <td>0.0387</td>\n",
              "      <td>0.0382</td>\n",
              "      <td>0.1014</td>\n",
              "      <td>-0.0169</td>\n",
              "      <td>0.0390</td>\n",
              "      <td>-0.0942</td>\n",
              "      <td>Technology</td>\n",
              "      <td>30.295514</td>\n",
              "      <td>1</td>\n",
              "    </tr>\n",
              "    <tr>\n",
              "      <th>3</th>\n",
              "      <td>3.039100e+10</td>\n",
              "      <td>0.4955</td>\n",
              "      <td>1.250000e+10</td>\n",
              "      <td>1.789100e+10</td>\n",
              "      <td>2.141000e+09</td>\n",
              "      <td>8.130000e+08</td>\n",
              "      <td>2.897000e+09</td>\n",
              "      <td>1.499400e+10</td>\n",
              "      <td>3.420000e+08</td>\n",
              "      <td>1.430300e+10</td>\n",
              "      <td>...</td>\n",
              "      <td>0.4573</td>\n",
              "      <td>0.1511</td>\n",
              "      <td>0.2275</td>\n",
              "      <td>0.6395</td>\n",
              "      <td>-0.5841</td>\n",
              "      <td>0.1738</td>\n",
              "      <td>0.0942</td>\n",
              "      <td>Technology</td>\n",
              "      <td>64.213737</td>\n",
              "      <td>1</td>\n",
              "    </tr>\n",
              "    <tr>\n",
              "      <th>4</th>\n",
              "      <td>1.216150e+11</td>\n",
              "      <td>0.0285</td>\n",
              "      <td>9.546100e+10</td>\n",
              "      <td>2.615400e+10</td>\n",
              "      <td>0.000000e+00</td>\n",
              "      <td>1.811100e+10</td>\n",
              "      <td>4.071100e+10</td>\n",
              "      <td>-1.455700e+10</td>\n",
              "      <td>5.059000e+09</td>\n",
              "      <td>-2.177200e+10</td>\n",
              "      <td>...</td>\n",
              "      <td>-0.2781</td>\n",
              "      <td>-0.2892</td>\n",
              "      <td>-0.1575</td>\n",
              "      <td>-0.4487</td>\n",
              "      <td>-0.2297</td>\n",
              "      <td>0.0000</td>\n",
              "      <td>0.0308</td>\n",
              "      <td>Industrials</td>\n",
              "      <td>44.757840</td>\n",
              "      <td>1</td>\n",
              "    </tr>\n",
              "  </tbody>\n",
              "</table>\n",
              "<p>5 rows × 224 columns</p>\n",
              "</div>\n",
              "      <button class=\"colab-df-convert\" onclick=\"convertToInteractive('df-a640815f-3ff9-4c90-8785-c15e9b346ed4')\"\n",
              "              title=\"Convert this dataframe to an interactive table.\"\n",
              "              style=\"display:none;\">\n",
              "        \n",
              "  <svg xmlns=\"http://www.w3.org/2000/svg\" height=\"24px\"viewBox=\"0 0 24 24\"\n",
              "       width=\"24px\">\n",
              "    <path d=\"M0 0h24v24H0V0z\" fill=\"none\"/>\n",
              "    <path d=\"M18.56 5.44l.94 2.06.94-2.06 2.06-.94-2.06-.94-.94-2.06-.94 2.06-2.06.94zm-11 1L8.5 8.5l.94-2.06 2.06-.94-2.06-.94L8.5 2.5l-.94 2.06-2.06.94zm10 10l.94 2.06.94-2.06 2.06-.94-2.06-.94-.94-2.06-.94 2.06-2.06.94z\"/><path d=\"M17.41 7.96l-1.37-1.37c-.4-.4-.92-.59-1.43-.59-.52 0-1.04.2-1.43.59L10.3 9.45l-7.72 7.72c-.78.78-.78 2.05 0 2.83L4 21.41c.39.39.9.59 1.41.59.51 0 1.02-.2 1.41-.59l7.78-7.78 2.81-2.81c.8-.78.8-2.07 0-2.86zM5.41 20L4 18.59l7.72-7.72 1.47 1.35L5.41 20z\"/>\n",
              "  </svg>\n",
              "      </button>\n",
              "      \n",
              "  <style>\n",
              "    .colab-df-container {\n",
              "      display:flex;\n",
              "      flex-wrap:wrap;\n",
              "      gap: 12px;\n",
              "    }\n",
              "\n",
              "    .colab-df-convert {\n",
              "      background-color: #E8F0FE;\n",
              "      border: none;\n",
              "      border-radius: 50%;\n",
              "      cursor: pointer;\n",
              "      display: none;\n",
              "      fill: #1967D2;\n",
              "      height: 32px;\n",
              "      padding: 0 0 0 0;\n",
              "      width: 32px;\n",
              "    }\n",
              "\n",
              "    .colab-df-convert:hover {\n",
              "      background-color: #E2EBFA;\n",
              "      box-shadow: 0px 1px 2px rgba(60, 64, 67, 0.3), 0px 1px 3px 1px rgba(60, 64, 67, 0.15);\n",
              "      fill: #174EA6;\n",
              "    }\n",
              "\n",
              "    [theme=dark] .colab-df-convert {\n",
              "      background-color: #3B4455;\n",
              "      fill: #D2E3FC;\n",
              "    }\n",
              "\n",
              "    [theme=dark] .colab-df-convert:hover {\n",
              "      background-color: #434B5C;\n",
              "      box-shadow: 0px 1px 3px 1px rgba(0, 0, 0, 0.15);\n",
              "      filter: drop-shadow(0px 1px 2px rgba(0, 0, 0, 0.3));\n",
              "      fill: #FFFFFF;\n",
              "    }\n",
              "  </style>\n",
              "\n",
              "      <script>\n",
              "        const buttonEl =\n",
              "          document.querySelector('#df-a640815f-3ff9-4c90-8785-c15e9b346ed4 button.colab-df-convert');\n",
              "        buttonEl.style.display =\n",
              "          google.colab.kernel.accessAllowed ? 'block' : 'none';\n",
              "\n",
              "        async function convertToInteractive(key) {\n",
              "          const element = document.querySelector('#df-a640815f-3ff9-4c90-8785-c15e9b346ed4');\n",
              "          const dataTable =\n",
              "            await google.colab.kernel.invokeFunction('convertToInteractive',\n",
              "                                                     [key], {});\n",
              "          if (!dataTable) return;\n",
              "\n",
              "          const docLinkHtml = 'Like what you see? Visit the ' +\n",
              "            '<a target=\"_blank\" href=https://colab.research.google.com/notebooks/data_table.ipynb>data table notebook</a>'\n",
              "            + ' to learn more about interactive tables.';\n",
              "          element.innerHTML = '';\n",
              "          dataTable['output_type'] = 'display_data';\n",
              "          await google.colab.output.renderOutput(dataTable, element);\n",
              "          const docLink = document.createElement('div');\n",
              "          docLink.innerHTML = docLinkHtml;\n",
              "          element.appendChild(docLink);\n",
              "        }\n",
              "      </script>\n",
              "    </div>\n",
              "  </div>\n",
              "  "
            ]
          },
          "metadata": {},
          "execution_count": 229
        }
      ]
    },
    {
      "cell_type": "code",
      "execution_count": 230,
      "metadata": {
        "id": "Bu4Y7j5MzK_q"
      },
      "outputs": [],
      "source": [
        "df_new = df_new.drop(df_new[df_new['Revenue Growth'].isna()].index)"
      ]
    },
    {
      "cell_type": "code",
      "execution_count": 231,
      "metadata": {
        "colab": {
          "base_uri": "https://localhost:8080/",
          "height": 206
        },
        "outputId": "3a50f3ed-31b8-4cac-ccc5-5609c24bd1d3",
        "id": "cdivkJdCtreC"
      },
      "outputs": [
        {
          "output_type": "execute_result",
          "data": {
            "text/plain": [
              "   Gross Profit Growth  Gross Margin  Intangibles to Total Assets  \\\n",
              "0               0.1115        1.0000                       0.6660   \n",
              "1               0.0564        0.4847                       0.3150   \n",
              "2               0.1187        0.6173                       0.2841   \n",
              "3               1.1208        0.5887                       0.0359   \n",
              "4               0.7216        0.2151                       0.1484   \n",
              "\n",
              "     Net Income  assetTurnover       Revenue  Interest Expense  \\\n",
              "0  1.173100e+10       0.375499  9.450700e+10      3.542000e+09   \n",
              "1  1.609000e+09       0.179342  1.414400e+10      1.917000e+09   \n",
              "2  2.105300e+10       0.553660  7.084800e+10     -1.260000e+08   \n",
              "3  1.413500e+10       0.700641  3.039100e+10      3.420000e+08   \n",
              "4 -2.235500e+10       0.390955  1.216150e+11      5.059000e+09   \n",
              "\n",
              "   Debt to Assets  R&D Expenses  SG&A Expense  Revenue Growth  \n",
              "0          0.4440  0.000000e+00  6.482200e+10          0.1115  \n",
              "1          0.4733  0.000000e+00  6.010000e+08          0.0320  \n",
              "2          0.2060  1.354300e+10  6.750000e+09          0.1289  \n",
              "3          0.1069  2.141000e+09  8.130000e+08          0.4955  \n",
              "4          0.3330  0.000000e+00  1.811100e+10          0.0285  "
            ],
            "text/html": [
              "\n",
              "  <div id=\"df-352e7b12-162f-4383-b7fe-25ce4a6cd6fc\">\n",
              "    <div class=\"colab-df-container\">\n",
              "      <div>\n",
              "<style scoped>\n",
              "    .dataframe tbody tr th:only-of-type {\n",
              "        vertical-align: middle;\n",
              "    }\n",
              "\n",
              "    .dataframe tbody tr th {\n",
              "        vertical-align: top;\n",
              "    }\n",
              "\n",
              "    .dataframe thead th {\n",
              "        text-align: right;\n",
              "    }\n",
              "</style>\n",
              "<table border=\"1\" class=\"dataframe\">\n",
              "  <thead>\n",
              "    <tr style=\"text-align: right;\">\n",
              "      <th></th>\n",
              "      <th>Gross Profit Growth</th>\n",
              "      <th>Gross Margin</th>\n",
              "      <th>Intangibles to Total Assets</th>\n",
              "      <th>Net Income</th>\n",
              "      <th>assetTurnover</th>\n",
              "      <th>Revenue</th>\n",
              "      <th>Interest Expense</th>\n",
              "      <th>Debt to Assets</th>\n",
              "      <th>R&amp;D Expenses</th>\n",
              "      <th>SG&amp;A Expense</th>\n",
              "      <th>Revenue Growth</th>\n",
              "    </tr>\n",
              "  </thead>\n",
              "  <tbody>\n",
              "    <tr>\n",
              "      <th>0</th>\n",
              "      <td>0.1115</td>\n",
              "      <td>1.0000</td>\n",
              "      <td>0.6660</td>\n",
              "      <td>1.173100e+10</td>\n",
              "      <td>0.375499</td>\n",
              "      <td>9.450700e+10</td>\n",
              "      <td>3.542000e+09</td>\n",
              "      <td>0.4440</td>\n",
              "      <td>0.000000e+00</td>\n",
              "      <td>6.482200e+10</td>\n",
              "      <td>0.1115</td>\n",
              "    </tr>\n",
              "    <tr>\n",
              "      <th>1</th>\n",
              "      <td>0.0564</td>\n",
              "      <td>0.4847</td>\n",
              "      <td>0.3150</td>\n",
              "      <td>1.609000e+09</td>\n",
              "      <td>0.179342</td>\n",
              "      <td>1.414400e+10</td>\n",
              "      <td>1.917000e+09</td>\n",
              "      <td>0.4733</td>\n",
              "      <td>0.000000e+00</td>\n",
              "      <td>6.010000e+08</td>\n",
              "      <td>0.0320</td>\n",
              "    </tr>\n",
              "    <tr>\n",
              "      <th>2</th>\n",
              "      <td>0.1187</td>\n",
              "      <td>0.6173</td>\n",
              "      <td>0.2841</td>\n",
              "      <td>2.105300e+10</td>\n",
              "      <td>0.553660</td>\n",
              "      <td>7.084800e+10</td>\n",
              "      <td>-1.260000e+08</td>\n",
              "      <td>0.2060</td>\n",
              "      <td>1.354300e+10</td>\n",
              "      <td>6.750000e+09</td>\n",
              "      <td>0.1289</td>\n",
              "    </tr>\n",
              "    <tr>\n",
              "      <th>3</th>\n",
              "      <td>1.1208</td>\n",
              "      <td>0.5887</td>\n",
              "      <td>0.0359</td>\n",
              "      <td>1.413500e+10</td>\n",
              "      <td>0.700641</td>\n",
              "      <td>3.039100e+10</td>\n",
              "      <td>3.420000e+08</td>\n",
              "      <td>0.1069</td>\n",
              "      <td>2.141000e+09</td>\n",
              "      <td>8.130000e+08</td>\n",
              "      <td>0.4955</td>\n",
              "    </tr>\n",
              "    <tr>\n",
              "      <th>4</th>\n",
              "      <td>0.7216</td>\n",
              "      <td>0.2151</td>\n",
              "      <td>0.1484</td>\n",
              "      <td>-2.235500e+10</td>\n",
              "      <td>0.390955</td>\n",
              "      <td>1.216150e+11</td>\n",
              "      <td>5.059000e+09</td>\n",
              "      <td>0.3330</td>\n",
              "      <td>0.000000e+00</td>\n",
              "      <td>1.811100e+10</td>\n",
              "      <td>0.0285</td>\n",
              "    </tr>\n",
              "  </tbody>\n",
              "</table>\n",
              "</div>\n",
              "      <button class=\"colab-df-convert\" onclick=\"convertToInteractive('df-352e7b12-162f-4383-b7fe-25ce4a6cd6fc')\"\n",
              "              title=\"Convert this dataframe to an interactive table.\"\n",
              "              style=\"display:none;\">\n",
              "        \n",
              "  <svg xmlns=\"http://www.w3.org/2000/svg\" height=\"24px\"viewBox=\"0 0 24 24\"\n",
              "       width=\"24px\">\n",
              "    <path d=\"M0 0h24v24H0V0z\" fill=\"none\"/>\n",
              "    <path d=\"M18.56 5.44l.94 2.06.94-2.06 2.06-.94-2.06-.94-.94-2.06-.94 2.06-2.06.94zm-11 1L8.5 8.5l.94-2.06 2.06-.94-2.06-.94L8.5 2.5l-.94 2.06-2.06.94zm10 10l.94 2.06.94-2.06 2.06-.94-2.06-.94-.94-2.06-.94 2.06-2.06.94z\"/><path d=\"M17.41 7.96l-1.37-1.37c-.4-.4-.92-.59-1.43-.59-.52 0-1.04.2-1.43.59L10.3 9.45l-7.72 7.72c-.78.78-.78 2.05 0 2.83L4 21.41c.39.39.9.59 1.41.59.51 0 1.02-.2 1.41-.59l7.78-7.78 2.81-2.81c.8-.78.8-2.07 0-2.86zM5.41 20L4 18.59l7.72-7.72 1.47 1.35L5.41 20z\"/>\n",
              "  </svg>\n",
              "      </button>\n",
              "      \n",
              "  <style>\n",
              "    .colab-df-container {\n",
              "      display:flex;\n",
              "      flex-wrap:wrap;\n",
              "      gap: 12px;\n",
              "    }\n",
              "\n",
              "    .colab-df-convert {\n",
              "      background-color: #E8F0FE;\n",
              "      border: none;\n",
              "      border-radius: 50%;\n",
              "      cursor: pointer;\n",
              "      display: none;\n",
              "      fill: #1967D2;\n",
              "      height: 32px;\n",
              "      padding: 0 0 0 0;\n",
              "      width: 32px;\n",
              "    }\n",
              "\n",
              "    .colab-df-convert:hover {\n",
              "      background-color: #E2EBFA;\n",
              "      box-shadow: 0px 1px 2px rgba(60, 64, 67, 0.3), 0px 1px 3px 1px rgba(60, 64, 67, 0.15);\n",
              "      fill: #174EA6;\n",
              "    }\n",
              "\n",
              "    [theme=dark] .colab-df-convert {\n",
              "      background-color: #3B4455;\n",
              "      fill: #D2E3FC;\n",
              "    }\n",
              "\n",
              "    [theme=dark] .colab-df-convert:hover {\n",
              "      background-color: #434B5C;\n",
              "      box-shadow: 0px 1px 3px 1px rgba(0, 0, 0, 0.15);\n",
              "      filter: drop-shadow(0px 1px 2px rgba(0, 0, 0, 0.3));\n",
              "      fill: #FFFFFF;\n",
              "    }\n",
              "  </style>\n",
              "\n",
              "      <script>\n",
              "        const buttonEl =\n",
              "          document.querySelector('#df-352e7b12-162f-4383-b7fe-25ce4a6cd6fc button.colab-df-convert');\n",
              "        buttonEl.style.display =\n",
              "          google.colab.kernel.accessAllowed ? 'block' : 'none';\n",
              "\n",
              "        async function convertToInteractive(key) {\n",
              "          const element = document.querySelector('#df-352e7b12-162f-4383-b7fe-25ce4a6cd6fc');\n",
              "          const dataTable =\n",
              "            await google.colab.kernel.invokeFunction('convertToInteractive',\n",
              "                                                     [key], {});\n",
              "          if (!dataTable) return;\n",
              "\n",
              "          const docLinkHtml = 'Like what you see? Visit the ' +\n",
              "            '<a target=\"_blank\" href=https://colab.research.google.com/notebooks/data_table.ipynb>data table notebook</a>'\n",
              "            + ' to learn more about interactive tables.';\n",
              "          element.innerHTML = '';\n",
              "          dataTable['output_type'] = 'display_data';\n",
              "          await google.colab.output.renderOutput(dataTable, element);\n",
              "          const docLink = document.createElement('div');\n",
              "          docLink.innerHTML = docLinkHtml;\n",
              "          element.appendChild(docLink);\n",
              "        }\n",
              "      </script>\n",
              "    </div>\n",
              "  </div>\n",
              "  "
            ]
          },
          "metadata": {},
          "execution_count": 231
        }
      ],
      "source": [
        "cols = [\n",
        "  'Gross Profit Growth',\n",
        "  'Gross Margin',\n",
        "  'Intangibles to Total Assets',\n",
        "  'Net Income',\n",
        "  'assetTurnover',\n",
        "  'Revenue',\n",
        "  'Interest Expense',\n",
        "  'Debt to Assets',\n",
        "  'R&D Expenses',\n",
        "  'SG&A Expense',\n",
        "  'Revenue Growth'\n",
        "]\n",
        "\n",
        "df_red = df_new[cols]\n",
        "df_red.head()"
      ]
    },
    {
      "cell_type": "code",
      "source": [
        "df_red.shape"
      ],
      "metadata": {
        "colab": {
          "base_uri": "https://localhost:8080/"
        },
        "id": "_1gkbJyVzCqI",
        "outputId": "6a65c944-d2ac-4e63-a87c-dde405690bd2"
      },
      "execution_count": 232,
      "outputs": [
        {
          "output_type": "execute_result",
          "data": {
            "text/plain": [
              "(4253, 11)"
            ]
          },
          "metadata": {},
          "execution_count": 232
        }
      ]
    },
    {
      "cell_type": "markdown",
      "metadata": {
        "id": "CXxK8YhPtreC"
      },
      "source": [
        "###Remove Outlier from New Dataset"
      ]
    },
    {
      "cell_type": "code",
      "execution_count": 233,
      "metadata": {
        "id": "-drJ9EWvtreD"
      },
      "outputs": [],
      "source": [
        "df_tmp = df_red.copy()\n",
        "no = 0\n",
        "Q1 = df_tmp.quantile(0.25)\n",
        "Q3 = df_tmp.quantile(0.75)\n",
        "IQR = Q3 - Q1\n",
        "for col in df_tmp.columns:\n",
        "  df_tmp = df_tmp[df_tmp[col] > (Q1[no] - 1.5 * IQR[no])]\n",
        "  df_tmp = df_tmp[df_tmp[col] < (Q3[no] + 1.5 * IQR[no])]\n",
        "  no += 1"
      ]
    },
    {
      "cell_type": "code",
      "execution_count": 234,
      "metadata": {
        "colab": {
          "base_uri": "https://localhost:8080/"
        },
        "outputId": "0d9740c0-c4d3-4690-d553-770ccf09fc74",
        "id": "dpLDNLJ-treD"
      },
      "outputs": [
        {
          "output_type": "execute_result",
          "data": {
            "text/plain": [
              "(1913, 11)"
            ]
          },
          "metadata": {},
          "execution_count": 234
        }
      ],
      "source": [
        "df_tmp.shape"
      ]
    },
    {
      "cell_type": "code",
      "source": [
        "df_new = df_tmp"
      ],
      "metadata": {
        "id": "qdNLzJSZt69x"
      },
      "execution_count": 236,
      "outputs": []
    },
    {
      "cell_type": "markdown",
      "metadata": {
        "id": "kRiXEJk5W0X0"
      },
      "source": [
        "###Split Dataset for Final Model"
      ]
    },
    {
      "cell_type": "code",
      "execution_count": 237,
      "metadata": {
        "id": "hb7SoQDTevIx"
      },
      "outputs": [],
      "source": [
        "train_features_new = df_new.sample(frac=0.85, random_state=0)\n",
        "test_features_new = df_new.drop(train_features_new.index)\n",
        "\n",
        "train_labels_new = train_features_new.pop('Revenue Growth')\n",
        "test_labels_new = test_features_new.pop('Revenue Growth')"
      ]
    },
    {
      "cell_type": "code",
      "execution_count": 238,
      "metadata": {
        "colab": {
          "base_uri": "https://localhost:8080/"
        },
        "id": "slYXmAU0CH7k",
        "outputId": "5503596c-016f-426d-f8d3-3b3d8609d3bc"
      },
      "outputs": [
        {
          "output_type": "execute_result",
          "data": {
            "text/plain": [
              "(1626, 10)"
            ]
          },
          "metadata": {},
          "execution_count": 238
        }
      ],
      "source": [
        "train_features_new.shape"
      ]
    },
    {
      "cell_type": "markdown",
      "metadata": {
        "id": "iEN4YyBNW6EN"
      },
      "source": [
        "###Build and Train Final Model"
      ]
    },
    {
      "cell_type": "code",
      "execution_count": 274,
      "metadata": {
        "colab": {
          "base_uri": "https://localhost:8080/"
        },
        "id": "4M9gH2nLevIy",
        "outputId": "d073e04c-edcd-4a24-ffa7-10a6f5ed131c"
      },
      "outputs": [
        {
          "output_type": "stream",
          "name": "stdout",
          "text": [
            "Epoch 1/10\n",
            "41/41 [==============================] - 1s 7ms/step - loss: 0.0753 - mae: 0.0753 - val_loss: 0.0571 - val_mae: 0.0571\n",
            "Epoch 2/10\n",
            "41/41 [==============================] - 0s 4ms/step - loss: 0.0517 - mae: 0.0517 - val_loss: 0.0475 - val_mae: 0.0475\n",
            "Epoch 3/10\n",
            "41/41 [==============================] - 0s 3ms/step - loss: 0.0456 - mae: 0.0456 - val_loss: 0.0577 - val_mae: 0.0577\n",
            "Epoch 4/10\n",
            "41/41 [==============================] - 0s 3ms/step - loss: 0.0459 - mae: 0.0459 - val_loss: 0.0535 - val_mae: 0.0535\n",
            "Epoch 5/10\n",
            "41/41 [==============================] - 0s 3ms/step - loss: 0.0424 - mae: 0.0424 - val_loss: 0.0488 - val_mae: 0.0488\n",
            "Epoch 6/10\n",
            "41/41 [==============================] - 0s 3ms/step - loss: 0.0400 - mae: 0.0400 - val_loss: 0.0447 - val_mae: 0.0447\n",
            "Epoch 7/10\n",
            "41/41 [==============================] - 0s 3ms/step - loss: 0.0376 - mae: 0.0376 - val_loss: 0.0454 - val_mae: 0.0454\n",
            "Epoch 8/10\n",
            "41/41 [==============================] - 0s 3ms/step - loss: 0.0386 - mae: 0.0386 - val_loss: 0.0460 - val_mae: 0.0460\n",
            "Epoch 9/10\n",
            "41/41 [==============================] - 0s 3ms/step - loss: 0.0354 - mae: 0.0354 - val_loss: 0.0441 - val_mae: 0.0441\n",
            "Epoch 10/10\n",
            "41/41 [==============================] - 0s 3ms/step - loss: 0.0352 - mae: 0.0352 - val_loss: 0.0470 - val_mae: 0.0470\n"
          ]
        }
      ],
      "source": [
        "import tensorflow as tf\n",
        "\n",
        "normalizer_new = tf.keras.layers.Normalization()\n",
        "normalizer_new.adapt(np.array(train_features_new))\n",
        "\n",
        "model_new = tf.keras.Sequential([\n",
        "    normalizer_new,\n",
        "    tf.keras.layers.Dense(64, activation='relu'),\n",
        "    tf.keras.layers.Dense(128, activation='relu'),\n",
        "    tf.keras.layers.Dense(256, activation='relu'),\n",
        "    tf.keras.layers.Dense(1)                        \n",
        "])\n",
        "\n",
        "model_new.compile(\n",
        "    loss = tf.keras.losses.mae,\n",
        "    optimizer = tf.optimizers.Adam(),\n",
        "    metrics = ['mae']\n",
        ")\n",
        "\n",
        "history = model_new.fit(\n",
        "    train_features_new, \n",
        "    train_labels_new, \n",
        "    validation_split=0.2,\n",
        "    epochs=10)"
      ]
    },
    {
      "cell_type": "markdown",
      "metadata": {
        "id": "HdSr7LIwW_wd"
      },
      "source": [
        "###Test Final Model"
      ]
    },
    {
      "cell_type": "code",
      "execution_count": 275,
      "metadata": {
        "colab": {
          "base_uri": "https://localhost:8080/",
          "height": 610
        },
        "id": "h2MtHgAgevIz",
        "outputId": "d598f332-a951-4693-efd0-9f45fd0ebf41"
      },
      "outputs": [
        {
          "output_type": "display_data",
          "data": {
            "text/plain": [
              "<Figure size 720x720 with 1 Axes>"
            ],
            "image/png": "[encoded data removed]"
          },
          "metadata": {
            "needs_background": "light"
          }
        }
      ],
      "source": [
        "import matplotlib.pyplot as plt\n",
        "\n",
        "test_pred_new = model_new.predict(test_features_new).flatten()\n",
        "\n",
        "plt.figure(figsize=(10, 10))\n",
        "\n",
        "plt.scatter(test_labels_new, test_pred_new)\n",
        "plt.xlabel('True Values')\n",
        "plt.ylabel('Predictions')\n",
        "\n",
        "lims = [-0.5, 0.8]\n",
        "plt.xlim(lims)\n",
        "plt.ylim(lims)\n",
        "_ = plt.plot(lims, lims)"
      ]
    },
    {
      "cell_type": "code",
      "execution_count": 286,
      "metadata": {
        "colab": {
          "base_uri": "https://localhost:8080/"
        },
        "id": "1l6R4yg9KDMn",
        "outputId": "1dc504f8-ff54-478c-c3d3-87940bf42550"
      },
      "outputs": [
        {
          "output_type": "execute_result",
          "data": {
            "text/plain": [
              "array([[0.08344211]], dtype=float32)"
            ]
          },
          "metadata": {},
          "execution_count": 286
        }
      ],
      "source": [
        "model_new.predict(test_features_new.iloc[4].values)"
      ]
    },
    {
      "cell_type": "code",
      "execution_count": 280,
      "metadata": {
        "colab": {
          "base_uri": "https://localhost:8080/"
        },
        "id": "jDgbQbJSKAiG",
        "outputId": "8848ede1-5a1a-4651-815d-43e844fd6dee"
      },
      "outputs": [
        {
          "output_type": "execute_result",
          "data": {
            "text/plain": [
              "208     0.1061\n",
              "341     0.1922\n",
              "348     0.3677\n",
              "356     0.1479\n",
              "374     0.2711\n",
              "         ...  \n",
              "4334    0.0000\n",
              "4335    0.1212\n",
              "4340    0.0781\n",
              "4361    0.0915\n",
              "4382    0.1068\n",
              "Name: Revenue Growth, Length: 287, dtype: float64"
            ]
          },
          "metadata": {},
          "execution_count": 280
        }
      ],
      "source": [
        "test_labels_new"
      ]
    },
    {
      "cell_type": "markdown",
      "metadata": {
        "id": "XWwRGFXrXCjQ"
      },
      "source": [
        "###Model Evaluation with R2 Score"
      ]
    },
    {
      "cell_type": "code",
      "execution_count": 276,
      "metadata": {
        "colab": {
          "base_uri": "https://localhost:8080/"
        },
        "id": "SciJoBFXJRWy",
        "outputId": "bda7b698-df47-4d84-de33-dd4f7503ac2b"
      },
      "outputs": [
        {
          "output_type": "execute_result",
          "data": {
            "text/plain": [
              "0.7115936263499012"
            ]
          },
          "metadata": {},
          "execution_count": 276
        }
      ],
      "source": [
        "from sklearn.metrics import r2_score\n",
        "r2_score(test_labels_new, test_pred_new)"
      ]
    },
    {
      "cell_type": "markdown",
      "metadata": {
        "id": "j3lly7kUXG_4"
      },
      "source": [
        "###Save Final Model in SavedModel format"
      ]
    },
    {
      "cell_type": "code",
      "execution_count": null,
      "metadata": {
        "colab": {
          "base_uri": "https://localhost:8080/"
        },
        "id": "Z6wOaLaJ-lxz",
        "outputId": "1b1ae2af-6fbb-42f5-9154-1c21d5ba8332"
      },
      "outputs": [
        {
          "name": "stdout",
          "output_type": "stream",
          "text": [
            "INFO:tensorflow:Assets written to: saved_model/revenue_growth_regression_model/assets\n"
          ]
        }
      ],
      "source": [
        "# !mkdir -p saved_model\n",
        "# tf.saved_model.save(model_red, 'saved_model/revenue_growth_regression_model')"
      ]
    },
    {
      "cell_type": "markdown",
      "metadata": {
        "id": "vrbbWh1SXNaf"
      },
      "source": [
        "###Save Final Model in H5 format"
      ]
    },
    {
      "cell_type": "code",
      "execution_count": null,
      "metadata": {
        "id": "4SLErfOYCp6S"
      },
      "outputs": [],
      "source": [
        "# !mkdir -p h5_model\n",
        "# model_red.save('h5_model/revenue_growth_regression_model.h5')"
      ]
    },
    {
      "cell_type": "markdown",
      "metadata": {
        "id": "UQqDsIoFXPM2"
      },
      "source": [
        "###Convert and Save Final Model into TFLite format"
      ]
    },
    {
      "cell_type": "code",
      "execution_count": 287,
      "metadata": {
        "colab": {
          "base_uri": "https://localhost:8080/"
        },
        "id": "cavuuJxNWYG9",
        "outputId": "6cf34dd6-7a84-49db-be1a-4574d1dc4325"
      },
      "outputs": [
        {
          "output_type": "stream",
          "name": "stdout",
          "text": [
            "INFO:tensorflow:Assets written to: /tmp/tmpay_dmrwo/assets\n"
          ]
        },
        {
          "output_type": "stream",
          "name": "stderr",
          "text": [
            "WARNING:absl:Buffer deduplication procedure will be skipped when flatbuffer library is not properly loaded\n"
          ]
        },
        {
          "output_type": "execute_result",
          "data": {
            "text/plain": [
              "171992"
            ]
          },
          "metadata": {},
          "execution_count": 287
        }
      ],
      "source": [
        "converter = tf.lite.TFLiteConverter.from_keras_model(model=model_new)\n",
        "tfmodel = converter.convert()\n",
        "open(\"revenue_growth.tflite\",\"wb\").write(tfmodel)"
      ]
    },
    {
      "cell_type": "code",
      "execution_count": null,
      "metadata": {
        "colab": {
          "base_uri": "https://localhost:8080/"
        },
        "id": "sHCmV7W7Y1S8",
        "outputId": "b7e64f29-1355-49da-b2fb-f9ed86688cae"
      },
      "outputs": [
        {
          "name": "stdout",
          "output_type": "stream",
          "text": [
            "2014_Financial_Data.csv  2017_Financial_Data.csv  revenue_growth.tflite\n",
            "2015_Financial_Data.csv  2018_Financial_Data.csv  \u001b[0m\u001b[01;34msample_data\u001b[0m/\n",
            "2016_Financial_Data.csv  kaggle.json\n"
          ]
        }
      ],
      "source": [
        "ls"
      ]
    }
  ],
  "metadata": {
    "colab": {
      "name": "Revenue Growth Prediction Model.ipynb",
      "provenance": []
    },
    "kernelspec": {
      "display_name": "Python 3",
      "name": "python3"
    },
    "language_info": {
      "name": "python"
    }
  },
  "nbformat": 4,
  "nbformat_minor": 0
}