{
  "nbformat": 4,
  "nbformat_minor": 0,
  "metadata": {
    "colab": {
      "name": "Initial Model.ipynb",
      "provenance": []
    },
    "kernelspec": {
      "name": "python3",
      "display_name": "Python 3"
    },
    "language_info": {
      "name": "python"
    }
  },
  "cells": [
    {
      "cell_type": "code",
      "execution_count": null,
      "metadata": {
        "id": "tgi9-FpNCVIq"
      },
      "outputs": [],
      "source": [
        "import pandas as pd\n",
        "import numpy as np\n",
        "import tensorflow as tf\n",
        "import matplotlib.pyplot as plt"
      ]
    },
    {
      "cell_type": "code",
      "source": [
        "df_raw = pd.read_csv('1000_companies_cleaned.csv')\n",
        "df_raw.drop(df_raw.columns[0], axis=1, inplace=True)\n",
        "df_raw.head()"
      ],
      "metadata": {
        "colab": {
          "base_uri": "https://localhost:8080/",
          "height": 206
        },
        "id": "_aTOJE51DcF1",
        "outputId": "7ff625bd-24dc-490f-b4e8-d4ceeae64671"
      },
      "execution_count": null,
      "outputs": [
        {
          "output_type": "execute_result",
          "data": {
            "text/plain": [
              "   R&D Spend  Administration  Marketing Spend     Profit\n",
              "0  165349.20       136897.80        471784.10  192261.83\n",
              "1  153441.51       101145.55        407934.54  191050.39\n",
              "2  144372.41       118671.85        383199.62  182901.99\n",
              "3  131876.90        99814.71        362861.36  156991.12\n",
              "4  134615.46       147198.87        127716.82  156122.51"
            ],
            "text/html": [
              "\n",
              "  <div id=\"df-d842466c-8543-4e6b-90f9-cdd1895713a4\">\n",
              "    <div class=\"colab-df-container\">\n",
              "      <div>\n",
              "<style scoped>\n",
              "    .dataframe tbody tr th:only-of-type {\n",
              "        vertical-align: middle;\n",
              "    }\n",
              "\n",
              "    .dataframe tbody tr th {\n",
              "        vertical-align: top;\n",
              "    }\n",
              "\n",
              "    .dataframe thead th {\n",
              "        text-align: right;\n",
              "    }\n",
              "</style>\n",
              "<table border=\"1\" class=\"dataframe\">\n",
              "  <thead>\n",
              "    <tr style=\"text-align: right;\">\n",
              "      <th></th>\n",
              "      <th>R&amp;D Spend</th>\n",
              "      <th>Administration</th>\n",
              "      <th>Marketing Spend</th>\n",
              "      <th>Profit</th>\n",
              "    </tr>\n",
              "  </thead>\n",
              "  <tbody>\n",
              "    <tr>\n",
              "      <th>0</th>\n",
              "      <td>165349.20</td>\n",
              "      <td>136897.80</td>\n",
              "      <td>471784.10</td>\n",
              "      <td>192261.83</td>\n",
              "    </tr>\n",
              "    <tr>\n",
              "      <th>1</th>\n",
              "      <td>153441.51</td>\n",
              "      <td>101145.55</td>\n",
              "      <td>407934.54</td>\n",
              "      <td>191050.39</td>\n",
              "    </tr>\n",
              "    <tr>\n",
              "      <th>2</th>\n",
              "      <td>144372.41</td>\n",
              "      <td>118671.85</td>\n",
              "      <td>383199.62</td>\n",
              "      <td>182901.99</td>\n",
              "    </tr>\n",
              "    <tr>\n",
              "      <th>3</th>\n",
              "      <td>131876.90</td>\n",
              "      <td>99814.71</td>\n",
              "      <td>362861.36</td>\n",
              "      <td>156991.12</td>\n",
              "    </tr>\n",
              "    <tr>\n",
              "      <th>4</th>\n",
              "      <td>134615.46</td>\n",
              "      <td>147198.87</td>\n",
              "      <td>127716.82</td>\n",
              "      <td>156122.51</td>\n",
              "    </tr>\n",
              "  </tbody>\n",
              "</table>\n",
              "</div>\n",
              "      <button class=\"colab-df-convert\" onclick=\"convertToInteractive('df-d842466c-8543-4e6b-90f9-cdd1895713a4')\"\n",
              "              title=\"Convert this dataframe to an interactive table.\"\n",
              "              style=\"display:none;\">\n",
              "        \n",
              "  <svg xmlns=\"http://www.w3.org/2000/svg\" height=\"24px\"viewBox=\"0 0 24 24\"\n",
              "       width=\"24px\">\n",
              "    <path d=\"M0 0h24v24H0V0z\" fill=\"none\"/>\n",
              "    <path d=\"M18.56 5.44l.94 2.06.94-2.06 2.06-.94-2.06-.94-.94-2.06-.94 2.06-2.06.94zm-11 1L8.5 8.5l.94-2.06 2.06-.94-2.06-.94L8.5 2.5l-.94 2.06-2.06.94zm10 10l.94 2.06.94-2.06 2.06-.94-2.06-.94-.94-2.06-.94 2.06-2.06.94z\"/><path d=\"M17.41 7.96l-1.37-1.37c-.4-.4-.92-.59-1.43-.59-.52 0-1.04.2-1.43.59L10.3 9.45l-7.72 7.72c-.78.78-.78 2.05 0 2.83L4 21.41c.39.39.9.59 1.41.59.51 0 1.02-.2 1.41-.59l7.78-7.78 2.81-2.81c.8-.78.8-2.07 0-2.86zM5.41 20L4 18.59l7.72-7.72 1.47 1.35L5.41 20z\"/>\n",
              "  </svg>\n",
              "      </button>\n",
              "      \n",
              "  <style>\n",
              "    .colab-df-container {\n",
              "      display:flex;\n",
              "      flex-wrap:wrap;\n",
              "      gap: 12px;\n",
              "    }\n",
              "\n",
              "    .colab-df-convert {\n",
              "      background-color: #E8F0FE;\n",
              "      border: none;\n",
              "      border-radius: 50%;\n",
              "      cursor: pointer;\n",
              "      display: none;\n",
              "      fill: #1967D2;\n",
              "      height: 32px;\n",
              "      padding: 0 0 0 0;\n",
              "      width: 32px;\n",
              "    }\n",
              "\n",
              "    .colab-df-convert:hover {\n",
              "      background-color: #E2EBFA;\n",
              "      box-shadow: 0px 1px 2px rgba(60, 64, 67, 0.3), 0px 1px 3px 1px rgba(60, 64, 67, 0.15);\n",
              "      fill: #174EA6;\n",
              "    }\n",
              "\n",
              "    [theme=dark] .colab-df-convert {\n",
              "      background-color: #3B4455;\n",
              "      fill: #D2E3FC;\n",
              "    }\n",
              "\n",
              "    [theme=dark] .colab-df-convert:hover {\n",
              "      background-color: #434B5C;\n",
              "      box-shadow: 0px 1px 3px 1px rgba(0, 0, 0, 0.15);\n",
              "      filter: drop-shadow(0px 1px 2px rgba(0, 0, 0, 0.3));\n",
              "      fill: #FFFFFF;\n",
              "    }\n",
              "  </style>\n",
              "\n",
              "      <script>\n",
              "        const buttonEl =\n",
              "          document.querySelector('#df-d842466c-8543-4e6b-90f9-cdd1895713a4 button.colab-df-convert');\n",
              "        buttonEl.style.display =\n",
              "          google.colab.kernel.accessAllowed ? 'block' : 'none';\n",
              "\n",
              "        async function convertToInteractive(key) {\n",
              "          const element = document.querySelector('#df-d842466c-8543-4e6b-90f9-cdd1895713a4');\n",
              "          const dataTable =\n",
              "            await google.colab.kernel.invokeFunction('convertToInteractive',\n",
              "                                                     [key], {});\n",
              "          if (!dataTable) return;\n",
              "\n",
              "          const docLinkHtml = 'Like what you see? Visit the ' +\n",
              "            '<a target=\"_blank\" href=https://colab.research.google.com/notebooks/data_table.ipynb>data table notebook</a>'\n",
              "            + ' to learn more about interactive tables.';\n",
              "          element.innerHTML = '';\n",
              "          dataTable['output_type'] = 'display_data';\n",
              "          await google.colab.output.renderOutput(dataTable, element);\n",
              "          const docLink = document.createElement('div');\n",
              "          docLink.innerHTML = docLinkHtml;\n",
              "          element.appendChild(docLink);\n",
              "        }\n",
              "      </script>\n",
              "    </div>\n",
              "  </div>\n",
              "  "
            ]
          },
          "metadata": {},
          "execution_count": 2
        }
      ]
    },
    {
      "cell_type": "markdown",
      "source": [
        "###Drop N/A"
      ],
      "metadata": {
        "id": "SIw_ARrwIWc_"
      }
    },
    {
      "cell_type": "code",
      "source": [
        "for column_name in df_raw.columns:\n",
        "    column = df_raw[column_name]\n",
        "    # Get the count of Zeros in column \n",
        "    count = (column == 0).sum()\n",
        "    print('Count of zeros in column ', column_name, ' is : ', count)"
      ],
      "metadata": {
        "colab": {
          "base_uri": "https://localhost:8080/"
        },
        "id": "vvInNqOUVzUA",
        "outputId": "12043216-9086-4886-8052-ce0663de6ea6"
      },
      "execution_count": null,
      "outputs": [
        {
          "output_type": "stream",
          "name": "stdout",
          "text": [
            "Count of zeros in column  R&D Spend  is :  2\n",
            "Count of zeros in column  Administration  is :  0\n",
            "Count of zeros in column  Marketing Spend  is :  1\n",
            "Count of zeros in column  Profit  is :  0\n"
          ]
        }
      ]
    },
    {
      "cell_type": "code",
      "source": [
        "cols = df_raw.columns\n",
        "df_raw[cols] = df_raw[cols].replace({'0':np.nan, 0:np.nan})"
      ],
      "metadata": {
        "id": "UU8NsHQzXj2p"
      },
      "execution_count": null,
      "outputs": []
    },
    {
      "cell_type": "code",
      "source": [
        "df_raw.isna().sum()"
      ],
      "metadata": {
        "colab": {
          "base_uri": "https://localhost:8080/"
        },
        "id": "LGn-uadKXwhA",
        "outputId": "888b238c-6cec-46a6-aee6-a6a142074d99"
      },
      "execution_count": null,
      "outputs": [
        {
          "output_type": "execute_result",
          "data": {
            "text/plain": [
              "R&D Spend          2\n",
              "Administration     0\n",
              "Marketing Spend    1\n",
              "Profit             0\n",
              "dtype: int64"
            ]
          },
          "metadata": {},
          "execution_count": 5
        }
      ]
    },
    {
      "cell_type": "code",
      "source": [
        "df_raw = df_raw.dropna()"
      ],
      "metadata": {
        "id": "zuK7cXzhX1nv"
      },
      "execution_count": null,
      "outputs": []
    },
    {
      "cell_type": "markdown",
      "source": [
        "###Minmax Normalization"
      ],
      "metadata": {
        "id": "3RbpZYwwIZVu"
      }
    },
    {
      "cell_type": "code",
      "source": [
        "df = df_raw.copy()\n",
        "  \n",
        "# minmax normalization \n",
        "for column in df.columns:\n",
        "    df[column] = (df[column] - df[column].min()) / (df[column].max() - df[column].min())    \n",
        "  \n",
        "print(df)"
      ],
      "metadata": {
        "colab": {
          "base_uri": "https://localhost:8080/"
        },
        "id": "fQ3r11zxSz4p",
        "outputId": "2e8288a8-446b-4824-e6c8-6449768325ce"
      },
      "execution_count": null,
      "outputs": [
        {
          "output_type": "stream",
          "name": "stdout",
          "text": [
            "     R&D Spend  Administration  Marketing Spend    Profit\n",
            "0     1.000000        0.785025         1.000000  1.000000\n",
            "1     0.927546        0.038905         0.864115  0.991515\n",
            "2     0.872364        0.404664         0.811474  0.934442\n",
            "3     0.796334        0.011131         0.768190  0.752956\n",
            "4     0.812997        1.000000         0.267755  0.746872\n",
            "..         ...             ...              ...       ...\n",
            "973   0.633571        0.557236         0.574014  0.625836\n",
            "974   0.278662        0.377463         0.334494  0.276816\n",
            "975   0.585393        0.532833         0.541500  0.578457\n",
            "976   0.323305        0.400076         0.364622  0.320718\n",
            "977   0.815154        0.649214         0.696561  0.804406\n",
            "\n",
            "[976 rows x 4 columns]\n"
          ]
        }
      ]
    },
    {
      "cell_type": "markdown",
      "source": [
        "###Data Splitting"
      ],
      "metadata": {
        "id": "H1HC7nxKIfdn"
      }
    },
    {
      "cell_type": "code",
      "source": [
        "train_df = df.sample(frac=0.8, random_state=0)\n",
        "test_df = df.drop(train_df.index)"
      ],
      "metadata": {
        "id": "ATXzL3CSGJqq"
      },
      "execution_count": null,
      "outputs": []
    },
    {
      "cell_type": "code",
      "source": [
        "train_features = train_df.copy()\n",
        "test_features = test_df.copy()\n",
        "\n",
        "train_labels = train_features.pop('Profit')\n",
        "test_labels = test_features.pop('Profit')"
      ],
      "metadata": {
        "id": "Rzzvetw7G8XS"
      },
      "execution_count": null,
      "outputs": []
    },
    {
      "cell_type": "markdown",
      "source": [
        "###Data Modeling"
      ],
      "metadata": {
        "id": "hRlCOLiMINlD"
      }
    },
    {
      "cell_type": "code",
      "source": [
        "normalizer = tf.keras.layers.Normalization(axis=-1)\n",
        "normalizer.adapt(np.array(train_features))\n",
        "\n",
        "model = tf.keras.Sequential([\n",
        "    normalizer,\n",
        "    tf.keras.layers.Dense(64, activation='relu'),\n",
        "    tf.keras.layers.Dense(64, activation='relu'),\n",
        "    tf.keras.layers.Dense(1)                        \n",
        "])\n",
        "\n",
        "model.compile(\n",
        "    loss = tf.keras.losses.mae,\n",
        "    optimizer = tf.optimizers.Adam(learning_rate=0.1),\n",
        "    metrics = ['mae']\n",
        ")\n",
        "\n",
        "history = model.fit(\n",
        "    train_features, \n",
        "    train_labels, \n",
        "    validation_split=0.2,\n",
        "    epochs=25)"
      ],
      "metadata": {
        "colab": {
          "base_uri": "https://localhost:8080/"
        },
        "id": "BO5FVPkAEtR6",
        "outputId": "3fc3a1b7-8004-414e-f0a8-3344f75a4747"
      },
      "execution_count": null,
      "outputs": [
        {
          "output_type": "stream",
          "name": "stdout",
          "text": [
            "Epoch 1/25\n",
            "20/20 [==============================] - 1s 12ms/step - loss: 0.8456 - mae: 0.8456 - val_loss: 0.1134 - val_mae: 0.1134\n",
            "Epoch 2/25\n",
            "20/20 [==============================] - 0s 4ms/step - loss: 0.0851 - mae: 0.0851 - val_loss: 0.0776 - val_mae: 0.0776\n",
            "Epoch 3/25\n",
            "20/20 [==============================] - 0s 3ms/step - loss: 0.0539 - mae: 0.0539 - val_loss: 0.0245 - val_mae: 0.0245\n",
            "Epoch 4/25\n",
            "20/20 [==============================] - 0s 3ms/step - loss: 0.0466 - mae: 0.0466 - val_loss: 0.0690 - val_mae: 0.0690\n",
            "Epoch 5/25\n",
            "20/20 [==============================] - 0s 3ms/step - loss: 0.0896 - mae: 0.0896 - val_loss: 0.0268 - val_mae: 0.0268\n",
            "Epoch 6/25\n",
            "20/20 [==============================] - 0s 4ms/step - loss: 0.0371 - mae: 0.0371 - val_loss: 0.0158 - val_mae: 0.0158\n",
            "Epoch 7/25\n",
            "20/20 [==============================] - 0s 4ms/step - loss: 0.0306 - mae: 0.0306 - val_loss: 0.0210 - val_mae: 0.0210\n",
            "Epoch 8/25\n",
            "20/20 [==============================] - 0s 3ms/step - loss: 0.0320 - mae: 0.0320 - val_loss: 0.0314 - val_mae: 0.0314\n",
            "Epoch 9/25\n",
            "20/20 [==============================] - 0s 4ms/step - loss: 0.0241 - mae: 0.0241 - val_loss: 0.0254 - val_mae: 0.0254\n",
            "Epoch 10/25\n",
            "20/20 [==============================] - 0s 3ms/step - loss: 0.0282 - mae: 0.0282 - val_loss: 0.0439 - val_mae: 0.0439\n",
            "Epoch 11/25\n",
            "20/20 [==============================] - 0s 3ms/step - loss: 0.0376 - mae: 0.0376 - val_loss: 0.0526 - val_mae: 0.0526\n",
            "Epoch 12/25\n",
            "20/20 [==============================] - 0s 3ms/step - loss: 0.0345 - mae: 0.0345 - val_loss: 0.0185 - val_mae: 0.0185\n",
            "Epoch 13/25\n",
            "20/20 [==============================] - 0s 3ms/step - loss: 0.0213 - mae: 0.0213 - val_loss: 0.0326 - val_mae: 0.0326\n",
            "Epoch 14/25\n",
            "20/20 [==============================] - 0s 3ms/step - loss: 0.0303 - mae: 0.0303 - val_loss: 0.0306 - val_mae: 0.0306\n",
            "Epoch 15/25\n",
            "20/20 [==============================] - 0s 4ms/step - loss: 0.0229 - mae: 0.0229 - val_loss: 0.0373 - val_mae: 0.0373\n",
            "Epoch 16/25\n",
            "20/20 [==============================] - 0s 4ms/step - loss: 0.0472 - mae: 0.0472 - val_loss: 0.0584 - val_mae: 0.0584\n",
            "Epoch 17/25\n",
            "20/20 [==============================] - 0s 3ms/step - loss: 0.0403 - mae: 0.0403 - val_loss: 0.0417 - val_mae: 0.0417\n",
            "Epoch 18/25\n",
            "20/20 [==============================] - 0s 3ms/step - loss: 0.0343 - mae: 0.0343 - val_loss: 0.0391 - val_mae: 0.0391\n",
            "Epoch 19/25\n",
            "20/20 [==============================] - 0s 4ms/step - loss: 0.0282 - mae: 0.0282 - val_loss: 0.0121 - val_mae: 0.0121\n",
            "Epoch 20/25\n",
            "20/20 [==============================] - 0s 4ms/step - loss: 0.0254 - mae: 0.0254 - val_loss: 0.0411 - val_mae: 0.0411\n",
            "Epoch 21/25\n",
            "20/20 [==============================] - 0s 3ms/step - loss: 0.0409 - mae: 0.0409 - val_loss: 0.0267 - val_mae: 0.0267\n",
            "Epoch 22/25\n",
            "20/20 [==============================] - 0s 3ms/step - loss: 0.0445 - mae: 0.0445 - val_loss: 0.0489 - val_mae: 0.0489\n",
            "Epoch 23/25\n",
            "20/20 [==============================] - 0s 3ms/step - loss: 0.0425 - mae: 0.0425 - val_loss: 0.0275 - val_mae: 0.0275\n",
            "Epoch 24/25\n",
            "20/20 [==============================] - 0s 4ms/step - loss: 0.0365 - mae: 0.0365 - val_loss: 0.0308 - val_mae: 0.0308\n",
            "Epoch 25/25\n",
            "20/20 [==============================] - 0s 4ms/step - loss: 0.0485 - mae: 0.0485 - val_loss: 0.0438 - val_mae: 0.0438\n"
          ]
        }
      ]
    },
    {
      "cell_type": "markdown",
      "source": [
        "###Data Testing"
      ],
      "metadata": {
        "id": "9wZqoB_pIIgu"
      }
    },
    {
      "cell_type": "code",
      "source": [
        "test_pred = model.predict(test_features).flatten()\n",
        "\n",
        "plt.figure(figsize=(10, 10))\n",
        "\n",
        "plt.scatter(test_labels, test_pred)\n",
        "plt.xlabel('True Values')\n",
        "plt.ylabel('Predictions')\n",
        "\n",
        "lims = [0, 1]\n",
        "plt.xlim(lims)\n",
        "plt.ylim(lims)\n",
        "_ = plt.plot(lims, lims)"
      ],
      "metadata": {
        "colab": {
          "base_uri": "https://localhost:8080/",
          "height": 610
        },
        "id": "rwM2cgWET7XB",
        "outputId": "1c2669ab-7912-4fec-bb7e-3d055de187ac"
      },
      "execution_count": null,
      "outputs": [
        {
          "output_type": "display_data",
          "data": {
            "text/plain": [
              "<Figure size 720x720 with 1 Axes>"
            ],
            "image/png": "[encoded data removed]"
          },
          "metadata": {
            "needs_background": "light"
          }
        }
      ]
    },
    {
      "cell_type": "code",
      "source": [
        "model.predict([1500000, 2000000, 500000])"
      ],
      "metadata": {
        "colab": {
          "base_uri": "https://localhost:8080/"
        },
        "id": "zF7tNZ_WE4oo",
        "outputId": "95e8c2fa-06de-453f-c660-a6982fbb0875"
      },
      "execution_count": null,
      "outputs": [
        {
          "output_type": "stream",
          "name": "stdout",
          "text": [
            "WARNING:tensorflow:Model was constructed with shape (None, None) for input KerasTensor(type_spec=TensorSpec(shape=(None, None), dtype=tf.float32, name='normalization_input'), name='normalization_input', description=\"created by layer 'normalization_input'\"), but it was called on an input with incompatible shape (None,).\n"
          ]
        },
        {
          "output_type": "execute_result",
          "data": {
            "text/plain": [
              "array([[926518.56]], dtype=float32)"
            ]
          },
          "metadata": {},
          "execution_count": 13
        }
      ]
    }
  ]
}