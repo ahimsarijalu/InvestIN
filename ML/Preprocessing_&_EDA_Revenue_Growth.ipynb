{
  "nbformat": 4,
  "nbformat_minor": 0,
  "metadata": {
    "colab": {
      "name": "Preprocessing & EDA Revenue Growth.ipynb",
      "provenance": []
    },
    "kernelspec": {
      "name": "python3",
      "display_name": "Python 3"
    },
    "language_info": {
      "name": "python"
    }
  },
  "cells": [
    {
      "cell_type": "markdown",
      "source": [
        "# Preprocess"
      ],
      "metadata": {
        "id": "q17y8kAzNDeo"
      }
    },
    {
      "cell_type": "code",
      "source": [
        "import pandas as pd\n",
        "import numpy as np\n",
        "import tensorflow as tf\n",
        "from sklearn.impute import SimpleImputer\n",
        "import matplotlib.pyplot as plt\n",
        "import seaborn as sns"
      ],
      "metadata": {
        "id": "M-Ah4UhxMMwv"
      },
      "execution_count": 6,
      "outputs": []
    },
    {
      "cell_type": "markdown",
      "source": [
        "### Load Dataset"
      ],
      "metadata": {
        "id": "HNTWWk4AgB_R"
      }
    },
    {
      "cell_type": "code",
      "source": [
        "df = pd.read_csv('2018_Financial_Data.csv')\n",
        "df.drop(df.columns[0], axis=1, inplace=True)\n",
        "df.head()"
      ],
      "metadata": {
        "colab": {
          "base_uri": "https://localhost:8080/",
          "height": 386
        },
        "id": "IF7TlozEPb1p",
        "outputId": "41e3e9ad-cf50-48a3-a12a-b813b350cb18"
      },
      "execution_count": 7,
      "outputs": [
        {
          "output_type": "execute_result",
          "data": {
            "text/plain": [
              "        Revenue  Revenue Growth  Cost of Revenue  Gross Profit  R&D Expenses  \\\n",
              "0  9.450700e+10          0.1115     0.000000e+00  9.450700e+10  0.000000e+00   \n",
              "1  1.414400e+10          0.0320     7.288000e+09  6.856000e+09  0.000000e+00   \n",
              "2  7.084800e+10          0.1289     2.711100e+10  4.373700e+10  1.354300e+10   \n",
              "3  3.039100e+10          0.4955     1.250000e+10  1.789100e+10  2.141000e+09   \n",
              "4  1.216150e+11          0.0285     9.546100e+10  2.615400e+10  0.000000e+00   \n",
              "\n",
              "   SG&A Expense  Operating Expenses  Operating Income  Interest Expense  \\\n",
              "0  6.482200e+10        7.549800e+10      1.900900e+10      3.542000e+09   \n",
              "1  6.010000e+08        3.062000e+09      3.794000e+09      1.917000e+09   \n",
              "2  6.750000e+09        2.042100e+10      2.331600e+10     -1.260000e+08   \n",
              "3  8.130000e+08        2.897000e+09      1.499400e+10      3.420000e+08   \n",
              "4  1.811100e+10        4.071100e+10     -1.455700e+10      5.059000e+09   \n",
              "\n",
              "   Earnings before Tax  ...  Receivables growth  Inventory Growth  \\\n",
              "0         1.511100e+10  ...              0.2570            0.0000   \n",
              "1         2.196000e+09  ...              0.0345           -0.0920   \n",
              "2         2.331700e+10  ...              0.1989            0.0387   \n",
              "3         1.430300e+10  ...              0.4573            0.1511   \n",
              "4        -2.177200e+10  ...             -0.2781           -0.2892   \n",
              "\n",
              "   Asset Growth  Book Value per Share Growth  Debt Growth  R&D Expense Growth  \\\n",
              "0        0.3426                       0.0722       0.7309              0.0000   \n",
              "1       -0.0024                       0.0076      -0.0137              0.0000   \n",
              "2        0.0382                       0.1014      -0.0169              0.0390   \n",
              "3        0.2275                       0.6395      -0.5841              0.1738   \n",
              "4       -0.1575                      -0.4487      -0.2297              0.0000   \n",
              "\n",
              "   SG&A Expenses Growth             Sector  2019 PRICE VAR [%]  Class  \n",
              "0                0.1308  Consumer Cyclical           32.794573      1  \n",
              "1               -0.1265             Energy           40.588068      1  \n",
              "2               -0.0942         Technology           30.295514      1  \n",
              "3                0.0942         Technology           64.213737      1  \n",
              "4                0.0308        Industrials           44.757840      1  \n",
              "\n",
              "[5 rows x 224 columns]"
            ],
            "text/html": [
              "\n",
              "  <div id=\"df-6cbded6d-f99a-4a74-9d0b-5ee77343d872\">\n",
              "    <div class=\"colab-df-container\">\n",
              "      <div>\n",
              "<style scoped>\n",
              "    .dataframe tbody tr th:only-of-type {\n",
              "        vertical-align: middle;\n",
              "    }\n",
              "\n",
              "    .dataframe tbody tr th {\n",
              "        vertical-align: top;\n",
              "    }\n",
              "\n",
              "    .dataframe thead th {\n",
              "        text-align: right;\n",
              "    }\n",
              "</style>\n",
              "<table border=\"1\" class=\"dataframe\">\n",
              "  <thead>\n",
              "    <tr style=\"text-align: right;\">\n",
              "      <th></th>\n",
              "      <th>Revenue</th>\n",
              "      <th>Revenue Growth</th>\n",
              "      <th>Cost of Revenue</th>\n",
              "      <th>Gross Profit</th>\n",
              "      <th>R&amp;D Expenses</th>\n",
              "      <th>SG&amp;A Expense</th>\n",
              "      <th>Operating Expenses</th>\n",
              "      <th>Operating Income</th>\n",
              "      <th>Interest Expense</th>\n",
              "      <th>Earnings before Tax</th>\n",
              "      <th>...</th>\n",
              "      <th>Receivables growth</th>\n",
              "      <th>Inventory Growth</th>\n",
              "      <th>Asset Growth</th>\n",
              "      <th>Book Value per Share Growth</th>\n",
              "      <th>Debt Growth</th>\n",
              "      <th>R&amp;D Expense Growth</th>\n",
              "      <th>SG&amp;A Expenses Growth</th>\n",
              "      <th>Sector</th>\n",
              "      <th>2019 PRICE VAR [%]</th>\n",
              "      <th>Class</th>\n",
              "    </tr>\n",
              "  </thead>\n",
              "  <tbody>\n",
              "    <tr>\n",
              "      <th>0</th>\n",
              "      <td>9.450700e+10</td>\n",
              "      <td>0.1115</td>\n",
              "      <td>0.000000e+00</td>\n",
              "      <td>9.450700e+10</td>\n",
              "      <td>0.000000e+00</td>\n",
              "      <td>6.482200e+10</td>\n",
              "      <td>7.549800e+10</td>\n",
              "      <td>1.900900e+10</td>\n",
              "      <td>3.542000e+09</td>\n",
              "      <td>1.511100e+10</td>\n",
              "      <td>...</td>\n",
              "      <td>0.2570</td>\n",
              "      <td>0.0000</td>\n",
              "      <td>0.3426</td>\n",
              "      <td>0.0722</td>\n",
              "      <td>0.7309</td>\n",
              "      <td>0.0000</td>\n",
              "      <td>0.1308</td>\n",
              "      <td>Consumer Cyclical</td>\n",
              "      <td>32.794573</td>\n",
              "      <td>1</td>\n",
              "    </tr>\n",
              "    <tr>\n",
              "      <th>1</th>\n",
              "      <td>1.414400e+10</td>\n",
              "      <td>0.0320</td>\n",
              "      <td>7.288000e+09</td>\n",
              "      <td>6.856000e+09</td>\n",
              "      <td>0.000000e+00</td>\n",
              "      <td>6.010000e+08</td>\n",
              "      <td>3.062000e+09</td>\n",
              "      <td>3.794000e+09</td>\n",
              "      <td>1.917000e+09</td>\n",
              "      <td>2.196000e+09</td>\n",
              "      <td>...</td>\n",
              "      <td>0.0345</td>\n",
              "      <td>-0.0920</td>\n",
              "      <td>-0.0024</td>\n",
              "      <td>0.0076</td>\n",
              "      <td>-0.0137</td>\n",
              "      <td>0.0000</td>\n",
              "      <td>-0.1265</td>\n",
              "      <td>Energy</td>\n",
              "      <td>40.588068</td>\n",
              "      <td>1</td>\n",
              "    </tr>\n",
              "    <tr>\n",
              "      <th>2</th>\n",
              "      <td>7.084800e+10</td>\n",
              "      <td>0.1289</td>\n",
              "      <td>2.711100e+10</td>\n",
              "      <td>4.373700e+10</td>\n",
              "      <td>1.354300e+10</td>\n",
              "      <td>6.750000e+09</td>\n",
              "      <td>2.042100e+10</td>\n",
              "      <td>2.331600e+10</td>\n",
              "      <td>-1.260000e+08</td>\n",
              "      <td>2.331700e+10</td>\n",
              "      <td>...</td>\n",
              "      <td>0.1989</td>\n",
              "      <td>0.0387</td>\n",
              "      <td>0.0382</td>\n",
              "      <td>0.1014</td>\n",
              "      <td>-0.0169</td>\n",
              "      <td>0.0390</td>\n",
              "      <td>-0.0942</td>\n",
              "      <td>Technology</td>\n",
              "      <td>30.295514</td>\n",
              "      <td>1</td>\n",
              "    </tr>\n",
              "    <tr>\n",
              "      <th>3</th>\n",
              "      <td>3.039100e+10</td>\n",
              "      <td>0.4955</td>\n",
              "      <td>1.250000e+10</td>\n",
              "      <td>1.789100e+10</td>\n",
              "      <td>2.141000e+09</td>\n",
              "      <td>8.130000e+08</td>\n",
              "      <td>2.897000e+09</td>\n",
              "      <td>1.499400e+10</td>\n",
              "      <td>3.420000e+08</td>\n",
              "      <td>1.430300e+10</td>\n",
              "      <td>...</td>\n",
              "      <td>0.4573</td>\n",
              "      <td>0.1511</td>\n",
              "      <td>0.2275</td>\n",
              "      <td>0.6395</td>\n",
              "      <td>-0.5841</td>\n",
              "      <td>0.1738</td>\n",
              "      <td>0.0942</td>\n",
              "      <td>Technology</td>\n",
              "      <td>64.213737</td>\n",
              "      <td>1</td>\n",
              "    </tr>\n",
              "    <tr>\n",
              "      <th>4</th>\n",
              "      <td>1.216150e+11</td>\n",
              "      <td>0.0285</td>\n",
              "      <td>9.546100e+10</td>\n",
              "      <td>2.615400e+10</td>\n",
              "      <td>0.000000e+00</td>\n",
              "      <td>1.811100e+10</td>\n",
              "      <td>4.071100e+10</td>\n",
              "      <td>-1.455700e+10</td>\n",
              "      <td>5.059000e+09</td>\n",
              "      <td>-2.177200e+10</td>\n",
              "      <td>...</td>\n",
              "      <td>-0.2781</td>\n",
              "      <td>-0.2892</td>\n",
              "      <td>-0.1575</td>\n",
              "      <td>-0.4487</td>\n",
              "      <td>-0.2297</td>\n",
              "      <td>0.0000</td>\n",
              "      <td>0.0308</td>\n",
              "      <td>Industrials</td>\n",
              "      <td>44.757840</td>\n",
              "      <td>1</td>\n",
              "    </tr>\n",
              "  </tbody>\n",
              "</table>\n",
              "<p>5 rows × 224 columns</p>\n",
              "</div>\n",
              "      <button class=\"colab-df-convert\" onclick=\"convertToInteractive('df-6cbded6d-f99a-4a74-9d0b-5ee77343d872')\"\n",
              "              title=\"Convert this dataframe to an interactive table.\"\n",
              "              style=\"display:none;\">\n",
              "        \n",
              "  <svg xmlns=\"http://www.w3.org/2000/svg\" height=\"24px\"viewBox=\"0 0 24 24\"\n",
              "       width=\"24px\">\n",
              "    <path d=\"M0 0h24v24H0V0z\" fill=\"none\"/>\n",
              "    <path d=\"M18.56 5.44l.94 2.06.94-2.06 2.06-.94-2.06-.94-.94-2.06-.94 2.06-2.06.94zm-11 1L8.5 8.5l.94-2.06 2.06-.94-2.06-.94L8.5 2.5l-.94 2.06-2.06.94zm10 10l.94 2.06.94-2.06 2.06-.94-2.06-.94-.94-2.06-.94 2.06-2.06.94z\"/><path d=\"M17.41 7.96l-1.37-1.37c-.4-.4-.92-.59-1.43-.59-.52 0-1.04.2-1.43.59L10.3 9.45l-7.72 7.72c-.78.78-.78 2.05 0 2.83L4 21.41c.39.39.9.59 1.41.59.51 0 1.02-.2 1.41-.59l7.78-7.78 2.81-2.81c.8-.78.8-2.07 0-2.86zM5.41 20L4 18.59l7.72-7.72 1.47 1.35L5.41 20z\"/>\n",
              "  </svg>\n",
              "      </button>\n",
              "      \n",
              "  <style>\n",
              "    .colab-df-container {\n",
              "      display:flex;\n",
              "      flex-wrap:wrap;\n",
              "      gap: 12px;\n",
              "    }\n",
              "\n",
              "    .colab-df-convert {\n",
              "      background-color: #E8F0FE;\n",
              "      border: none;\n",
              "      border-radius: 50%;\n",
              "      cursor: pointer;\n",
              "      display: none;\n",
              "      fill: #1967D2;\n",
              "      height: 32px;\n",
              "      padding: 0 0 0 0;\n",
              "      width: 32px;\n",
              "    }\n",
              "\n",
              "    .colab-df-convert:hover {\n",
              "      background-color: #E2EBFA;\n",
              "      box-shadow: 0px 1px 2px rgba(60, 64, 67, 0.3), 0px 1px 3px 1px rgba(60, 64, 67, 0.15);\n",
              "      fill: #174EA6;\n",
              "    }\n",
              "\n",
              "    [theme=dark] .colab-df-convert {\n",
              "      background-color: #3B4455;\n",
              "      fill: #D2E3FC;\n",
              "    }\n",
              "\n",
              "    [theme=dark] .colab-df-convert:hover {\n",
              "      background-color: #434B5C;\n",
              "      box-shadow: 0px 1px 3px 1px rgba(0, 0, 0, 0.15);\n",
              "      filter: drop-shadow(0px 1px 2px rgba(0, 0, 0, 0.3));\n",
              "      fill: #FFFFFF;\n",
              "    }\n",
              "  </style>\n",
              "\n",
              "      <script>\n",
              "        const buttonEl =\n",
              "          document.querySelector('#df-6cbded6d-f99a-4a74-9d0b-5ee77343d872 button.colab-df-convert');\n",
              "        buttonEl.style.display =\n",
              "          google.colab.kernel.accessAllowed ? 'block' : 'none';\n",
              "\n",
              "        async function convertToInteractive(key) {\n",
              "          const element = document.querySelector('#df-6cbded6d-f99a-4a74-9d0b-5ee77343d872');\n",
              "          const dataTable =\n",
              "            await google.colab.kernel.invokeFunction('convertToInteractive',\n",
              "                                                     [key], {});\n",
              "          if (!dataTable) return;\n",
              "\n",
              "          const docLinkHtml = 'Like what you see? Visit the ' +\n",
              "            '<a target=\"_blank\" href=https://colab.research.google.com/notebooks/data_table.ipynb>data table notebook</a>'\n",
              "            + ' to learn more about interactive tables.';\n",
              "          element.innerHTML = '';\n",
              "          dataTable['output_type'] = 'display_data';\n",
              "          await google.colab.output.renderOutput(dataTable, element);\n",
              "          const docLink = document.createElement('div');\n",
              "          docLink.innerHTML = docLinkHtml;\n",
              "          element.appendChild(docLink);\n",
              "        }\n",
              "      </script>\n",
              "    </div>\n",
              "  </div>\n",
              "  "
            ]
          },
          "metadata": {},
          "execution_count": 7
        }
      ]
    },
    {
      "cell_type": "code",
      "source": [
        "df.shape"
      ],
      "metadata": {
        "colab": {
          "base_uri": "https://localhost:8080/"
        },
        "id": "GUIipMfcUXPT",
        "outputId": "51a60d78-a934-45aa-9378-b0ff270a4b19"
      },
      "execution_count": 8,
      "outputs": [
        {
          "output_type": "execute_result",
          "data": {
            "text/plain": [
              "(4392, 224)"
            ]
          },
          "metadata": {},
          "execution_count": 8
        }
      ]
    },
    {
      "cell_type": "code",
      "source": [
        "class_col = df.pop('Class')"
      ],
      "metadata": {
        "id": "VrbL24W6fnmV"
      },
      "execution_count": 9,
      "outputs": []
    },
    {
      "cell_type": "code",
      "source": [
        "sec_col = df.pop('Sector')"
      ],
      "metadata": {
        "id": "Yn-pKv_sfo9V"
      },
      "execution_count": 10,
      "outputs": []
    },
    {
      "cell_type": "markdown",
      "source": [
        "###Detect Missing Values"
      ],
      "metadata": {
        "id": "MjCtBVVVfvCa"
      }
    },
    {
      "cell_type": "code",
      "source": [
        "df.isna().sum()"
      ],
      "metadata": {
        "colab": {
          "base_uri": "https://localhost:8080/"
        },
        "id": "GasQDVLmfrHl",
        "outputId": "56574f8c-0fbb-425f-ad41-079902f482a2"
      },
      "execution_count": 11,
      "outputs": [
        {
          "output_type": "execute_result",
          "data": {
            "text/plain": [
              "Revenue                         46\n",
              "Revenue Growth                 139\n",
              "Cost of Revenue                185\n",
              "Gross Profit                    64\n",
              "R&D Expenses                   237\n",
              "                              ... \n",
              "Book Value per Share Growth    271\n",
              "Debt Growth                    264\n",
              "R&D Expense Growth             259\n",
              "SG&A Expenses Growth           248\n",
              "2019 PRICE VAR [%]               0\n",
              "Length: 222, dtype: int64"
            ]
          },
          "metadata": {},
          "execution_count": 11
        }
      ]
    },
    {
      "cell_type": "code",
      "source": [
        "df = df.drop(df[df['Revenue Growth'].isna()].index)"
      ],
      "metadata": {
        "id": "Fg26rzkIPWt4"
      },
      "execution_count": 12,
      "outputs": []
    },
    {
      "cell_type": "code",
      "source": [
        "df.isna().sum().sort_values(ascending=False)"
      ],
      "metadata": {
        "colab": {
          "base_uri": "https://localhost:8080/"
        },
        "id": "PZ2LYAVIf06P",
        "outputId": "ce9de5c1-aab7-4852-8f80-0411ef028fe4"
      },
      "execution_count": 13,
      "outputs": [
        {
          "output_type": "execute_result",
          "data": {
            "text/plain": [
              "cashConversionCycle                           4247\n",
              "operatingCycle                                4247\n",
              "shortTermCoverageRatios                       1791\n",
              "10Y Shareholders Equity Growth (per Share)    1557\n",
              "priceEarningsToGrowthRatio                    1526\n",
              "                                              ... \n",
              "Gross Margin                                     0\n",
              "Earnings before Tax                              0\n",
              "Operating Income                                 0\n",
              "Gross Profit                                     0\n",
              "2019 PRICE VAR [%]                               0\n",
              "Length: 222, dtype: int64"
            ]
          },
          "metadata": {},
          "execution_count": 13
        }
      ]
    },
    {
      "cell_type": "markdown",
      "source": [
        "### Fill Missing Values"
      ],
      "metadata": {
        "id": "Bw8hEKXxgJDE"
      }
    },
    {
      "cell_type": "code",
      "source": [
        "from sklearn.impute import KNNImputer\n",
        "imputer = KNNImputer()\n",
        "df = pd.DataFrame(imputer.fit_transform(df), columns = df.columns)"
      ],
      "metadata": {
        "id": "HCwOB_ukgNbp"
      },
      "execution_count": 14,
      "outputs": []
    },
    {
      "cell_type": "code",
      "source": [
        "# Check missing values\n",
        "df.isna().sum().sort_values(ascending=False)"
      ],
      "metadata": {
        "colab": {
          "base_uri": "https://localhost:8080/"
        },
        "id": "K1ztz1IOgPhs",
        "outputId": "a2184005-6a1f-44ea-9dcd-1d960fb5d5c5"
      },
      "execution_count": 15,
      "outputs": [
        {
          "output_type": "execute_result",
          "data": {
            "text/plain": [
              "Revenue                           0\n",
              "Earnings Yield                    0\n",
              "Enterprise Value                  0\n",
              "PE ratio                          0\n",
              "Price to Sales Ratio              0\n",
              "                                 ..\n",
              "priceToSalesRatio                 0\n",
              "priceEarningsRatio                0\n",
              "priceToFreeCashFlowsRatio         0\n",
              "priceToOperatingCashFlowsRatio    0\n",
              "2019 PRICE VAR [%]                0\n",
              "Length: 222, dtype: int64"
            ]
          },
          "metadata": {},
          "execution_count": 15
        }
      ]
    },
    {
      "cell_type": "markdown",
      "source": [
        "### Make a New Dataset"
      ],
      "metadata": {
        "id": "lGUbwnnFf6Rj"
      }
    },
    {
      "cell_type": "code",
      "source": [
        "cols = [\n",
        "  'Gross Profit Growth',\n",
        "  'Gross Margin',\n",
        "  'Intangibles to Total Assets',\n",
        "  'Net Income',\n",
        "  'assetTurnover',\n",
        "  'Revenue',\n",
        "  'Interest Expense',\n",
        "  'Debt to Assets',\n",
        "  'R&D Expenses',\n",
        "  'SG&A Expense'\n",
        "]\n",
        "\n",
        "df_new = df[cols]\n",
        "labels = df['Revenue Growth']\n",
        "df_new['Revenue Growth'] = labels\n",
        "df_new.head()"
      ],
      "metadata": {
        "colab": {
          "base_uri": "https://localhost:8080/",
          "height": 409
        },
        "id": "wzD0ZOsjOuzf",
        "outputId": "811859fb-88f3-4ee8-f57b-d01a016ed0b7"
      },
      "execution_count": 16,
      "outputs": [
        {
          "output_type": "stream",
          "name": "stderr",
          "text": [
            "/usr/local/lib/python3.7/dist-packages/ipykernel_launcher.py:16: SettingWithCopyWarning: \n",
            "A value is trying to be set on a copy of a slice from a DataFrame.\n",
            "Try using .loc[row_indexer,col_indexer] = value instead\n",
            "\n",
            "See the caveats in the documentation: https://pandas.pydata.org/pandas-docs/stable/user_guide/indexing.html#returning-a-view-versus-a-copy\n",
            "  app.launch_new_instance()\n"
          ]
        },
        {
          "output_type": "execute_result",
          "data": {
            "text/plain": [
              "   Gross Profit Growth  Gross Margin  Intangibles to Total Assets  \\\n",
              "0               0.1115        1.0000                       0.6660   \n",
              "1               0.0564        0.4847                       0.3150   \n",
              "2               0.1187        0.6173                       0.2841   \n",
              "3               1.1208        0.5887                       0.0359   \n",
              "4               0.7216        0.2151                       0.1484   \n",
              "\n",
              "     Net Income  assetTurnover       Revenue  Interest Expense  \\\n",
              "0  1.173100e+10       0.375499  9.450700e+10      3.542000e+09   \n",
              "1  1.609000e+09       0.179342  1.414400e+10      1.917000e+09   \n",
              "2  2.105300e+10       0.553660  7.084800e+10     -1.260000e+08   \n",
              "3  1.413500e+10       0.700641  3.039100e+10      3.420000e+08   \n",
              "4 -2.235500e+10       0.390955  1.216150e+11      5.059000e+09   \n",
              "\n",
              "   Debt to Assets  R&D Expenses  SG&A Expense  Revenue Growth  \n",
              "0          0.4440  0.000000e+00  6.482200e+10          0.1115  \n",
              "1          0.4733  0.000000e+00  6.010000e+08          0.0320  \n",
              "2          0.2060  1.354300e+10  6.750000e+09          0.1289  \n",
              "3          0.1069  2.141000e+09  8.130000e+08          0.4955  \n",
              "4          0.3330  0.000000e+00  1.811100e+10          0.0285  "
            ],
            "text/html": [
              "\n",
              "  <div id=\"df-3b099978-96c5-466c-a6ce-b02849061f7f\">\n",
              "    <div class=\"colab-df-container\">\n",
              "      <div>\n",
              "<style scoped>\n",
              "    .dataframe tbody tr th:only-of-type {\n",
              "        vertical-align: middle;\n",
              "    }\n",
              "\n",
              "    .dataframe tbody tr th {\n",
              "        vertical-align: top;\n",
              "    }\n",
              "\n",
              "    .dataframe thead th {\n",
              "        text-align: right;\n",
              "    }\n",
              "</style>\n",
              "<table border=\"1\" class=\"dataframe\">\n",
              "  <thead>\n",
              "    <tr style=\"text-align: right;\">\n",
              "      <th></th>\n",
              "      <th>Gross Profit Growth</th>\n",
              "      <th>Gross Margin</th>\n",
              "      <th>Intangibles to Total Assets</th>\n",
              "      <th>Net Income</th>\n",
              "      <th>assetTurnover</th>\n",
              "      <th>Revenue</th>\n",
              "      <th>Interest Expense</th>\n",
              "      <th>Debt to Assets</th>\n",
              "      <th>R&amp;D Expenses</th>\n",
              "      <th>SG&amp;A Expense</th>\n",
              "      <th>Revenue Growth</th>\n",
              "    </tr>\n",
              "  </thead>\n",
              "  <tbody>\n",
              "    <tr>\n",
              "      <th>0</th>\n",
              "      <td>0.1115</td>\n",
              "      <td>1.0000</td>\n",
              "      <td>0.6660</td>\n",
              "      <td>1.173100e+10</td>\n",
              "      <td>0.375499</td>\n",
              "      <td>9.450700e+10</td>\n",
              "      <td>3.542000e+09</td>\n",
              "      <td>0.4440</td>\n",
              "      <td>0.000000e+00</td>\n",
              "      <td>6.482200e+10</td>\n",
              "      <td>0.1115</td>\n",
              "    </tr>\n",
              "    <tr>\n",
              "      <th>1</th>\n",
              "      <td>0.0564</td>\n",
              "      <td>0.4847</td>\n",
              "      <td>0.3150</td>\n",
              "      <td>1.609000e+09</td>\n",
              "      <td>0.179342</td>\n",
              "      <td>1.414400e+10</td>\n",
              "      <td>1.917000e+09</td>\n",
              "      <td>0.4733</td>\n",
              "      <td>0.000000e+00</td>\n",
              "      <td>6.010000e+08</td>\n",
              "      <td>0.0320</td>\n",
              "    </tr>\n",
              "    <tr>\n",
              "      <th>2</th>\n",
              "      <td>0.1187</td>\n",
              "      <td>0.6173</td>\n",
              "      <td>0.2841</td>\n",
              "      <td>2.105300e+10</td>\n",
              "      <td>0.553660</td>\n",
              "      <td>7.084800e+10</td>\n",
              "      <td>-1.260000e+08</td>\n",
              "      <td>0.2060</td>\n",
              "      <td>1.354300e+10</td>\n",
              "      <td>6.750000e+09</td>\n",
              "      <td>0.1289</td>\n",
              "    </tr>\n",
              "    <tr>\n",
              "      <th>3</th>\n",
              "      <td>1.1208</td>\n",
              "      <td>0.5887</td>\n",
              "      <td>0.0359</td>\n",
              "      <td>1.413500e+10</td>\n",
              "      <td>0.700641</td>\n",
              "      <td>3.039100e+10</td>\n",
              "      <td>3.420000e+08</td>\n",
              "      <td>0.1069</td>\n",
              "      <td>2.141000e+09</td>\n",
              "      <td>8.130000e+08</td>\n",
              "      <td>0.4955</td>\n",
              "    </tr>\n",
              "    <tr>\n",
              "      <th>4</th>\n",
              "      <td>0.7216</td>\n",
              "      <td>0.2151</td>\n",
              "      <td>0.1484</td>\n",
              "      <td>-2.235500e+10</td>\n",
              "      <td>0.390955</td>\n",
              "      <td>1.216150e+11</td>\n",
              "      <td>5.059000e+09</td>\n",
              "      <td>0.3330</td>\n",
              "      <td>0.000000e+00</td>\n",
              "      <td>1.811100e+10</td>\n",
              "      <td>0.0285</td>\n",
              "    </tr>\n",
              "  </tbody>\n",
              "</table>\n",
              "</div>\n",
              "      <button class=\"colab-df-convert\" onclick=\"convertToInteractive('df-3b099978-96c5-466c-a6ce-b02849061f7f')\"\n",
              "              title=\"Convert this dataframe to an interactive table.\"\n",
              "              style=\"display:none;\">\n",
              "        \n",
              "  <svg xmlns=\"http://www.w3.org/2000/svg\" height=\"24px\"viewBox=\"0 0 24 24\"\n",
              "       width=\"24px\">\n",
              "    <path d=\"M0 0h24v24H0V0z\" fill=\"none\"/>\n",
              "    <path d=\"M18.56 5.44l.94 2.06.94-2.06 2.06-.94-2.06-.94-.94-2.06-.94 2.06-2.06.94zm-11 1L8.5 8.5l.94-2.06 2.06-.94-2.06-.94L8.5 2.5l-.94 2.06-2.06.94zm10 10l.94 2.06.94-2.06 2.06-.94-2.06-.94-.94-2.06-.94 2.06-2.06.94z\"/><path d=\"M17.41 7.96l-1.37-1.37c-.4-.4-.92-.59-1.43-.59-.52 0-1.04.2-1.43.59L10.3 9.45l-7.72 7.72c-.78.78-.78 2.05 0 2.83L4 21.41c.39.39.9.59 1.41.59.51 0 1.02-.2 1.41-.59l7.78-7.78 2.81-2.81c.8-.78.8-2.07 0-2.86zM5.41 20L4 18.59l7.72-7.72 1.47 1.35L5.41 20z\"/>\n",
              "  </svg>\n",
              "      </button>\n",
              "      \n",
              "  <style>\n",
              "    .colab-df-container {\n",
              "      display:flex;\n",
              "      flex-wrap:wrap;\n",
              "      gap: 12px;\n",
              "    }\n",
              "\n",
              "    .colab-df-convert {\n",
              "      background-color: #E8F0FE;\n",
              "      border: none;\n",
              "      border-radius: 50%;\n",
              "      cursor: pointer;\n",
              "      display: none;\n",
              "      fill: #1967D2;\n",
              "      height: 32px;\n",
              "      padding: 0 0 0 0;\n",
              "      width: 32px;\n",
              "    }\n",
              "\n",
              "    .colab-df-convert:hover {\n",
              "      background-color: #E2EBFA;\n",
              "      box-shadow: 0px 1px 2px rgba(60, 64, 67, 0.3), 0px 1px 3px 1px rgba(60, 64, 67, 0.15);\n",
              "      fill: #174EA6;\n",
              "    }\n",
              "\n",
              "    [theme=dark] .colab-df-convert {\n",
              "      background-color: #3B4455;\n",
              "      fill: #D2E3FC;\n",
              "    }\n",
              "\n",
              "    [theme=dark] .colab-df-convert:hover {\n",
              "      background-color: #434B5C;\n",
              "      box-shadow: 0px 1px 3px 1px rgba(0, 0, 0, 0.15);\n",
              "      filter: drop-shadow(0px 1px 2px rgba(0, 0, 0, 0.3));\n",
              "      fill: #FFFFFF;\n",
              "    }\n",
              "  </style>\n",
              "\n",
              "      <script>\n",
              "        const buttonEl =\n",
              "          document.querySelector('#df-3b099978-96c5-466c-a6ce-b02849061f7f button.colab-df-convert');\n",
              "        buttonEl.style.display =\n",
              "          google.colab.kernel.accessAllowed ? 'block' : 'none';\n",
              "\n",
              "        async function convertToInteractive(key) {\n",
              "          const element = document.querySelector('#df-3b099978-96c5-466c-a6ce-b02849061f7f');\n",
              "          const dataTable =\n",
              "            await google.colab.kernel.invokeFunction('convertToInteractive',\n",
              "                                                     [key], {});\n",
              "          if (!dataTable) return;\n",
              "\n",
              "          const docLinkHtml = 'Like what you see? Visit the ' +\n",
              "            '<a target=\"_blank\" href=https://colab.research.google.com/notebooks/data_table.ipynb>data table notebook</a>'\n",
              "            + ' to learn more about interactive tables.';\n",
              "          element.innerHTML = '';\n",
              "          dataTable['output_type'] = 'display_data';\n",
              "          await google.colab.output.renderOutput(dataTable, element);\n",
              "          const docLink = document.createElement('div');\n",
              "          docLink.innerHTML = docLinkHtml;\n",
              "          element.appendChild(docLink);\n",
              "        }\n",
              "      </script>\n",
              "    </div>\n",
              "  </div>\n",
              "  "
            ]
          },
          "metadata": {},
          "execution_count": 16
        }
      ]
    },
    {
      "cell_type": "code",
      "source": [
        "df_new.shape"
      ],
      "metadata": {
        "colab": {
          "base_uri": "https://localhost:8080/"
        },
        "id": "tsCozMXFP4gQ",
        "outputId": "958fe13a-025f-4cab-bac2-1ef92f97f52d"
      },
      "execution_count": 17,
      "outputs": [
        {
          "output_type": "execute_result",
          "data": {
            "text/plain": [
              "(4253, 11)"
            ]
          },
          "metadata": {},
          "execution_count": 17
        }
      ]
    },
    {
      "cell_type": "markdown",
      "source": [
        "## Delete Outlier"
      ],
      "metadata": {
        "id": "YHrbqNcyU_Ta"
      }
    },
    {
      "cell_type": "code",
      "source": [
        "df_clean = df_new.copy()"
      ],
      "metadata": {
        "id": "-LYWptCKWP8O"
      },
      "execution_count": 18,
      "outputs": []
    },
    {
      "cell_type": "code",
      "source": [
        "Q1 = df_clean['Gross Profit Growth'].quantile(0.25)\n",
        "Q3 = df_clean['Gross Profit Growth'].quantile(0.75)\n",
        "\n",
        "IQR = Q3 - Q1\n",
        "print(IQR)"
      ],
      "metadata": {
        "colab": {
          "base_uri": "https://localhost:8080/"
        },
        "id": "0XytLQgFQGip",
        "outputId": "892b1026-0a7e-4672-c76e-84aea0c818aa"
      },
      "execution_count": 19,
      "outputs": [
        {
          "output_type": "stream",
          "name": "stdout",
          "text": [
            "0.2253\n"
          ]
        }
      ]
    },
    {
      "cell_type": "code",
      "source": [
        "df_clean = df_clean[df_clean['Gross Profit Growth'] > (Q1 - 1.5 * IQR)]\n",
        "df_clean = df_clean[df_clean['Gross Profit Growth'] < (Q3 + 1.5 * IQR)]"
      ],
      "metadata": {
        "id": "qP1I1T3HQd8i"
      },
      "execution_count": 20,
      "outputs": []
    },
    {
      "cell_type": "code",
      "source": [
        "df_clean.boxplot('Gross Profit Growth')"
      ],
      "metadata": {
        "colab": {
          "base_uri": "https://localhost:8080/",
          "height": 282
        },
        "id": "yEux9b-KRDY7",
        "outputId": "d2618a25-9be6-45df-aca7-67873a58657f"
      },
      "execution_count": 21,
      "outputs": [
        {
          "output_type": "execute_result",
          "data": {
            "text/plain": [
              "<matplotlib.axes._subplots.AxesSubplot at 0x7f6f9eb1cc90>"
            ]
          },
          "metadata": {},
          "execution_count": 21
        },
        {
          "output_type": "display_data",
          "data": {
            "text/plain": [
              "<Figure size 432x288 with 1 Axes>"
            ],
            "image/png": "[encoded data removed]"
          },
          "metadata": {
            "needs_background": "light"
          }
        }
      ]
    },
    {
      "cell_type": "code",
      "source": [
        "df_clean.boxplot('Gross Profit Growth')"
      ],
      "metadata": {
        "colab": {
          "base_uri": "https://localhost:8080/",
          "height": 282
        },
        "id": "suWbMOLDRU-Z",
        "outputId": "9f1d8b3b-8fba-4f8f-92a5-29d5c05ba209"
      },
      "execution_count": 22,
      "outputs": [
        {
          "output_type": "execute_result",
          "data": {
            "text/plain": [
              "<matplotlib.axes._subplots.AxesSubplot at 0x7f6f9ea5d290>"
            ]
          },
          "metadata": {},
          "execution_count": 22
        },
        {
          "output_type": "display_data",
          "data": {
            "text/plain": [
              "<Figure size 432x288 with 1 Axes>"
            ],
            "image/png": "[encoded data removed]"
          },
          "metadata": {
            "needs_background": "light"
          }
        }
      ]
    },
    {
      "cell_type": "code",
      "source": [
        "df_clean.shape"
      ],
      "metadata": {
        "colab": {
          "base_uri": "https://localhost:8080/"
        },
        "id": "Hmrs1YzhQtEM",
        "outputId": "afdecb9c-2c95-4abf-8a9d-1c2f2f15e880"
      },
      "execution_count": 23,
      "outputs": [
        {
          "output_type": "execute_result",
          "data": {
            "text/plain": [
              "(3602, 11)"
            ]
          },
          "metadata": {},
          "execution_count": 23
        }
      ]
    },
    {
      "cell_type": "code",
      "source": [
        "Q1_1 = df_clean['Gross Margin'].quantile(0.25)\n",
        "Q3_1 = df_clean['Gross Margin'].quantile(0.75)\n",
        "\n",
        "IQR_1 = Q3_1 - Q1_1\n",
        "print(IQR_1)"
      ],
      "metadata": {
        "colab": {
          "base_uri": "https://localhost:8080/"
        },
        "id": "arCcJ7E4VRXM",
        "outputId": "c0c32cb5-9e2d-4c53-bbbb-0d481ad333a0"
      },
      "execution_count": 24,
      "outputs": [
        {
          "output_type": "stream",
          "name": "stdout",
          "text": [
            "0.519925\n"
          ]
        }
      ]
    },
    {
      "cell_type": "code",
      "source": [
        "df_clean = df_clean[df_clean['Gross Margin'] > (Q1_1 - 1.5 * IQR_1)]\n",
        "df_clean = df_clean[df_clean['Gross Margin'] < (Q3_1 + 1.5 * IQR_1)]"
      ],
      "metadata": {
        "id": "g8kBXVAtViDV"
      },
      "execution_count": 25,
      "outputs": []
    },
    {
      "cell_type": "code",
      "source": [
        "df_new.boxplot('Gross Margin')"
      ],
      "metadata": {
        "colab": {
          "base_uri": "https://localhost:8080/",
          "height": 282
        },
        "id": "evPam-OvYJtJ",
        "outputId": "37ce015e-03d0-434b-88b6-feb140a02d19"
      },
      "execution_count": 26,
      "outputs": [
        {
          "output_type": "execute_result",
          "data": {
            "text/plain": [
              "<matplotlib.axes._subplots.AxesSubplot at 0x7f6f9e5c3410>"
            ]
          },
          "metadata": {},
          "execution_count": 26
        },
        {
          "output_type": "display_data",
          "data": {
            "text/plain": [
              "<Figure size 432x288 with 1 Axes>"
            ],
            "image/png": "[encoded data removed]"
          },
          "metadata": {
            "needs_background": "light"
          }
        }
      ]
    },
    {
      "cell_type": "code",
      "source": [
        "df_clean.boxplot('Gross Margin')"
      ],
      "metadata": {
        "colab": {
          "base_uri": "https://localhost:8080/",
          "height": 282
        },
        "id": "nSX3VlquVttK",
        "outputId": "afd23207-d33a-420a-8526-b14a58faaa18"
      },
      "execution_count": 27,
      "outputs": [
        {
          "output_type": "execute_result",
          "data": {
            "text/plain": [
              "<matplotlib.axes._subplots.AxesSubplot at 0x7f6f9e5294d0>"
            ]
          },
          "metadata": {},
          "execution_count": 27
        },
        {
          "output_type": "display_data",
          "data": {
            "text/plain": [
              "<Figure size 432x288 with 1 Axes>"
            ],
            "image/png": "[encoded data removed]"
          },
          "metadata": {
            "needs_background": "light"
          }
        }
      ]
    },
    {
      "cell_type": "code",
      "source": [
        "Q1_2 = df_clean['Intangibles to Total Assets'].quantile(0.25)\n",
        "Q3_2 = df_clean['Intangibles to Total Assets'].quantile(0.75)\n",
        "\n",
        "IQR_2 = Q3_2 - Q1_2\n",
        "print(IQR_2)"
      ],
      "metadata": {
        "colab": {
          "base_uri": "https://localhost:8080/"
        },
        "id": "GkmjJu-AV1QM",
        "outputId": "86bbefd1-a741-4aee-fea7-d45998e0c6a6"
      },
      "execution_count": 28,
      "outputs": [
        {
          "output_type": "stream",
          "name": "stdout",
          "text": [
            "0.29129999999999995\n"
          ]
        }
      ]
    },
    {
      "cell_type": "code",
      "source": [
        "df_clean = df_clean[df_clean['Intangibles to Total Assets'] > (Q1_2 - 1.5 * IQR_2)]\n",
        "df_clean = df_clean[df_clean['Intangibles to Total Assets'] < (Q3_2 + 1.5 * IQR_2)]"
      ],
      "metadata": {
        "id": "HXD9YgaaWDzt"
      },
      "execution_count": 29,
      "outputs": []
    },
    {
      "cell_type": "code",
      "source": [
        "df_new.boxplot('Intangibles to Total Assets')"
      ],
      "metadata": {
        "colab": {
          "base_uri": "https://localhost:8080/",
          "height": 282
        },
        "id": "jrPYOrDDYEQU",
        "outputId": "c5d0f0f1-322c-450d-b84a-5965ddd932ba"
      },
      "execution_count": 30,
      "outputs": [
        {
          "output_type": "execute_result",
          "data": {
            "text/plain": [
              "<matplotlib.axes._subplots.AxesSubplot at 0x7f6f9e529ad0>"
            ]
          },
          "metadata": {},
          "execution_count": 30
        },
        {
          "output_type": "display_data",
          "data": {
            "text/plain": [
              "<Figure size 432x288 with 1 Axes>"
            ],
            "image/png": "[encoded data removed]"
          },
          "metadata": {
            "needs_background": "light"
          }
        }
      ]
    },
    {
      "cell_type": "code",
      "source": [
        "df_clean.boxplot('Intangibles to Total Assets')"
      ],
      "metadata": {
        "colab": {
          "base_uri": "https://localhost:8080/",
          "height": 282
        },
        "id": "92r53x4EXS79",
        "outputId": "af93cf6e-8f12-4882-c594-206c83becba5"
      },
      "execution_count": 31,
      "outputs": [
        {
          "output_type": "execute_result",
          "data": {
            "text/plain": [
              "<matplotlib.axes._subplots.AxesSubplot at 0x7f6f9e46e210>"
            ]
          },
          "metadata": {},
          "execution_count": 31
        },
        {
          "output_type": "display_data",
          "data": {
            "text/plain": [
              "<Figure size 432x288 with 1 Axes>"
            ],
            "image/png": "[encoded data removed]"
          },
          "metadata": {
            "needs_background": "light"
          }
        }
      ]
    },
    {
      "cell_type": "code",
      "source": [
        "Q1_3 = df_clean['Net Income'].quantile(0.25)\n",
        "Q3_3 = df_clean['Net Income'].quantile(0.75)\n",
        "\n",
        "IQR_3 = Q3_3 - Q1_3\n",
        "print(IQR_3)"
      ],
      "metadata": {
        "colab": {
          "base_uri": "https://localhost:8080/"
        },
        "id": "YKBvGKD4W6CY",
        "outputId": "3f7cb792-d719-4cd8-e2f9-9b241898340a"
      },
      "execution_count": 32,
      "outputs": [
        {
          "output_type": "stream",
          "name": "stdout",
          "text": [
            "241636967.5\n"
          ]
        }
      ]
    },
    {
      "cell_type": "code",
      "source": [
        "df_clean = df_clean[df_clean['Net Income'] > (Q1_3 - 1.5 * IQR_3)]\n",
        "df_clean = df_clean[df_clean['Net Income'] < (Q3_3 + 1.5 * IQR_3)]"
      ],
      "metadata": {
        "id": "DdWr0FIeXt9s"
      },
      "execution_count": 33,
      "outputs": []
    },
    {
      "cell_type": "code",
      "source": [
        "df_new.boxplot('Net Income')"
      ],
      "metadata": {
        "colab": {
          "base_uri": "https://localhost:8080/",
          "height": 293
        },
        "id": "zuqtCCtdX_EL",
        "outputId": "cc32bd3f-f760-4cf1-f7c8-867c5459e50d"
      },
      "execution_count": 34,
      "outputs": [
        {
          "output_type": "execute_result",
          "data": {
            "text/plain": [
              "<matplotlib.axes._subplots.AxesSubplot at 0x7f6f9e39db90>"
            ]
          },
          "metadata": {},
          "execution_count": 34
        },
        {
          "output_type": "display_data",
          "data": {
            "text/plain": [
              "<Figure size 432x288 with 1 Axes>"
            ],
            "image/png": "[encoded data removed]"
          },
          "metadata": {
            "needs_background": "light"
          }
        }
      ]
    },
    {
      "cell_type": "code",
      "source": [
        "df_clean.boxplot('Net Income')"
      ],
      "metadata": {
        "colab": {
          "base_uri": "https://localhost:8080/",
          "height": 293
        },
        "id": "NPUUS1hIXwZ1",
        "outputId": "bc0461d6-3710-4bdd-f383-967a167ce1a5"
      },
      "execution_count": 35,
      "outputs": [
        {
          "output_type": "execute_result",
          "data": {
            "text/plain": [
              "<matplotlib.axes._subplots.AxesSubplot at 0x7f6f9e37be90>"
            ]
          },
          "metadata": {},
          "execution_count": 35
        },
        {
          "output_type": "display_data",
          "data": {
            "text/plain": [
              "<Figure size 432x288 with 1 Axes>"
            ],
            "image/png": "[encoded data removed]"
          },
          "metadata": {
            "needs_background": "light"
          }
        }
      ]
    },
    {
      "cell_type": "code",
      "source": [
        "df_clean.shape"
      ],
      "metadata": {
        "colab": {
          "base_uri": "https://localhost:8080/"
        },
        "id": "Q4ohuyr1W0bF",
        "outputId": "74455431-abd1-4e95-be0b-df28fbb8a473"
      },
      "execution_count": 36,
      "outputs": [
        {
          "output_type": "execute_result",
          "data": {
            "text/plain": [
              "(2951, 11)"
            ]
          },
          "metadata": {},
          "execution_count": 36
        }
      ]
    },
    {
      "cell_type": "code",
      "source": [
        "Q1_4 = df_clean['assetTurnover'].quantile(0.25)\n",
        "Q3_4 = df_clean['assetTurnover'].quantile(0.75)\n",
        "\n",
        "IQR_4 = Q3_4 - Q1_4\n",
        "print(IQR_4)"
      ],
      "metadata": {
        "colab": {
          "base_uri": "https://localhost:8080/"
        },
        "id": "DK9n05XcYVkw",
        "outputId": "5036906d-1839-40ec-9ed8-8929028eed18"
      },
      "execution_count": 37,
      "outputs": [
        {
          "output_type": "stream",
          "name": "stdout",
          "text": [
            "0.916383451996485\n"
          ]
        }
      ]
    },
    {
      "cell_type": "code",
      "source": [
        "df_clean = df_clean[df_clean['assetTurnover'] > (Q1_4 - 1.5 * IQR_4)]\n",
        "df_clean = df_clean[df_clean['assetTurnover'] < (Q3_4 + 1.5 * IQR_4)]"
      ],
      "metadata": {
        "id": "VtUExC37Yc8O"
      },
      "execution_count": 38,
      "outputs": []
    },
    {
      "cell_type": "code",
      "source": [
        "df_new.boxplot('assetTurnover')"
      ],
      "metadata": {
        "colab": {
          "base_uri": "https://localhost:8080/",
          "height": 282
        },
        "id": "a6Op1M0cYhqZ",
        "outputId": "3a46a92c-7fc1-458e-8beb-7fac696d509e"
      },
      "execution_count": 39,
      "outputs": [
        {
          "output_type": "execute_result",
          "data": {
            "text/plain": [
              "<matplotlib.axes._subplots.AxesSubplot at 0x7f6f9e30a410>"
            ]
          },
          "metadata": {},
          "execution_count": 39
        },
        {
          "output_type": "display_data",
          "data": {
            "text/plain": [
              "<Figure size 432x288 with 1 Axes>"
            ],
            "image/png": "[encoded data removed]"
          },
          "metadata": {
            "needs_background": "light"
          }
        }
      ]
    },
    {
      "cell_type": "code",
      "source": [
        "df_clean.boxplot('assetTurnover')"
      ],
      "metadata": {
        "colab": {
          "base_uri": "https://localhost:8080/",
          "height": 286
        },
        "id": "E4KGEKbTYjL9",
        "outputId": "779be099-47ac-40d7-d289-5feb42ad27df"
      },
      "execution_count": 40,
      "outputs": [
        {
          "output_type": "execute_result",
          "data": {
            "text/plain": [
              "<matplotlib.axes._subplots.AxesSubplot at 0x7f6f9e272290>"
            ]
          },
          "metadata": {},
          "execution_count": 40
        },
        {
          "output_type": "display_data",
          "data": {
            "text/plain": [
              "<Figure size 432x288 with 1 Axes>"
            ],
            "image/png": "[encoded data removed]"
          },
          "metadata": {
            "needs_background": "light"
          }
        }
      ]
    },
    {
      "cell_type": "code",
      "source": [
        "df_clean.shape"
      ],
      "metadata": {
        "colab": {
          "base_uri": "https://localhost:8080/"
        },
        "id": "H_K-1tD9Y56k",
        "outputId": "f2426d9c-df3c-4e65-f6cc-4c171d3b2adf"
      },
      "execution_count": 41,
      "outputs": [
        {
          "output_type": "execute_result",
          "data": {
            "text/plain": [
              "(2853, 11)"
            ]
          },
          "metadata": {},
          "execution_count": 41
        }
      ]
    },
    {
      "cell_type": "code",
      "source": [
        "Q1_5 = df_clean['Revenue'].quantile(0.25)\n",
        "Q3_5 = df_clean['Revenue'].quantile(0.75)\n",
        "\n",
        "IQR_5 = Q3_5 - Q1_5\n",
        "print(IQR_5)"
      ],
      "metadata": {
        "colab": {
          "base_uri": "https://localhost:8080/"
        },
        "id": "sJkPSvwbZAPn",
        "outputId": "0e021131-334e-4d4c-8c61-8e4968f86dac"
      },
      "execution_count": 42,
      "outputs": [
        {
          "output_type": "stream",
          "name": "stdout",
          "text": [
            "1332142000.0\n"
          ]
        }
      ]
    },
    {
      "cell_type": "code",
      "source": [
        "df_clean = df_clean[df_clean['Revenue'] > (Q1_5 - 1.5 * IQR_5)]\n",
        "df_clean = df_clean[df_clean['Revenue'] < (Q3_5 + 1.5 * IQR_5)]"
      ],
      "metadata": {
        "id": "baDPccOOZBoN"
      },
      "execution_count": 43,
      "outputs": []
    },
    {
      "cell_type": "code",
      "source": [
        "df_new.boxplot('Revenue')"
      ],
      "metadata": {
        "colab": {
          "base_uri": "https://localhost:8080/",
          "height": 293
        },
        "id": "CycEhDxCZC75",
        "outputId": "d63b4aff-228a-42af-b807-d0698138dd0f"
      },
      "execution_count": 44,
      "outputs": [
        {
          "output_type": "execute_result",
          "data": {
            "text/plain": [
              "<matplotlib.axes._subplots.AxesSubplot at 0x7f6f9e1dd9d0>"
            ]
          },
          "metadata": {},
          "execution_count": 44
        },
        {
          "output_type": "display_data",
          "data": {
            "text/plain": [
              "<Figure size 432x288 with 1 Axes>"
            ],
            "image/png": "[encoded data removed]"
          },
          "metadata": {
            "needs_background": "light"
          }
        }
      ]
    },
    {
      "cell_type": "code",
      "source": [
        "df_clean.boxplot('Revenue')"
      ],
      "metadata": {
        "colab": {
          "base_uri": "https://localhost:8080/",
          "height": 293
        },
        "id": "Mhx6MZPtZEpE",
        "outputId": "8233111a-80d1-411d-a9ee-82a7b2b64412"
      },
      "execution_count": 45,
      "outputs": [
        {
          "output_type": "execute_result",
          "data": {
            "text/plain": [
              "<matplotlib.axes._subplots.AxesSubplot at 0x7f6f9e159450>"
            ]
          },
          "metadata": {},
          "execution_count": 45
        },
        {
          "output_type": "display_data",
          "data": {
            "text/plain": [
              "<Figure size 432x288 with 1 Axes>"
            ],
            "image/png": "[encoded data removed]"
          },
          "metadata": {
            "needs_background": "light"
          }
        }
      ]
    },
    {
      "cell_type": "code",
      "source": [
        "df_clean.shape"
      ],
      "metadata": {
        "colab": {
          "base_uri": "https://localhost:8080/"
        },
        "id": "ZrBUhKkhZiqH",
        "outputId": "25f31418-9292-465f-ae27-8793f49cacf7"
      },
      "execution_count": 46,
      "outputs": [
        {
          "output_type": "execute_result",
          "data": {
            "text/plain": [
              "(2572, 11)"
            ]
          },
          "metadata": {},
          "execution_count": 46
        }
      ]
    },
    {
      "cell_type": "code",
      "source": [
        "Q1_6 = df_clean['Interest Expense'].quantile(0.25)\n",
        "Q3_6 = df_clean['Interest Expense'].quantile(0.75)\n",
        "\n",
        "IQR_6 = Q3_6 - Q1_6\n",
        "print(IQR_6)"
      ],
      "metadata": {
        "colab": {
          "base_uri": "https://localhost:8080/"
        },
        "id": "XX_O1IPJZnzx",
        "outputId": "a99db3be-920b-4bbb-8ad3-a3facfbc16e3"
      },
      "execution_count": 47,
      "outputs": [
        {
          "output_type": "stream",
          "name": "stdout",
          "text": [
            "22182750.0\n"
          ]
        }
      ]
    },
    {
      "cell_type": "code",
      "source": [
        "df_clean = df_clean[df_clean['Interest Expense'] > (Q1_6 - 1.5 * IQR_6)]\n",
        "df_clean = df_clean[df_clean['Interest Expense'] < (Q3_6 + 1.5 * IQR_6)]"
      ],
      "metadata": {
        "id": "O57qrXEhZq-R"
      },
      "execution_count": 48,
      "outputs": []
    },
    {
      "cell_type": "code",
      "source": [
        "df_new.boxplot('Interest Expense')"
      ],
      "metadata": {
        "colab": {
          "base_uri": "https://localhost:8080/",
          "height": 293
        },
        "id": "CyYps8v6ZsGL",
        "outputId": "19a9b01a-3b84-42a1-e6c9-a609bd29a078"
      },
      "execution_count": 49,
      "outputs": [
        {
          "output_type": "execute_result",
          "data": {
            "text/plain": [
              "<matplotlib.axes._subplots.AxesSubplot at 0x7f6f9e13de50>"
            ]
          },
          "metadata": {},
          "execution_count": 49
        },
        {
          "output_type": "display_data",
          "data": {
            "text/plain": [
              "<Figure size 432x288 with 1 Axes>"
            ],
            "image/png": "[encoded data removed]"
          },
          "metadata": {
            "needs_background": "light"
          }
        }
      ]
    },
    {
      "cell_type": "code",
      "source": [
        "df_clean.boxplot('Interest Expense')"
      ],
      "metadata": {
        "colab": {
          "base_uri": "https://localhost:8080/",
          "height": 293
        },
        "id": "602LOv9lZtgv",
        "outputId": "a1e280d4-0b69-4c4f-8195-e6af034f9166"
      },
      "execution_count": 50,
      "outputs": [
        {
          "output_type": "execute_result",
          "data": {
            "text/plain": [
              "<matplotlib.axes._subplots.AxesSubplot at 0x7f6f9e0ff650>"
            ]
          },
          "metadata": {},
          "execution_count": 50
        },
        {
          "output_type": "display_data",
          "data": {
            "text/plain": [
              "<Figure size 432x288 with 1 Axes>"
            ],
            "image/png": "[encoded data removed]"
          },
          "metadata": {
            "needs_background": "light"
          }
        }
      ]
    },
    {
      "cell_type": "code",
      "source": [
        "df_clean.shape"
      ],
      "metadata": {
        "colab": {
          "base_uri": "https://localhost:8080/"
        },
        "id": "Mf_oFabgaILj",
        "outputId": "f0fda4b4-1118-4261-a026-64c73ba84d8f"
      },
      "execution_count": 51,
      "outputs": [
        {
          "output_type": "execute_result",
          "data": {
            "text/plain": [
              "(2248, 11)"
            ]
          },
          "metadata": {},
          "execution_count": 51
        }
      ]
    },
    {
      "cell_type": "code",
      "source": [
        "Q1_7 = df_clean['Debt to Assets'].quantile(0.25)\n",
        "Q3_7 = df_clean['Debt to Assets'].quantile(0.75)\n",
        "\n",
        "IQR_7 = Q3_7 - Q1_7\n",
        "print(IQR_7)"
      ],
      "metadata": {
        "colab": {
          "base_uri": "https://localhost:8080/"
        },
        "outputId": "245ed174-a430-43a5-f452-40537ecb561b",
        "id": "ltNipSXWaPT3"
      },
      "execution_count": 52,
      "outputs": [
        {
          "output_type": "stream",
          "name": "stdout",
          "text": [
            "0.313\n"
          ]
        }
      ]
    },
    {
      "cell_type": "code",
      "source": [
        "df_clean = df_clean[df_clean['Debt to Assets'] > (Q1_7 - 1.5 * IQR_7)]\n",
        "df_clean = df_clean[df_clean['Debt to Assets'] < (Q3_7 + 1.5 * IQR_7)]"
      ],
      "metadata": {
        "id": "_JXo4AA_aRnI"
      },
      "execution_count": 53,
      "outputs": []
    },
    {
      "cell_type": "code",
      "source": [
        "df_new.boxplot('Debt to Assets')"
      ],
      "metadata": {
        "colab": {
          "base_uri": "https://localhost:8080/",
          "height": 282
        },
        "id": "0fUNYHJ4aUM5",
        "outputId": "b7af3b04-0796-43b5-9d80-ea0c3971769b"
      },
      "execution_count": 54,
      "outputs": [
        {
          "output_type": "execute_result",
          "data": {
            "text/plain": [
              "<matplotlib.axes._subplots.AxesSubplot at 0x7f6f9e025710>"
            ]
          },
          "metadata": {},
          "execution_count": 54
        },
        {
          "output_type": "display_data",
          "data": {
            "text/plain": [
              "<Figure size 432x288 with 1 Axes>"
            ],
            "image/png": "[encoded data removed]"
          },
          "metadata": {
            "needs_background": "light"
          }
        }
      ]
    },
    {
      "cell_type": "code",
      "source": [
        "df_clean.boxplot('Debt to Assets')"
      ],
      "metadata": {
        "colab": {
          "base_uri": "https://localhost:8080/",
          "height": 282
        },
        "id": "3gN0LdzaaVSQ",
        "outputId": "05280844-b4e8-4596-cf11-1a6493488294"
      },
      "execution_count": 55,
      "outputs": [
        {
          "output_type": "execute_result",
          "data": {
            "text/plain": [
              "<matplotlib.axes._subplots.AxesSubplot at 0x7f6f9dfdeb90>"
            ]
          },
          "metadata": {},
          "execution_count": 55
        },
        {
          "output_type": "display_data",
          "data": {
            "text/plain": [
              "<Figure size 432x288 with 1 Axes>"
            ],
            "image/png": "[encoded data removed]"
          },
          "metadata": {
            "needs_background": "light"
          }
        }
      ]
    },
    {
      "cell_type": "code",
      "source": [
        "Q1_8 = df_clean['R&D Expenses'].quantile(0.25)\n",
        "Q3_8 = df_clean['R&D Expenses'].quantile(0.75)\n",
        "\n",
        "IQR_8 = Q3_8 - Q1_8\n",
        "print(IQR_8)"
      ],
      "metadata": {
        "colab": {
          "base_uri": "https://localhost:8080/"
        },
        "outputId": "6ce8dffd-0de1-4e0d-be64-25249d0336a8",
        "id": "91HJxz3wa_4b"
      },
      "execution_count": 56,
      "outputs": [
        {
          "output_type": "stream",
          "name": "stdout",
          "text": [
            "14852750.0\n"
          ]
        }
      ]
    },
    {
      "cell_type": "code",
      "source": [
        "df_clean = df_clean[df_clean['R&D Expenses'] > (Q1_8 - 1.5 * IQR_8)]\n",
        "df_clean = df_clean[df_clean['R&D Expenses'] < (Q3_8 + 1.5 * IQR_8)]"
      ],
      "metadata": {
        "id": "wxM9YQvEa_4c"
      },
      "execution_count": 57,
      "outputs": []
    },
    {
      "cell_type": "code",
      "source": [
        "df_new.boxplot('R&D Expenses')"
      ],
      "metadata": {
        "colab": {
          "base_uri": "https://localhost:8080/",
          "height": 293
        },
        "outputId": "d2a3c31f-aa02-4774-92c7-421cbae8c607",
        "id": "1U9MeoqZa_4c"
      },
      "execution_count": 58,
      "outputs": [
        {
          "output_type": "execute_result",
          "data": {
            "text/plain": [
              "<matplotlib.axes._subplots.AxesSubplot at 0x7f6f9df0f290>"
            ]
          },
          "metadata": {},
          "execution_count": 58
        },
        {
          "output_type": "display_data",
          "data": {
            "text/plain": [
              "<Figure size 432x288 with 1 Axes>"
            ],
            "image/png": "[encoded data removed]"
          },
          "metadata": {
            "needs_background": "light"
          }
        }
      ]
    },
    {
      "cell_type": "code",
      "source": [
        "df_clean.boxplot('R&D Expenses')"
      ],
      "metadata": {
        "colab": {
          "base_uri": "https://localhost:8080/",
          "height": 293
        },
        "outputId": "f24db65c-44e6-42fb-b33f-ae34d9a37792",
        "id": "tIeQCf0ba_4d"
      },
      "execution_count": 59,
      "outputs": [
        {
          "output_type": "execute_result",
          "data": {
            "text/plain": [
              "<matplotlib.axes._subplots.AxesSubplot at 0x7f6f9de959d0>"
            ]
          },
          "metadata": {},
          "execution_count": 59
        },
        {
          "output_type": "display_data",
          "data": {
            "text/plain": [
              "<Figure size 432x288 with 1 Axes>"
            ],
            "image/png": "[encoded data removed]"
          },
          "metadata": {
            "needs_background": "light"
          }
        }
      ]
    },
    {
      "cell_type": "code",
      "source": [
        "Q1_9 = df_clean['SG&A Expense'].quantile(0.25)\n",
        "Q3_9 = df_clean['SG&A Expense'].quantile(0.75)\n",
        "\n",
        "IQR_9 = Q3_9 - Q1_9\n",
        "print(IQR_9)"
      ],
      "metadata": {
        "colab": {
          "base_uri": "https://localhost:8080/"
        },
        "outputId": "c8a9b502-3ad5-4b23-fe2b-67f0d6a06eba",
        "id": "JtXKspj_bHZ-"
      },
      "execution_count": 61,
      "outputs": [
        {
          "output_type": "stream",
          "name": "stdout",
          "text": [
            "130147732.75\n"
          ]
        }
      ]
    },
    {
      "cell_type": "code",
      "source": [
        "df_clean = df_clean[df_clean['SG&A Expense'] > (Q1_9 - 1.5 * IQR_9)]\n",
        "df_clean = df_clean[df_clean['SG&A Expense'] < (Q3_9 + 1.5 * IQR_9)]"
      ],
      "metadata": {
        "id": "7lBgy3yabHZ_"
      },
      "execution_count": 62,
      "outputs": []
    },
    {
      "cell_type": "code",
      "source": [
        "df_new.boxplot('SG&A Expense')"
      ],
      "metadata": {
        "colab": {
          "base_uri": "https://localhost:8080/",
          "height": 293
        },
        "outputId": "a28d80d3-26f9-4c11-c827-996862c64bbb",
        "id": "wbuhCnjQbHZ_"
      },
      "execution_count": 63,
      "outputs": [
        {
          "output_type": "execute_result",
          "data": {
            "text/plain": [
              "<matplotlib.axes._subplots.AxesSubplot at 0x7f6f9de83cd0>"
            ]
          },
          "metadata": {},
          "execution_count": 63
        },
        {
          "output_type": "display_data",
          "data": {
            "text/plain": [
              "<Figure size 432x288 with 1 Axes>"
            ],
            "image/png": "[encoded data removed]"
          },
          "metadata": {
            "needs_background": "light"
          }
        }
      ]
    },
    {
      "cell_type": "code",
      "source": [
        "df_clean.boxplot('SG&A Expense')"
      ],
      "metadata": {
        "colab": {
          "base_uri": "https://localhost:8080/",
          "height": 293
        },
        "outputId": "76700399-d243-42b8-dee6-6edf67cac27d",
        "id": "dhJ4lUArbHZ_"
      },
      "execution_count": 64,
      "outputs": [
        {
          "output_type": "execute_result",
          "data": {
            "text/plain": [
              "<matplotlib.axes._subplots.AxesSubplot at 0x7f6f9e49dd90>"
            ]
          },
          "metadata": {},
          "execution_count": 64
        },
        {
          "output_type": "display_data",
          "data": {
            "text/plain": [
              "<Figure size 432x288 with 1 Axes>"
            ],
            "image/png": "[encoded data removed]"
          },
          "metadata": {
            "needs_background": "light"
          }
        }
      ]
    },
    {
      "cell_type": "code",
      "source": [
        "Q1_label = df['Revenue Growth'].quantile(0.25)\n",
        "Q3_label = df['Revenue Growth'].quantile(0.75)\n",
        "\n",
        "IQR_label = Q3_label - Q1_label\n",
        "print(IQR_label)"
      ],
      "metadata": {
        "colab": {
          "base_uri": "https://localhost:8080/"
        },
        "id": "PjBksfvncEvG",
        "outputId": "31b68289-bbe2-42af-ea74-fb4c80707168"
      },
      "execution_count": 65,
      "outputs": [
        {
          "output_type": "stream",
          "name": "stdout",
          "text": [
            "0.1885\n"
          ]
        }
      ]
    },
    {
      "cell_type": "code",
      "source": [
        "df_clean = df_clean[df_clean['Revenue Growth'] > (Q1_label - 1.5 * IQR_label)]\n",
        "df_clean = df_clean[df_clean['Revenue Growth'] < (Q3_label + 1.5 * IQR_label)]"
      ],
      "metadata": {
        "id": "EoKtGg5PcHcK"
      },
      "execution_count": 66,
      "outputs": []
    },
    {
      "cell_type": "code",
      "source": [
        "df_clean.shape"
      ],
      "metadata": {
        "colab": {
          "base_uri": "https://localhost:8080/"
        },
        "id": "ZntiPvrcb5sr",
        "outputId": "9813a0f0-8317-4c56-bad0-479a8db3d2c7"
      },
      "execution_count": 67,
      "outputs": [
        {
          "output_type": "execute_result",
          "data": {
            "text/plain": [
              "(1575, 11)"
            ]
          },
          "metadata": {},
          "execution_count": 67
        }
      ]
    },
    {
      "cell_type": "markdown",
      "source": [
        "## Export Cleaned Data"
      ],
      "metadata": {
        "id": "DFEneqszdSty"
      }
    },
    {
      "cell_type": "code",
      "source": [
        "from google.colab import files\n",
        "\n",
        "df_clean.to_csv('2018_Financial_Data_Cleaned.csv') \n",
        "files.download('2018_Financial_Data_Cleaned.csv')"
      ],
      "metadata": {
        "colab": {
          "base_uri": "https://localhost:8080/",
          "height": 17
        },
        "id": "YPA0nPoFcclJ",
        "outputId": "4c16b31e-267a-4192-95b3-8454b850bc88"
      },
      "execution_count": 68,
      "outputs": [
        {
          "output_type": "display_data",
          "data": {
            "text/plain": [
              "<IPython.core.display.Javascript object>"
            ],
            "application/javascript": [
              "\n",
              "    async function download(id, filename, size) {\n",
              "      if (!google.colab.kernel.accessAllowed) {\n",
              "        return;\n",
              "      }\n",
              "      const div = document.createElement('div');\n",
              "      const label = document.createElement('label');\n",
              "      label.textContent = `Downloading \"${filename}\": `;\n",
              "      div.appendChild(label);\n",
              "      const progress = document.createElement('progress');\n",
              "      progress.max = size;\n",
              "      div.appendChild(progress);\n",
              "      document.body.appendChild(div);\n",
              "\n",
              "      const buffers = [];\n",
              "      let downloaded = 0;\n",
              "\n",
              "      const channel = await google.colab.kernel.comms.open(id);\n",
              "      // Send a message to notify the kernel that we're ready.\n",
              "      channel.send({})\n",
              "\n",
              "      for await (const message of channel.messages) {\n",
              "        // Send a message to notify the kernel that we're ready.\n",
              "        channel.send({})\n",
              "        if (message.buffers) {\n",
              "          for (const buffer of message.buffers) {\n",
              "            buffers.push(buffer);\n",
              "            downloaded += buffer.byteLength;\n",
              "            progress.value = downloaded;\n",
              "          }\n",
              "        }\n",
              "      }\n",
              "      const blob = new Blob(buffers, {type: 'application/binary'});\n",
              "      const a = document.createElement('a');\n",
              "      a.href = window.URL.createObjectURL(blob);\n",
              "      a.download = filename;\n",
              "      div.appendChild(a);\n",
              "      a.click();\n",
              "      div.remove();\n",
              "    }\n",
              "  "
            ]
          },
          "metadata": {}
        },
        {
          "output_type": "display_data",
          "data": {
            "text/plain": [
              "<IPython.core.display.Javascript object>"
            ],
            "application/javascript": [
              "download(\"download_698328f5-ad2b-41ea-9d40-d3f227c996a8\", \"2018_Financial_Data_Cleaned.csv\", 160131)"
            ]
          },
          "metadata": {}
        }
      ]
    },
    {
      "cell_type": "markdown",
      "source": [
        "## Normalize Cleaned Data"
      ],
      "metadata": {
        "id": "qDJDnpFjpSgK"
      }
    },
    {
      "cell_type": "code",
      "source": [
        "df_normalized = df_clean.copy()"
      ],
      "metadata": {
        "id": "AkWlzp_epRrn"
      },
      "execution_count": 69,
      "outputs": []
    },
    {
      "cell_type": "code",
      "source": [
        "# Minmax Normalization \n",
        "for column in df_normalized.columns:\n",
        "    df_normalized[column] = (df_normalized[column] - df_normalized[column].min()) / (df_normalized[column].max() - df_normalized[column].min())    \n",
        "  \n",
        "print(df_normalized)"
      ],
      "metadata": {
        "colab": {
          "base_uri": "https://localhost:8080/"
        },
        "id": "dyDPQHdKpsJI",
        "outputId": "50c9694b-5ff9-4a57-8b23-5f506269f149"
      },
      "execution_count": 70,
      "outputs": [
        {
          "output_type": "stream",
          "name": "stdout",
          "text": [
            "      Gross Profit Growth  Gross Margin  Intangibles to Total Assets  \\\n",
            "44               0.384226      0.752144                     0.000000   \n",
            "111              0.653578      0.412626                     0.573716   \n",
            "123              0.889964      0.401695                     0.120514   \n",
            "179              0.369824      0.407461                     0.036996   \n",
            "205              0.520927      0.529208                     0.115544   \n",
            "...                   ...           ...                          ...   \n",
            "4245             0.383213      0.250715                     0.000000   \n",
            "4247             0.383213      0.250715                     0.061154   \n",
            "4248             0.383213      0.250715                     0.000000   \n",
            "4250             0.827970      0.417841                     0.016980   \n",
            "4251             0.383213      0.250715                     0.003037   \n",
            "\n",
            "      Net Income  assetTurnover   Revenue  Interest Expense  Debt to Assets  \\\n",
            "44      0.363957       0.032932  0.003488          0.371463        0.000000   \n",
            "111     0.436685       0.315431  0.287965          0.623105        0.438873   \n",
            "123     0.000000       0.281068  1.000000          0.969472        0.259744   \n",
            "179     0.614198       0.621437  0.518814          0.377133        0.000000   \n",
            "205     0.425598       0.207071  0.115346          0.405272        0.054843   \n",
            "...          ...            ...       ...               ...             ...   \n",
            "4245    0.371225       0.030562  0.003168          0.371463        0.000000   \n",
            "4247    0.401049       0.030562  0.003168          0.371463        0.000000   \n",
            "4248    0.380400       0.030562  0.003168          0.499678        0.386061   \n",
            "4250    0.406033       0.326436  0.019613          0.385830        0.320173   \n",
            "4251    0.376776       0.030562  0.003168          0.371463        0.000000   \n",
            "\n",
            "      R&D Expenses  SG&A Expense  Revenue Growth  \n",
            "44        0.478430      0.335877        0.356211  \n",
            "111       0.182317      0.742544        0.686479  \n",
            "123       0.182317      0.579780        0.920110  \n",
            "179       0.182317      0.651832        0.463143  \n",
            "205       0.484955      0.544697        0.332052  \n",
            "...            ...           ...             ...  \n",
            "4245      0.528980      0.307466        0.354976  \n",
            "4247      0.183155      0.297922        0.354976  \n",
            "4248      0.182317      0.304266        0.354976  \n",
            "4250      0.218750      0.311169        0.658339  \n",
            "4251      0.409762      0.305885        0.354976  \n",
            "\n",
            "[1575 rows x 11 columns]\n"
          ]
        }
      ]
    },
    {
      "cell_type": "code",
      "source": [
        "fig, axes = plt.subplots(4, 1, figsize=(15, 20))\n",
        "fig.suptitle('Normalized data distribution', fontsize='xx-large')\n",
        "\n",
        "sns.boxplot(x=df_normalized['R&D Expenses'], ax=axes[0])\n",
        "axes[0].set_xlabel('R&D Expenses')\n",
        "\n",
        "sns.boxplot(x=df_normalized['Gross Profit Growth'], ax=axes[1])\n",
        "axes[1].set_xlabel('Gross Profit Growth')\n",
        "\n",
        "sns.boxplot(x=df_normalized['Gross Margin'], ax=axes[2])\n",
        "axes[2].set_xlabel('Gross Margin')\n",
        "\n",
        "sns.boxplot(x=df_normalized['Intangibles to Total Assets'], ax=axes[3])\n",
        "axes[3].set_xlabel('Intangibles to Total Assets')\n",
        "\n",
        "plt.show()"
      ],
      "metadata": {
        "colab": {
          "base_uri": "https://localhost:8080/",
          "height": 980
        },
        "id": "9YJ5QWzqp-ga",
        "outputId": "9986294f-7bd6-4591-aa26-a987b76f647d"
      },
      "execution_count": 71,
      "outputs": [
        {
          "output_type": "display_data",
          "data": {
            "text/plain": [
              "<Figure size 1080x1440 with 4 Axes>"
            ],
            "image/png": "[encoded data removed]"
          },
          "metadata": {
            "needs_background": "light"
          }
        }
      ]
    },
    {
      "cell_type": "code",
      "source": [
        "df_normalized.to_csv('2018_Financial_Data_MinMax.csv') \n",
        "files.download('2018_Financial_Data_MinMax.csv')"
      ],
      "metadata": {
        "colab": {
          "base_uri": "https://localhost:8080/",
          "height": 17
        },
        "id": "s5i5o7rutIuE",
        "outputId": "c357486e-f7dd-4a57-f636-688320031f82"
      },
      "execution_count": 72,
      "outputs": [
        {
          "output_type": "display_data",
          "data": {
            "text/plain": [
              "<IPython.core.display.Javascript object>"
            ],
            "application/javascript": [
              "\n",
              "    async function download(id, filename, size) {\n",
              "      if (!google.colab.kernel.accessAllowed) {\n",
              "        return;\n",
              "      }\n",
              "      const div = document.createElement('div');\n",
              "      const label = document.createElement('label');\n",
              "      label.textContent = `Downloading \"${filename}\": `;\n",
              "      div.appendChild(label);\n",
              "      const progress = document.createElement('progress');\n",
              "      progress.max = size;\n",
              "      div.appendChild(progress);\n",
              "      document.body.appendChild(div);\n",
              "\n",
              "      const buffers = [];\n",
              "      let downloaded = 0;\n",
              "\n",
              "      const channel = await google.colab.kernel.comms.open(id);\n",
              "      // Send a message to notify the kernel that we're ready.\n",
              "      channel.send({})\n",
              "\n",
              "      for await (const message of channel.messages) {\n",
              "        // Send a message to notify the kernel that we're ready.\n",
              "        channel.send({})\n",
              "        if (message.buffers) {\n",
              "          for (const buffer of message.buffers) {\n",
              "            buffers.push(buffer);\n",
              "            downloaded += buffer.byteLength;\n",
              "            progress.value = downloaded;\n",
              "          }\n",
              "        }\n",
              "      }\n",
              "      const blob = new Blob(buffers, {type: 'application/binary'});\n",
              "      const a = document.createElement('a');\n",
              "      a.href = window.URL.createObjectURL(blob);\n",
              "      a.download = filename;\n",
              "      div.appendChild(a);\n",
              "      a.click();\n",
              "      div.remove();\n",
              "    }\n",
              "  "
            ]
          },
          "metadata": {}
        },
        {
          "output_type": "display_data",
          "data": {
            "text/plain": [
              "<IPython.core.display.Javascript object>"
            ],
            "application/javascript": [
              "download(\"download_530436c6-2c4e-4299-ad49-63547bf92d19\", \"2018_Financial_Data_MinMax.csv\", 332929)"
            ]
          },
          "metadata": {}
        }
      ]
    },
    {
      "cell_type": "code",
      "source": [
        "def z_score(df):\n",
        "    # copy the dataframe\n",
        "    df_std = df_clean.copy()\n",
        "    # apply the z-score method\n",
        "    for column in df_std.columns:\n",
        "        df_std[column] = (df_std[column] - df_std[column].mean()) / df_std[column].std()\n",
        "        \n",
        "    return df_std\n",
        "    \n",
        "# call the z_score function\n",
        "df_standardized = z_score(df_clean)\n",
        "\n",
        "df_standardized"
      ],
      "metadata": {
        "colab": {
          "base_uri": "https://localhost:8080/",
          "height": 522
        },
        "id": "3sFJZwFIsU36",
        "outputId": "25d85488-3faa-4d0f-e30d-d6265f8cada2"
      },
      "execution_count": 73,
      "outputs": [
        {
          "output_type": "execute_result",
          "data": {
            "text/plain": [
              "      Gross Profit Growth  Gross Margin  Intangibles to Total Assets  \\\n",
              "44              -0.495079      1.341699                    -0.671247   \n",
              "111              1.013239     -0.610570                     1.751450   \n",
              "123              2.336954     -0.673426                    -0.162341   \n",
              "179             -0.575725     -0.640268                    -0.515019   \n",
              "205              0.270420      0.059792                    -0.183326   \n",
              "...                   ...           ...                          ...   \n",
              "4245            -0.500750     -1.541581                    -0.671247   \n",
              "4247            -0.500750     -1.541581                    -0.413005   \n",
              "4248            -0.500750     -1.541581                    -0.671247   \n",
              "4250             1.989802     -0.580584                    -0.599545   \n",
              "4251            -0.500750     -1.541581                    -0.658422   \n",
              "\n",
              "      Net Income  assetTurnover   Revenue  Interest Expense  Debt to Assets  \\\n",
              "44     -0.762497      -1.000915 -0.662843         -0.553527       -0.946931   \n",
              "111     0.065541       0.139622  1.085833          1.228440        0.820972   \n",
              "123    -4.906329       0.000890  5.462707          3.681189        0.099389   \n",
              "179     2.086617       1.375065  2.504863         -0.513379       -0.946931   \n",
              "205    -0.060687      -0.297859  0.024748         -0.314114       -0.726007   \n",
              "...          ...            ...       ...               ...             ...   \n",
              "4245   -0.679748      -1.010481 -0.664807         -0.553527       -0.946931   \n",
              "4247   -0.340195      -1.010481 -0.664807         -0.553527       -0.946931   \n",
              "4248   -0.575288      -1.010481 -0.664807          0.354409        0.608230   \n",
              "4250   -0.283441       0.184053 -0.563723         -0.451787        0.342815   \n",
              "4251   -0.616545      -1.010481 -0.664807         -0.553527       -0.946931   \n",
              "\n",
              "      R&D Expenses  SG&A Expense  Revenue Growth  \n",
              "44        1.151577     -0.637478       -0.631793  \n",
              "111      -0.475470      1.825011        1.191968  \n",
              "123      -0.475470      0.839426        2.482094  \n",
              "179      -0.475470      1.275723       -0.041307  \n",
              "205       1.187432      0.626988       -0.765202  \n",
              "...            ...           ...             ...  \n",
              "4245      1.429333     -0.809513       -0.638615  \n",
              "4247     -0.470867     -0.867302       -0.638615  \n",
              "4248     -0.475470     -0.828892       -0.638615  \n",
              "4250     -0.275283     -0.787093        1.036577  \n",
              "4251      0.774269     -0.819085       -0.638615  \n",
              "\n",
              "[1575 rows x 11 columns]"
            ],
            "text/html": [
              "\n",
              "  <div id=\"df-ad4569fc-2629-4a62-a19c-8ad272a014b3\">\n",
              "    <div class=\"colab-df-container\">\n",
              "      <div>\n",
              "<style scoped>\n",
              "    .dataframe tbody tr th:only-of-type {\n",
              "        vertical-align: middle;\n",
              "    }\n",
              "\n",
              "    .dataframe tbody tr th {\n",
              "        vertical-align: top;\n",
              "    }\n",
              "\n",
              "    .dataframe thead th {\n",
              "        text-align: right;\n",
              "    }\n",
              "</style>\n",
              "<table border=\"1\" class=\"dataframe\">\n",
              "  <thead>\n",
              "    <tr style=\"text-align: right;\">\n",
              "      <th></th>\n",
              "      <th>Gross Profit Growth</th>\n",
              "      <th>Gross Margin</th>\n",
              "      <th>Intangibles to Total Assets</th>\n",
              "      <th>Net Income</th>\n",
              "      <th>assetTurnover</th>\n",
              "      <th>Revenue</th>\n",
              "      <th>Interest Expense</th>\n",
              "      <th>Debt to Assets</th>\n",
              "      <th>R&amp;D Expenses</th>\n",
              "      <th>SG&amp;A Expense</th>\n",
              "      <th>Revenue Growth</th>\n",
              "    </tr>\n",
              "  </thead>\n",
              "  <tbody>\n",
              "    <tr>\n",
              "      <th>44</th>\n",
              "      <td>-0.495079</td>\n",
              "      <td>1.341699</td>\n",
              "      <td>-0.671247</td>\n",
              "      <td>-0.762497</td>\n",
              "      <td>-1.000915</td>\n",
              "      <td>-0.662843</td>\n",
              "      <td>-0.553527</td>\n",
              "      <td>-0.946931</td>\n",
              "      <td>1.151577</td>\n",
              "      <td>-0.637478</td>\n",
              "      <td>-0.631793</td>\n",
              "    </tr>\n",
              "    <tr>\n",
              "      <th>111</th>\n",
              "      <td>1.013239</td>\n",
              "      <td>-0.610570</td>\n",
              "      <td>1.751450</td>\n",
              "      <td>0.065541</td>\n",
              "      <td>0.139622</td>\n",
              "      <td>1.085833</td>\n",
              "      <td>1.228440</td>\n",
              "      <td>0.820972</td>\n",
              "      <td>-0.475470</td>\n",
              "      <td>1.825011</td>\n",
              "      <td>1.191968</td>\n",
              "    </tr>\n",
              "    <tr>\n",
              "      <th>123</th>\n",
              "      <td>2.336954</td>\n",
              "      <td>-0.673426</td>\n",
              "      <td>-0.162341</td>\n",
              "      <td>-4.906329</td>\n",
              "      <td>0.000890</td>\n",
              "      <td>5.462707</td>\n",
              "      <td>3.681189</td>\n",
              "      <td>0.099389</td>\n",
              "      <td>-0.475470</td>\n",
              "      <td>0.839426</td>\n",
              "      <td>2.482094</td>\n",
              "    </tr>\n",
              "    <tr>\n",
              "      <th>179</th>\n",
              "      <td>-0.575725</td>\n",
              "      <td>-0.640268</td>\n",
              "      <td>-0.515019</td>\n",
              "      <td>2.086617</td>\n",
              "      <td>1.375065</td>\n",
              "      <td>2.504863</td>\n",
              "      <td>-0.513379</td>\n",
              "      <td>-0.946931</td>\n",
              "      <td>-0.475470</td>\n",
              "      <td>1.275723</td>\n",
              "      <td>-0.041307</td>\n",
              "    </tr>\n",
              "    <tr>\n",
              "      <th>205</th>\n",
              "      <td>0.270420</td>\n",
              "      <td>0.059792</td>\n",
              "      <td>-0.183326</td>\n",
              "      <td>-0.060687</td>\n",
              "      <td>-0.297859</td>\n",
              "      <td>0.024748</td>\n",
              "      <td>-0.314114</td>\n",
              "      <td>-0.726007</td>\n",
              "      <td>1.187432</td>\n",
              "      <td>0.626988</td>\n",
              "      <td>-0.765202</td>\n",
              "    </tr>\n",
              "    <tr>\n",
              "      <th>...</th>\n",
              "      <td>...</td>\n",
              "      <td>...</td>\n",
              "      <td>...</td>\n",
              "      <td>...</td>\n",
              "      <td>...</td>\n",
              "      <td>...</td>\n",
              "      <td>...</td>\n",
              "      <td>...</td>\n",
              "      <td>...</td>\n",
              "      <td>...</td>\n",
              "      <td>...</td>\n",
              "    </tr>\n",
              "    <tr>\n",
              "      <th>4245</th>\n",
              "      <td>-0.500750</td>\n",
              "      <td>-1.541581</td>\n",
              "      <td>-0.671247</td>\n",
              "      <td>-0.679748</td>\n",
              "      <td>-1.010481</td>\n",
              "      <td>-0.664807</td>\n",
              "      <td>-0.553527</td>\n",
              "      <td>-0.946931</td>\n",
              "      <td>1.429333</td>\n",
              "      <td>-0.809513</td>\n",
              "      <td>-0.638615</td>\n",
              "    </tr>\n",
              "    <tr>\n",
              "      <th>4247</th>\n",
              "      <td>-0.500750</td>\n",
              "      <td>-1.541581</td>\n",
              "      <td>-0.413005</td>\n",
              "      <td>-0.340195</td>\n",
              "      <td>-1.010481</td>\n",
              "      <td>-0.664807</td>\n",
              "      <td>-0.553527</td>\n",
              "      <td>-0.946931</td>\n",
              "      <td>-0.470867</td>\n",
              "      <td>-0.867302</td>\n",
              "      <td>-0.638615</td>\n",
              "    </tr>\n",
              "    <tr>\n",
              "      <th>4248</th>\n",
              "      <td>-0.500750</td>\n",
              "      <td>-1.541581</td>\n",
              "      <td>-0.671247</td>\n",
              "      <td>-0.575288</td>\n",
              "      <td>-1.010481</td>\n",
              "      <td>-0.664807</td>\n",
              "      <td>0.354409</td>\n",
              "      <td>0.608230</td>\n",
              "      <td>-0.475470</td>\n",
              "      <td>-0.828892</td>\n",
              "      <td>-0.638615</td>\n",
              "    </tr>\n",
              "    <tr>\n",
              "      <th>4250</th>\n",
              "      <td>1.989802</td>\n",
              "      <td>-0.580584</td>\n",
              "      <td>-0.599545</td>\n",
              "      <td>-0.283441</td>\n",
              "      <td>0.184053</td>\n",
              "      <td>-0.563723</td>\n",
              "      <td>-0.451787</td>\n",
              "      <td>0.342815</td>\n",
              "      <td>-0.275283</td>\n",
              "      <td>-0.787093</td>\n",
              "      <td>1.036577</td>\n",
              "    </tr>\n",
              "    <tr>\n",
              "      <th>4251</th>\n",
              "      <td>-0.500750</td>\n",
              "      <td>-1.541581</td>\n",
              "      <td>-0.658422</td>\n",
              "      <td>-0.616545</td>\n",
              "      <td>-1.010481</td>\n",
              "      <td>-0.664807</td>\n",
              "      <td>-0.553527</td>\n",
              "      <td>-0.946931</td>\n",
              "      <td>0.774269</td>\n",
              "      <td>-0.819085</td>\n",
              "      <td>-0.638615</td>\n",
              "    </tr>\n",
              "  </tbody>\n",
              "</table>\n",
              "<p>1575 rows × 11 columns</p>\n",
              "</div>\n",
              "      <button class=\"colab-df-convert\" onclick=\"convertToInteractive('df-ad4569fc-2629-4a62-a19c-8ad272a014b3')\"\n",
              "              title=\"Convert this dataframe to an interactive table.\"\n",
              "              style=\"display:none;\">\n",
              "        \n",
              "  <svg xmlns=\"http://www.w3.org/2000/svg\" height=\"24px\"viewBox=\"0 0 24 24\"\n",
              "       width=\"24px\">\n",
              "    <path d=\"M0 0h24v24H0V0z\" fill=\"none\"/>\n",
              "    <path d=\"M18.56 5.44l.94 2.06.94-2.06 2.06-.94-2.06-.94-.94-2.06-.94 2.06-2.06.94zm-11 1L8.5 8.5l.94-2.06 2.06-.94-2.06-.94L8.5 2.5l-.94 2.06-2.06.94zm10 10l.94 2.06.94-2.06 2.06-.94-2.06-.94-.94-2.06-.94 2.06-2.06.94z\"/><path d=\"M17.41 7.96l-1.37-1.37c-.4-.4-.92-.59-1.43-.59-.52 0-1.04.2-1.43.59L10.3 9.45l-7.72 7.72c-.78.78-.78 2.05 0 2.83L4 21.41c.39.39.9.59 1.41.59.51 0 1.02-.2 1.41-.59l7.78-7.78 2.81-2.81c.8-.78.8-2.07 0-2.86zM5.41 20L4 18.59l7.72-7.72 1.47 1.35L5.41 20z\"/>\n",
              "  </svg>\n",
              "      </button>\n",
              "      \n",
              "  <style>\n",
              "    .colab-df-container {\n",
              "      display:flex;\n",
              "      flex-wrap:wrap;\n",
              "      gap: 12px;\n",
              "    }\n",
              "\n",
              "    .colab-df-convert {\n",
              "      background-color: #E8F0FE;\n",
              "      border: none;\n",
              "      border-radius: 50%;\n",
              "      cursor: pointer;\n",
              "      display: none;\n",
              "      fill: #1967D2;\n",
              "      height: 32px;\n",
              "      padding: 0 0 0 0;\n",
              "      width: 32px;\n",
              "    }\n",
              "\n",
              "    .colab-df-convert:hover {\n",
              "      background-color: #E2EBFA;\n",
              "      box-shadow: 0px 1px 2px rgba(60, 64, 67, 0.3), 0px 1px 3px 1px rgba(60, 64, 67, 0.15);\n",
              "      fill: #174EA6;\n",
              "    }\n",
              "\n",
              "    [theme=dark] .colab-df-convert {\n",
              "      background-color: #3B4455;\n",
              "      fill: #D2E3FC;\n",
              "    }\n",
              "\n",
              "    [theme=dark] .colab-df-convert:hover {\n",
              "      background-color: #434B5C;\n",
              "      box-shadow: 0px 1px 3px 1px rgba(0, 0, 0, 0.15);\n",
              "      filter: drop-shadow(0px 1px 2px rgba(0, 0, 0, 0.3));\n",
              "      fill: #FFFFFF;\n",
              "    }\n",
              "  </style>\n",
              "\n",
              "      <script>\n",
              "        const buttonEl =\n",
              "          document.querySelector('#df-ad4569fc-2629-4a62-a19c-8ad272a014b3 button.colab-df-convert');\n",
              "        buttonEl.style.display =\n",
              "          google.colab.kernel.accessAllowed ? 'block' : 'none';\n",
              "\n",
              "        async function convertToInteractive(key) {\n",
              "          const element = document.querySelector('#df-ad4569fc-2629-4a62-a19c-8ad272a014b3');\n",
              "          const dataTable =\n",
              "            await google.colab.kernel.invokeFunction('convertToInteractive',\n",
              "                                                     [key], {});\n",
              "          if (!dataTable) return;\n",
              "\n",
              "          const docLinkHtml = 'Like what you see? Visit the ' +\n",
              "            '<a target=\"_blank\" href=https://colab.research.google.com/notebooks/data_table.ipynb>data table notebook</a>'\n",
              "            + ' to learn more about interactive tables.';\n",
              "          element.innerHTML = '';\n",
              "          dataTable['output_type'] = 'display_data';\n",
              "          await google.colab.output.renderOutput(dataTable, element);\n",
              "          const docLink = document.createElement('div');\n",
              "          docLink.innerHTML = docLinkHtml;\n",
              "          element.appendChild(docLink);\n",
              "        }\n",
              "      </script>\n",
              "    </div>\n",
              "  </div>\n",
              "  "
            ]
          },
          "metadata": {},
          "execution_count": 73
        }
      ]
    },
    {
      "cell_type": "code",
      "source": [
        "fig, axes = plt.subplots(4, 1, figsize=(15, 20))\n",
        "fig.suptitle('Normalized data distribution', fontsize='xx-large')\n",
        "\n",
        "sns.boxplot(x=df_standardized['R&D Expenses'], ax=axes[0])\n",
        "axes[0].set_xlabel('R&D Expenses')\n",
        "\n",
        "sns.boxplot(x=df_standardized['Gross Profit Growth'], ax=axes[1])\n",
        "axes[1].set_xlabel('Gross Profit Growth')\n",
        "\n",
        "sns.boxplot(x=df_standardized['Gross Margin'], ax=axes[2])\n",
        "axes[2].set_xlabel('Gross Margin')\n",
        "\n",
        "sns.boxplot(x=df_standardized['Intangibles to Total Assets'], ax=axes[3])\n",
        "axes[3].set_xlabel('Intangibles to Total Assets')\n",
        "\n",
        "plt.show()"
      ],
      "metadata": {
        "colab": {
          "base_uri": "https://localhost:8080/",
          "height": 980
        },
        "id": "gZ_F53QWsvpj",
        "outputId": "63dcf849-9811-468d-f20e-c34d254e8c69"
      },
      "execution_count": 74,
      "outputs": [
        {
          "output_type": "display_data",
          "data": {
            "text/plain": [
              "<Figure size 1080x1440 with 4 Axes>"
            ],
            "image/png": "[encoded data removed]"
          },
          "metadata": {
            "needs_background": "light"
          }
        }
      ]
    },
    {
      "cell_type": "code",
      "source": [
        "df_standardized.to_csv('2018_Financial_Data_ZScore.csv') \n",
        "files.download('2018_Financial_Data_ZScore.csv')"
      ],
      "metadata": {
        "colab": {
          "base_uri": "https://localhost:8080/",
          "height": 17
        },
        "id": "CfbvY-yctaIl",
        "outputId": "da78094b-d2c5-4afe-fa67-c6933cf0f1dc"
      },
      "execution_count": 75,
      "outputs": [
        {
          "output_type": "display_data",
          "data": {
            "text/plain": [
              "<IPython.core.display.Javascript object>"
            ],
            "application/javascript": [
              "\n",
              "    async function download(id, filename, size) {\n",
              "      if (!google.colab.kernel.accessAllowed) {\n",
              "        return;\n",
              "      }\n",
              "      const div = document.createElement('div');\n",
              "      const label = document.createElement('label');\n",
              "      label.textContent = `Downloading \"${filename}\": `;\n",
              "      div.appendChild(label);\n",
              "      const progress = document.createElement('progress');\n",
              "      progress.max = size;\n",
              "      div.appendChild(progress);\n",
              "      document.body.appendChild(div);\n",
              "\n",
              "      const buffers = [];\n",
              "      let downloaded = 0;\n",
              "\n",
              "      const channel = await google.colab.kernel.comms.open(id);\n",
              "      // Send a message to notify the kernel that we're ready.\n",
              "      channel.send({})\n",
              "\n",
              "      for await (const message of channel.messages) {\n",
              "        // Send a message to notify the kernel that we're ready.\n",
              "        channel.send({})\n",
              "        if (message.buffers) {\n",
              "          for (const buffer of message.buffers) {\n",
              "            buffers.push(buffer);\n",
              "            downloaded += buffer.byteLength;\n",
              "            progress.value = downloaded;\n",
              "          }\n",
              "        }\n",
              "      }\n",
              "      const blob = new Blob(buffers, {type: 'application/binary'});\n",
              "      const a = document.createElement('a');\n",
              "      a.href = window.URL.createObjectURL(blob);\n",
              "      a.download = filename;\n",
              "      div.appendChild(a);\n",
              "      a.click();\n",
              "      div.remove();\n",
              "    }\n",
              "  "
            ]
          },
          "metadata": {}
        },
        {
          "output_type": "display_data",
          "data": {
            "text/plain": [
              "<IPython.core.display.Javascript object>"
            ],
            "application/javascript": [
              "download(\"download_c0f6f3f7-340f-411c-9484-5db311b735ae\", \"2018_Financial_Data_ZScore.csv\", 351296)"
            ]
          },
          "metadata": {}
        }
      ]
    }
  ]
}